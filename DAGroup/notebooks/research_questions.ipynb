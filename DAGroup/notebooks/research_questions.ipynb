{
 "cells": [
  {
   "cell_type": "markdown",
   "source": [
    "Quais hábitos de vida estão associados à depressão?\n",
    "É possível quantificar o grau de impacto de cada hábito, considerando tanto as influências positivas quanto negativas?\n",
    "A influência desses fatores varia ao longo do curso da vida?\n",
    "Será que o consumo de ultraprocessados está associado ao desenvolvimento da depressão?\n",
    "Será que as pessoas que possuem depressão também possuem outras doenças crônicas que estão associadas com alto consumo de ultraprocessados como obesidade?"
   ],
   "metadata": {
    "collapsed": false
   }
  },
  {
   "cell_type": "code",
   "execution_count": null,
   "outputs": [],
   "source": [
    "%load_ext autoreload\n",
    "%autoreload 2\n",
    "import sys\n",
    "sys.path.insert(0, '../src')\n",
    "\n",
    "from pathlib import Path\n",
    "import pandas as pd\n",
    "from zipfile import ZipFile\n",
    "from scipy.stats import pearsonr\n",
    "from pns_dict import PNS_DICT\n",
    "\n",
    "PNS_DATA = Path('../data/processed/PNS_2019/all.zip').resolve()\n",
    "zip_pns = ZipFile(PNS_DATA)\n",
    "df = pd.read_csv(zip_pns.open(zip_pns.namelist()[0]), sep=\",\", low_memory=False)"
   ],
   "metadata": {
    "collapsed": false
   }
  }
 ],
 "metadata": {
  "kernelspec": {
   "display_name": "Python 3",
   "language": "python",
   "name": "python3"
  },
  "language_info": {
   "codemirror_mode": {
    "name": "ipython",
    "version": 2
   },
   "file_extension": ".py",
   "mimetype": "text/x-python",
   "name": "python",
   "nbconvert_exporter": "python",
   "pygments_lexer": "ipython2",
   "version": "2.7.6"
  }
 },
 "nbformat": 4,
 "nbformat_minor": 0
}
