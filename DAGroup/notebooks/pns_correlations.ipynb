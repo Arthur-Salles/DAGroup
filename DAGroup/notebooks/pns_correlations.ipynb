{
 "cells": [
  {
   "cell_type": "code",
   "execution_count": 23,
   "metadata": {
    "collapsed": true,
    "ExecuteTime": {
     "end_time": "2023-05-19T11:17:48.133324003Z",
     "start_time": "2023-05-19T11:17:45.186889175Z"
    }
   },
   "outputs": [
    {
     "name": "stdout",
     "output_type": "stream",
     "text": [
      "The autoreload extension is already loaded. To reload it, use:\n",
      "  %reload_ext autoreload\n"
     ]
    }
   ],
   "source": [
    "%load_ext autoreload\n",
    "%autoreload 2\n",
    "import sys\n",
    "sys.path.insert(0, '../src')\n",
    "\n",
    "from pathlib import Path\n",
    "import pandas as pd\n",
    "from zipfile import ZipFile\n",
    "from scipy.stats import pearsonr\n",
    "from pns_dict import PNS_DICT\n",
    "\n",
    "PNS_DATA = Path('../data/processed/PNS_2019/all.zip').resolve()\n",
    "zip_pns = ZipFile(PNS_DATA)\n",
    "df = pd.read_csv(zip_pns.open(zip_pns.namelist()[0]), sep=\",\", low_memory=False)"
   ]
  },
  {
   "cell_type": "code",
   "execution_count": 19,
   "outputs": [
    {
     "ename": "KeyError",
     "evalue": "'phq9_total'",
     "output_type": "error",
     "traceback": [
      "\u001B[0;31m---------------------------------------------------------------------------\u001B[0m",
      "\u001B[0;31mKeyError\u001B[0m                                  Traceback (most recent call last)",
      "File \u001B[0;32m~/.local/lib/python3.10/site-packages/pandas/core/indexes/base.py:3652\u001B[0m, in \u001B[0;36mIndex.get_loc\u001B[0;34m(self, key)\u001B[0m\n\u001B[1;32m   3651\u001B[0m \u001B[38;5;28;01mtry\u001B[39;00m:\n\u001B[0;32m-> 3652\u001B[0m     \u001B[38;5;28;01mreturn\u001B[39;00m \u001B[38;5;28;43mself\u001B[39;49m\u001B[38;5;241;43m.\u001B[39;49m\u001B[43m_engine\u001B[49m\u001B[38;5;241;43m.\u001B[39;49m\u001B[43mget_loc\u001B[49m\u001B[43m(\u001B[49m\u001B[43mcasted_key\u001B[49m\u001B[43m)\u001B[49m\n\u001B[1;32m   3653\u001B[0m \u001B[38;5;28;01mexcept\u001B[39;00m \u001B[38;5;167;01mKeyError\u001B[39;00m \u001B[38;5;28;01mas\u001B[39;00m err:\n",
      "File \u001B[0;32m~/.local/lib/python3.10/site-packages/pandas/_libs/index.pyx:147\u001B[0m, in \u001B[0;36mpandas._libs.index.IndexEngine.get_loc\u001B[0;34m()\u001B[0m\n",
      "File \u001B[0;32m~/.local/lib/python3.10/site-packages/pandas/_libs/index.pyx:176\u001B[0m, in \u001B[0;36mpandas._libs.index.IndexEngine.get_loc\u001B[0;34m()\u001B[0m\n",
      "File \u001B[0;32mpandas/_libs/hashtable_class_helper.pxi:7080\u001B[0m, in \u001B[0;36mpandas._libs.hashtable.PyObjectHashTable.get_item\u001B[0;34m()\u001B[0m\n",
      "File \u001B[0;32mpandas/_libs/hashtable_class_helper.pxi:7088\u001B[0m, in \u001B[0;36mpandas._libs.hashtable.PyObjectHashTable.get_item\u001B[0;34m()\u001B[0m\n",
      "\u001B[0;31mKeyError\u001B[0m: 'phq9_total'",
      "\nThe above exception was the direct cause of the following exception:\n",
      "\u001B[0;31mKeyError\u001B[0m                                  Traceback (most recent call last)",
      "Cell \u001B[0;32mIn[19], line 1\u001B[0m\n\u001B[0;32m----> 1\u001B[0m \u001B[43mdf\u001B[49m\u001B[43m[\u001B[49m\u001B[38;5;124;43m'\u001B[39;49m\u001B[38;5;124;43mphq9_total\u001B[39;49m\u001B[38;5;124;43m'\u001B[39;49m\u001B[43m]\u001B[49m\n",
      "File \u001B[0;32m~/.local/lib/python3.10/site-packages/pandas/core/frame.py:3761\u001B[0m, in \u001B[0;36mDataFrame.__getitem__\u001B[0;34m(self, key)\u001B[0m\n\u001B[1;32m   3759\u001B[0m \u001B[38;5;28;01mif\u001B[39;00m \u001B[38;5;28mself\u001B[39m\u001B[38;5;241m.\u001B[39mcolumns\u001B[38;5;241m.\u001B[39mnlevels \u001B[38;5;241m>\u001B[39m \u001B[38;5;241m1\u001B[39m:\n\u001B[1;32m   3760\u001B[0m     \u001B[38;5;28;01mreturn\u001B[39;00m \u001B[38;5;28mself\u001B[39m\u001B[38;5;241m.\u001B[39m_getitem_multilevel(key)\n\u001B[0;32m-> 3761\u001B[0m indexer \u001B[38;5;241m=\u001B[39m \u001B[38;5;28;43mself\u001B[39;49m\u001B[38;5;241;43m.\u001B[39;49m\u001B[43mcolumns\u001B[49m\u001B[38;5;241;43m.\u001B[39;49m\u001B[43mget_loc\u001B[49m\u001B[43m(\u001B[49m\u001B[43mkey\u001B[49m\u001B[43m)\u001B[49m\n\u001B[1;32m   3762\u001B[0m \u001B[38;5;28;01mif\u001B[39;00m is_integer(indexer):\n\u001B[1;32m   3763\u001B[0m     indexer \u001B[38;5;241m=\u001B[39m [indexer]\n",
      "File \u001B[0;32m~/.local/lib/python3.10/site-packages/pandas/core/indexes/base.py:3654\u001B[0m, in \u001B[0;36mIndex.get_loc\u001B[0;34m(self, key)\u001B[0m\n\u001B[1;32m   3652\u001B[0m     \u001B[38;5;28;01mreturn\u001B[39;00m \u001B[38;5;28mself\u001B[39m\u001B[38;5;241m.\u001B[39m_engine\u001B[38;5;241m.\u001B[39mget_loc(casted_key)\n\u001B[1;32m   3653\u001B[0m \u001B[38;5;28;01mexcept\u001B[39;00m \u001B[38;5;167;01mKeyError\u001B[39;00m \u001B[38;5;28;01mas\u001B[39;00m err:\n\u001B[0;32m-> 3654\u001B[0m     \u001B[38;5;28;01mraise\u001B[39;00m \u001B[38;5;167;01mKeyError\u001B[39;00m(key) \u001B[38;5;28;01mfrom\u001B[39;00m \u001B[38;5;21;01merr\u001B[39;00m\n\u001B[1;32m   3655\u001B[0m \u001B[38;5;28;01mexcept\u001B[39;00m \u001B[38;5;167;01mTypeError\u001B[39;00m:\n\u001B[1;32m   3656\u001B[0m     \u001B[38;5;66;03m# If we have a listlike key, _check_indexing_error will raise\u001B[39;00m\n\u001B[1;32m   3657\u001B[0m     \u001B[38;5;66;03m#  InvalidIndexError. Otherwise we fall through and re-raise\u001B[39;00m\n\u001B[1;32m   3658\u001B[0m     \u001B[38;5;66;03m#  the TypeError.\u001B[39;00m\n\u001B[1;32m   3659\u001B[0m     \u001B[38;5;28mself\u001B[39m\u001B[38;5;241m.\u001B[39m_check_indexing_error(key)\n",
      "\u001B[0;31mKeyError\u001B[0m: 'phq9_total'"
     ]
    }
   ],
   "source": [
    "df['phq9_total']"
   ],
   "metadata": {
    "collapsed": false,
    "ExecuteTime": {
     "end_time": "2023-05-19T11:16:47.506443482Z",
     "start_time": "2023-05-19T11:16:47.461594609Z"
    }
   }
  },
  {
   "cell_type": "code",
   "execution_count": 25,
   "outputs": [
    {
     "data": {
      "text/plain": "{1: 'Sim', 2: 'Não', 9: 'Ignorado'}"
     },
     "execution_count": 25,
     "metadata": {},
     "output_type": "execute_result"
    }
   ],
   "source": [
    "PNS_DICT.get_pv_dict('J007')"
   ],
   "metadata": {
    "collapsed": false,
    "ExecuteTime": {
     "end_time": "2023-05-19T11:23:18.991106054Z",
     "start_time": "2023-05-19T11:23:18.950701966Z"
    }
   }
  },
  {
   "cell_type": "code",
   "execution_count": 24,
   "outputs": [
    {
     "name": "stderr",
     "output_type": "stream",
     "text": [
      "/home/anderson/.local/lib/python3.10/site-packages/scipy/stats/_stats_py.py:4424: ConstantInputWarning: An input array is constant; the correlation coefficient is not defined.\n",
      "  warnings.warn(stats.ConstantInputWarning(msg))\n"
     ]
    },
    {
     "name": "stdout",
     "output_type": "stream",
     "text": [
      "['J01802', 'J022010', 'J03102', 'J052', 'M008', 'P05403', 'P05406', 'P05408', 'P05409', 'P05411', 'P05412', 'P05414', 'P05415', 'P05417', 'P05418', 'P05421', 'P05422', 'P05601', 'P05604', 'P05605', 'Q070', 'Q11605', 'Q11606', 'Q121010', 'Q121011', 'Q121012', 'Q121013', 'Q121014', 'Q121015', 'Q121016', 'Q12102', 'Q12103', 'Q12104', 'Q12105', 'Q12106', 'Q12107', 'Q12108', 'Q12109', 'Q12201', 'V029', 'V03503', 'renda_trabalho']\n"
     ]
    },
    {
     "name": "stderr",
     "output_type": "stream",
     "text": [
      "/home/anderson/.local/lib/python3.10/site-packages/scipy/stats/_stats_py.py:4424: ConstantInputWarning: An input array is constant; the correlation coefficient is not defined.\n",
      "  warnings.warn(stats.ConstantInputWarning(msg))\n"
     ]
    },
    {
     "data": {
      "text/plain": "                 feature                                               desc   \n0                A002010  Qual é o material que predomina na construção ...  \\\n1                A003010  Material predominante na cobertura (telhado) d...   \n2                A004010  Qual é o material que predomina no piso deste ...   \n3                A005010  Qual é a principal forma de abastecimento de á...   \n4                A005012  Este domicílio está ligado à rede geral de dis...   \n..                   ...                                                ...   \n332            tipo_area                                       Tipo de área   \n333  tipo_uniao_conjugue                     Qual é a natureza dessa união?   \n334            tipo_zona                        Tipo de situação censitária   \n335                   uf                               Unidade da Federação   \n336        vive_conjugue  Cônjuge ou companheiro(a) mora em nesse domicí...   \n\n     statistic       p-value  \n0    -0.023355  2.075013e-09  \n1    -0.003539  3.639715e-01  \n2    -0.003841  3.244597e-01  \n3    -0.051236  1.669593e-39  \n4    -0.025680  1.339675e-03  \n..         ...           ...  \n332  -0.041430  2.115271e-26  \n333   0.030494  4.388313e-10  \n334  -0.075888  1.222891e-84  \n335   0.012527  1.311502e-03  \n336   0.080744  1.335089e-95  \n\n[337 rows x 4 columns]",
      "text/html": "<div>\n<style scoped>\n    .dataframe tbody tr th:only-of-type {\n        vertical-align: middle;\n    }\n\n    .dataframe tbody tr th {\n        vertical-align: top;\n    }\n\n    .dataframe thead th {\n        text-align: right;\n    }\n</style>\n<table border=\"1\" class=\"dataframe\">\n  <thead>\n    <tr style=\"text-align: right;\">\n      <th></th>\n      <th>feature</th>\n      <th>desc</th>\n      <th>statistic</th>\n      <th>p-value</th>\n    </tr>\n  </thead>\n  <tbody>\n    <tr>\n      <th>0</th>\n      <td>A002010</td>\n      <td>Qual é o material que predomina na construção ...</td>\n      <td>-0.023355</td>\n      <td>2.075013e-09</td>\n    </tr>\n    <tr>\n      <th>1</th>\n      <td>A003010</td>\n      <td>Material predominante na cobertura (telhado) d...</td>\n      <td>-0.003539</td>\n      <td>3.639715e-01</td>\n    </tr>\n    <tr>\n      <th>2</th>\n      <td>A004010</td>\n      <td>Qual é o material que predomina no piso deste ...</td>\n      <td>-0.003841</td>\n      <td>3.244597e-01</td>\n    </tr>\n    <tr>\n      <th>3</th>\n      <td>A005010</td>\n      <td>Qual é a principal forma de abastecimento de á...</td>\n      <td>-0.051236</td>\n      <td>1.669593e-39</td>\n    </tr>\n    <tr>\n      <th>4</th>\n      <td>A005012</td>\n      <td>Este domicílio está ligado à rede geral de dis...</td>\n      <td>-0.025680</td>\n      <td>1.339675e-03</td>\n    </tr>\n    <tr>\n      <th>...</th>\n      <td>...</td>\n      <td>...</td>\n      <td>...</td>\n      <td>...</td>\n    </tr>\n    <tr>\n      <th>332</th>\n      <td>tipo_area</td>\n      <td>Tipo de área</td>\n      <td>-0.041430</td>\n      <td>2.115271e-26</td>\n    </tr>\n    <tr>\n      <th>333</th>\n      <td>tipo_uniao_conjugue</td>\n      <td>Qual é a natureza dessa união?</td>\n      <td>0.030494</td>\n      <td>4.388313e-10</td>\n    </tr>\n    <tr>\n      <th>334</th>\n      <td>tipo_zona</td>\n      <td>Tipo de situação censitária</td>\n      <td>-0.075888</td>\n      <td>1.222891e-84</td>\n    </tr>\n    <tr>\n      <th>335</th>\n      <td>uf</td>\n      <td>Unidade da Federação</td>\n      <td>0.012527</td>\n      <td>1.311502e-03</td>\n    </tr>\n    <tr>\n      <th>336</th>\n      <td>vive_conjugue</td>\n      <td>Cônjuge ou companheiro(a) mora em nesse domicí...</td>\n      <td>0.080744</td>\n      <td>1.335089e-95</td>\n    </tr>\n  </tbody>\n</table>\n<p>337 rows × 4 columns</p>\n</div>"
     },
     "execution_count": 24,
     "metadata": {},
     "output_type": "execute_result"
    }
   ],
   "source": [
    "\n",
    "data = []\n",
    "c_delete = []\n",
    "for c in df.columns.difference(['phq9_total']):\n",
    "    selected = df.loc[:, [c, 'phq9_total']]\n",
    "    selected = selected.dropna()\n",
    "    if len(selected) < 1000:\n",
    "        c_delete.append(c)\n",
    "    else:\n",
    "        corr = pearsonr(selected[c].values, selected['phq9_total'].values)\n",
    "        data.append([c, PNS_DICT.get_question(c), corr[0], corr[1]])\n",
    "\n",
    "test = pd.DataFrame(data, columns=['feature', 'desc', 'statistic', 'p-value'])\n",
    "print(c_delete)\n",
    "test"
   ],
   "metadata": {
    "collapsed": false,
    "ExecuteTime": {
     "end_time": "2023-05-19T11:17:57.424212950Z",
     "start_time": "2023-05-19T11:17:56.052146417Z"
    }
   }
  },
  {
   "cell_type": "code",
   "execution_count": null,
   "outputs": [],
   "source": [
    "test.sa"
   ],
   "metadata": {
    "collapsed": false
   }
  }
 ],
 "metadata": {
  "kernelspec": {
   "display_name": "Python 3",
   "language": "python",
   "name": "python3"
  },
  "language_info": {
   "codemirror_mode": {
    "name": "ipython",
    "version": 2
   },
   "file_extension": ".py",
   "mimetype": "text/x-python",
   "name": "python",
   "nbconvert_exporter": "python",
   "pygments_lexer": "ipython2",
   "version": "2.7.6"
  }
 },
 "nbformat": 4,
 "nbformat_minor": 0
}
