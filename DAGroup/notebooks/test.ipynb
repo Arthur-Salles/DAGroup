{
 "cells": [
  {
   "cell_type": "code",
   "execution_count": 3,
   "metadata": {
    "collapsed": true,
    "ExecuteTime": {
     "end_time": "2023-05-19T11:57:03.827842441Z",
     "start_time": "2023-05-19T11:57:03.812414973Z"
    }
   },
   "outputs": [
    {
     "data": {
      "text/plain": "Apple     10\nBanana    20\nCherry    30\nDate      40\ndtype: int64"
     },
     "execution_count": 3,
     "metadata": {},
     "output_type": "execute_result"
    }
   ],
   "source": [
    "import pandas as pd\n",
    "\n",
    "# Sample Series\n",
    "data = {'Index': ['A', 'B', 'C', 'D'],\n",
    "        'Value': [10, 20, 30, 40]}\n",
    "s = pd.Series(data['Value'], index=data['Index'])\n",
    "\n",
    "# Dictionary to map the new index values\n",
    "index_mapping = {'A': 'Apple', 'B': 'Banana', 'C': 'Cherry', 'D': 'Date'}\n",
    "\n",
    "# Change the index using the dictionary mapping\n",
    "s_new = s.rename(index=index_mapping)\n",
    "s_new"
   ]
  }
 ],
 "metadata": {
  "kernelspec": {
   "display_name": "Python 3",
   "language": "python",
   "name": "python3"
  },
  "language_info": {
   "codemirror_mode": {
    "name": "ipython",
    "version": 2
   },
   "file_extension": ".py",
   "mimetype": "text/x-python",
   "name": "python",
   "nbconvert_exporter": "python",
   "pygments_lexer": "ipython2",
   "version": "2.7.6"
  }
 },
 "nbformat": 4,
 "nbformat_minor": 0
}
