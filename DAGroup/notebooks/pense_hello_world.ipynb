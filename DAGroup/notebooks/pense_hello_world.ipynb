{
 "cells": [
  {
   "cell_type": "code",
   "execution_count": 4,
   "metadata": {
    "collapsed": true,
    "ExecuteTime": {
     "end_time": "2023-05-08T17:55:18.398497785Z",
     "start_time": "2023-05-08T17:55:15.963103489Z"
    }
   },
   "outputs": [],
   "source": [
    "from pathlib import Path\n",
    "import pandas as pd\n",
    "from zipfile import ZipFile\n",
    "\n",
    "PENSE_DATA = Path('../data/raw/PENSE_2019/PENSE_2019.zip').resolve()\n",
    "zip_pense = ZipFile(PENSE_DATA)\n",
    "path_unzip = zip_pense.namelist()[0]\n",
    "df = pd.read_csv(zip_pense.open(path_unzip), sep=\",\")"
   ]
  },
  {
   "cell_type": "code",
   "execution_count": 5,
   "outputs": [
    {
     "data": {
      "text/plain": "        REGIAO  UF  MUNICIPIO_CAP  TIPO_MUNIC  SITUACAO  DEP_ADMIN  ESFERA   \n0            1  11              0         2.0       1.0        2.0     4.0  \\\n1            1  11              0         2.0       1.0        2.0     4.0   \n2            1  11              0         2.0       1.0        2.0     4.0   \n3            1  11              0         2.0       1.0        2.0     4.0   \n4            1  11              0         2.0       2.0        2.0     4.0   \n...        ...  ..            ...         ...       ...        ...     ...   \n165833       5  53        5300108         1.0       1.0        1.0     2.0   \n165834       5  53        5300108         1.0       1.0        1.0     2.0   \n165835       5  53        5300108         1.0       1.0        1.0     2.0   \n165836       5  53        5300108         1.0       1.0        1.0     2.0   \n165837       5  53        5300108         1.0       1.0        1.0     2.0   \n\n        ESCOLA  TURMA  ALUNO  ...  E01P65A  E01P66A  E01P26A  E01P27A   \n0            4      1     21  ...      2.0      2.0      4.0      2.0  \\\n1           23      1      9  ...      1.0      2.0      4.0      2.0   \n2            2      1      3  ...      2.0      1.0      4.0      2.0   \n3           18      1     19  ...      2.0      2.0      4.0      2.0   \n4            8      1      2  ...      1.0      1.0      4.0      2.0   \n...        ...    ...    ...  ...      ...      ...      ...      ...   \n165833      13      2     25  ...      2.0      4.0      4.0      1.0   \n165834       4      3      7  ...      2.0      4.0      3.0      2.0   \n165835       1      1      1  ...      2.0      4.0      4.0      1.0   \n165836      13      3      9  ...      2.0      4.0      4.0      1.0   \n165837      13      3     24  ...      2.0      4.0      4.0      1.0   \n\n        ESTRATO  IND_EXPANSAO  PESO_ALUNO_FREQ  PESO_INICIAL       POSEST   \n0          1101             1         4.361431      3.409091  1100000PRI1  \\\n1          1101             1         3.838060      3.000000  1100000PRI1   \n2          1101             1         2.934987      2.294118  1100000PRI1   \n3          1101             1         4.786546      3.741379  1100000PRI1   \n4          1101             1         4.535889      3.545455  1100000PRI1   \n...         ...           ...              ...           ...          ...   \n165833     5306             1       118.007834     95.277778  5300108PUB3   \n165834     5306             1        51.020772     41.193416  5300108PUB3   \n165835     5306             1       136.578682    110.271605  5300108PUB3   \n165836     5306             1       113.724925     91.819820  5300108PUB3   \n165837     5306             1       113.724925     91.819820  5300108PUB3   \n\n        TOTAIS_POSEST  \n0                1767  \n1                1767  \n2                1767  \n3                1767  \n4                1767  \n...               ...  \n165833          84099  \n165834          84099  \n165835          84099  \n165836          84099  \n165837          84099  \n\n[165838 rows x 306 columns]",
      "text/html": "<div>\n<style scoped>\n    .dataframe tbody tr th:only-of-type {\n        vertical-align: middle;\n    }\n\n    .dataframe tbody tr th {\n        vertical-align: top;\n    }\n\n    .dataframe thead th {\n        text-align: right;\n    }\n</style>\n<table border=\"1\" class=\"dataframe\">\n  <thead>\n    <tr style=\"text-align: right;\">\n      <th></th>\n      <th>REGIAO</th>\n      <th>UF</th>\n      <th>MUNICIPIO_CAP</th>\n      <th>TIPO_MUNIC</th>\n      <th>SITUACAO</th>\n      <th>DEP_ADMIN</th>\n      <th>ESFERA</th>\n      <th>ESCOLA</th>\n      <th>TURMA</th>\n      <th>ALUNO</th>\n      <th>...</th>\n      <th>E01P65A</th>\n      <th>E01P66A</th>\n      <th>E01P26A</th>\n      <th>E01P27A</th>\n      <th>ESTRATO</th>\n      <th>IND_EXPANSAO</th>\n      <th>PESO_ALUNO_FREQ</th>\n      <th>PESO_INICIAL</th>\n      <th>POSEST</th>\n      <th>TOTAIS_POSEST</th>\n    </tr>\n  </thead>\n  <tbody>\n    <tr>\n      <th>0</th>\n      <td>1</td>\n      <td>11</td>\n      <td>0</td>\n      <td>2.0</td>\n      <td>1.0</td>\n      <td>2.0</td>\n      <td>4.0</td>\n      <td>4</td>\n      <td>1</td>\n      <td>21</td>\n      <td>...</td>\n      <td>2.0</td>\n      <td>2.0</td>\n      <td>4.0</td>\n      <td>2.0</td>\n      <td>1101</td>\n      <td>1</td>\n      <td>4.361431</td>\n      <td>3.409091</td>\n      <td>1100000PRI1</td>\n      <td>1767</td>\n    </tr>\n    <tr>\n      <th>1</th>\n      <td>1</td>\n      <td>11</td>\n      <td>0</td>\n      <td>2.0</td>\n      <td>1.0</td>\n      <td>2.0</td>\n      <td>4.0</td>\n      <td>23</td>\n      <td>1</td>\n      <td>9</td>\n      <td>...</td>\n      <td>1.0</td>\n      <td>2.0</td>\n      <td>4.0</td>\n      <td>2.0</td>\n      <td>1101</td>\n      <td>1</td>\n      <td>3.838060</td>\n      <td>3.000000</td>\n      <td>1100000PRI1</td>\n      <td>1767</td>\n    </tr>\n    <tr>\n      <th>2</th>\n      <td>1</td>\n      <td>11</td>\n      <td>0</td>\n      <td>2.0</td>\n      <td>1.0</td>\n      <td>2.0</td>\n      <td>4.0</td>\n      <td>2</td>\n      <td>1</td>\n      <td>3</td>\n      <td>...</td>\n      <td>2.0</td>\n      <td>1.0</td>\n      <td>4.0</td>\n      <td>2.0</td>\n      <td>1101</td>\n      <td>1</td>\n      <td>2.934987</td>\n      <td>2.294118</td>\n      <td>1100000PRI1</td>\n      <td>1767</td>\n    </tr>\n    <tr>\n      <th>3</th>\n      <td>1</td>\n      <td>11</td>\n      <td>0</td>\n      <td>2.0</td>\n      <td>1.0</td>\n      <td>2.0</td>\n      <td>4.0</td>\n      <td>18</td>\n      <td>1</td>\n      <td>19</td>\n      <td>...</td>\n      <td>2.0</td>\n      <td>2.0</td>\n      <td>4.0</td>\n      <td>2.0</td>\n      <td>1101</td>\n      <td>1</td>\n      <td>4.786546</td>\n      <td>3.741379</td>\n      <td>1100000PRI1</td>\n      <td>1767</td>\n    </tr>\n    <tr>\n      <th>4</th>\n      <td>1</td>\n      <td>11</td>\n      <td>0</td>\n      <td>2.0</td>\n      <td>2.0</td>\n      <td>2.0</td>\n      <td>4.0</td>\n      <td>8</td>\n      <td>1</td>\n      <td>2</td>\n      <td>...</td>\n      <td>1.0</td>\n      <td>1.0</td>\n      <td>4.0</td>\n      <td>2.0</td>\n      <td>1101</td>\n      <td>1</td>\n      <td>4.535889</td>\n      <td>3.545455</td>\n      <td>1100000PRI1</td>\n      <td>1767</td>\n    </tr>\n    <tr>\n      <th>...</th>\n      <td>...</td>\n      <td>...</td>\n      <td>...</td>\n      <td>...</td>\n      <td>...</td>\n      <td>...</td>\n      <td>...</td>\n      <td>...</td>\n      <td>...</td>\n      <td>...</td>\n      <td>...</td>\n      <td>...</td>\n      <td>...</td>\n      <td>...</td>\n      <td>...</td>\n      <td>...</td>\n      <td>...</td>\n      <td>...</td>\n      <td>...</td>\n      <td>...</td>\n      <td>...</td>\n    </tr>\n    <tr>\n      <th>165833</th>\n      <td>5</td>\n      <td>53</td>\n      <td>5300108</td>\n      <td>1.0</td>\n      <td>1.0</td>\n      <td>1.0</td>\n      <td>2.0</td>\n      <td>13</td>\n      <td>2</td>\n      <td>25</td>\n      <td>...</td>\n      <td>2.0</td>\n      <td>4.0</td>\n      <td>4.0</td>\n      <td>1.0</td>\n      <td>5306</td>\n      <td>1</td>\n      <td>118.007834</td>\n      <td>95.277778</td>\n      <td>5300108PUB3</td>\n      <td>84099</td>\n    </tr>\n    <tr>\n      <th>165834</th>\n      <td>5</td>\n      <td>53</td>\n      <td>5300108</td>\n      <td>1.0</td>\n      <td>1.0</td>\n      <td>1.0</td>\n      <td>2.0</td>\n      <td>4</td>\n      <td>3</td>\n      <td>7</td>\n      <td>...</td>\n      <td>2.0</td>\n      <td>4.0</td>\n      <td>3.0</td>\n      <td>2.0</td>\n      <td>5306</td>\n      <td>1</td>\n      <td>51.020772</td>\n      <td>41.193416</td>\n      <td>5300108PUB3</td>\n      <td>84099</td>\n    </tr>\n    <tr>\n      <th>165835</th>\n      <td>5</td>\n      <td>53</td>\n      <td>5300108</td>\n      <td>1.0</td>\n      <td>1.0</td>\n      <td>1.0</td>\n      <td>2.0</td>\n      <td>1</td>\n      <td>1</td>\n      <td>1</td>\n      <td>...</td>\n      <td>2.0</td>\n      <td>4.0</td>\n      <td>4.0</td>\n      <td>1.0</td>\n      <td>5306</td>\n      <td>1</td>\n      <td>136.578682</td>\n      <td>110.271605</td>\n      <td>5300108PUB3</td>\n      <td>84099</td>\n    </tr>\n    <tr>\n      <th>165836</th>\n      <td>5</td>\n      <td>53</td>\n      <td>5300108</td>\n      <td>1.0</td>\n      <td>1.0</td>\n      <td>1.0</td>\n      <td>2.0</td>\n      <td>13</td>\n      <td>3</td>\n      <td>9</td>\n      <td>...</td>\n      <td>2.0</td>\n      <td>4.0</td>\n      <td>4.0</td>\n      <td>1.0</td>\n      <td>5306</td>\n      <td>1</td>\n      <td>113.724925</td>\n      <td>91.819820</td>\n      <td>5300108PUB3</td>\n      <td>84099</td>\n    </tr>\n    <tr>\n      <th>165837</th>\n      <td>5</td>\n      <td>53</td>\n      <td>5300108</td>\n      <td>1.0</td>\n      <td>1.0</td>\n      <td>1.0</td>\n      <td>2.0</td>\n      <td>13</td>\n      <td>3</td>\n      <td>24</td>\n      <td>...</td>\n      <td>2.0</td>\n      <td>4.0</td>\n      <td>4.0</td>\n      <td>1.0</td>\n      <td>5306</td>\n      <td>1</td>\n      <td>113.724925</td>\n      <td>91.819820</td>\n      <td>5300108PUB3</td>\n      <td>84099</td>\n    </tr>\n  </tbody>\n</table>\n<p>165838 rows × 306 columns</p>\n</div>"
     },
     "execution_count": 5,
     "metadata": {},
     "output_type": "execute_result"
    }
   ],
   "source": [
    "df"
   ],
   "metadata": {
    "collapsed": false,
    "ExecuteTime": {
     "end_time": "2023-05-08T17:55:18.654152586Z",
     "start_time": "2023-05-08T17:55:18.596592424Z"
    }
   }
  }
 ],
 "metadata": {
  "kernelspec": {
   "display_name": "Python 3",
   "language": "python",
   "name": "python3"
  },
  "language_info": {
   "codemirror_mode": {
    "name": "ipython",
    "version": 2
   },
   "file_extension": ".py",
   "mimetype": "text/x-python",
   "name": "python",
   "nbconvert_exporter": "python",
   "pygments_lexer": "ipython2",
   "version": "2.7.6"
  }
 },
 "nbformat": 4,
 "nbformat_minor": 0
}
