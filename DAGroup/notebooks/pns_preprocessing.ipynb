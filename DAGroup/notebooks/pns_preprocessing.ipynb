{
 "cells": [
  {
   "cell_type": "code",
   "execution_count": 15,
   "metadata": {
    "collapsed": true,
    "ExecuteTime": {
     "end_time": "2023-05-12T19:18:37.103556091Z",
     "start_time": "2023-05-12T19:18:00.955914270Z"
    }
   },
   "outputs": [
    {
     "name": "stdout",
     "output_type": "stream",
     "text": [
      "The autoreload extension is already loaded. To reload it, use:\n",
      "  %reload_ext autoreload\n"
     ]
    }
   ],
   "source": [
    "%load_ext autoreload\n",
    "%autoreload 2\n",
    "\n",
    "from pathlib import Path\n",
    "import pandas as pd\n",
    "from zipfile import ZipFile\n",
    "from sklearn.model_selection import train_test_split\n",
    "from pns_dict import PNS_DICT_RAW\n",
    "import numpy as np\n",
    "\n",
    "PNS_DATA = Path('../data/raw/PNS_2019/PNS_2019.zip').resolve()\n",
    "zip_pense = ZipFile(PNS_DATA)\n",
    "\n",
    "path_unzip = zip_pense.namelist()[0]\n",
    "df = pd.read_csv(zip_pense.open(path_unzip), delimiter=';', low_memory=False)"
   ]
  },
  {
   "cell_type": "code",
   "execution_count": 16,
   "outputs": [
    {
     "name": "stdout",
     "output_type": "stream",
     "text": [
      "O dataset PNS possui 293726 linhas e 1087 colunas (features).\n"
     ]
    }
   ],
   "source": [
    "print(\"O dataset PNS possui {} linhas e {} colunas (features).\".format(*df.shape))"
   ],
   "metadata": {
    "collapsed": false,
    "ExecuteTime": {
     "end_time": "2023-05-12T19:18:37.104154261Z",
     "start_time": "2023-05-12T19:18:37.090619683Z"
    }
   }
  },
  {
   "cell_type": "markdown",
   "source": [
    "Neste projeto usaremos o PHQ9 https://www.mdcalc.com/calc/1725/phq9-patient-health-questionnaire9 para ter um indicador se a possa esta depressiva ou não no momento, além deste indicador temos também a questão Q092 (Algum médico ou profissional de saúde mental (como psiquiatra ou psicólogo) já lhe deu o diagnóstico de depressão?) como referência de filtragem de dados, questões mais específicas como 'Por causa da depressão Toma medicamentos', que também poderiam ser utilizadas como parâmetro de indicativo de depressão são, na verdade, dependentes da variável Q092."
   ],
   "metadata": {
    "collapsed": false
   }
  },
  {
   "cell_type": "markdown",
   "source": [
    "### Criando o resultado PHQ9"
   ],
   "metadata": {
    "collapsed": false
   }
  },
  {
   "cell_type": "code",
   "execution_count": 17,
   "outputs": [],
   "source": [
    "df.loc[(18 <= df['C008']) & (df['C008'] <= 59), 'phq9_total'] = df.loc[(18 <= df['C008']) & (df['C008'] <= 59), ['N010', 'N011', 'N012', 'N013', 'N014', 'N015', 'N016', 'N017', 'N018']].sum(axis=1, min_count=1) - 9 # -9 correção do valor, como o questionario a resposta \"Nenhuma\" começa no 1\n",
    "\n",
    "# Classificando a gravidade da depressão com base na pontuação total\n",
    "def classify_depression(row):\n",
    "    value = row['phq9_total']\n",
    "\n",
    "    if  0 <= value < 5:\n",
    "        return 1\n",
    "    elif value < 10:\n",
    "        return 2\n",
    "    elif value < 15:\n",
    "        return 3\n",
    "    elif value < 20:\n",
    "        return 4\n",
    "    elif value >= 20:\n",
    "        return 5\n",
    "\n",
    "    return np.nan # questionario não respondido ou idade não compativel\n",
    "\n",
    "df['depression_severity'] = df.apply(classify_depression, axis=1)"
   ],
   "metadata": {
    "collapsed": false,
    "ExecuteTime": {
     "end_time": "2023-05-12T19:18:48.865384304Z",
     "start_time": "2023-05-12T19:18:37.103861711Z"
    }
   }
  },
  {
   "cell_type": "code",
   "execution_count": 18,
   "outputs": [
    {
     "name": "stdout",
     "output_type": "stream",
     "text": [
      "A quantidade de dados investigável dos dados são 65803, 22.402852% do total.\n"
     ]
    }
   ],
   "source": [
    "selected = df[df['depression_severity'].notna()] # pega somente os registros que foram respondidos como sim ou não\n",
    "print(\"A quantidade de dados investigável dos dados são {}, {:02f}% do total.\".format(selected.shape[0], 100*selected.shape[0]/df.shape[0]))"
   ],
   "metadata": {
    "collapsed": false,
    "ExecuteTime": {
     "end_time": "2023-05-12T19:18:49.046123636Z",
     "start_time": "2023-05-12T19:18:48.906568209Z"
    }
   }
  },
  {
   "cell_type": "code",
   "execution_count": 19,
   "outputs": [
    {
     "name": "stdout",
     "output_type": "stream",
     "text": [
      "A quantidade de dados investigável dos dados são 90846, 30.928825% do total.\n"
     ]
    }
   ],
   "source": [
    "selected = df[(df['depression_severity'].notna()) | df['Q092'].isin([1, 2])] # pega somente os registros que foram respondidos como sim ou não ou que possui informações sobre dignostico de depressao\n",
    "print(\"A quantidade de dados investigável dos dados são {}, {:02f}% do total.\".format(selected.shape[0], 100*selected.shape[0]/df.shape[0]))"
   ],
   "metadata": {
    "collapsed": false,
    "ExecuteTime": {
     "end_time": "2023-05-12T19:18:49.256396470Z",
     "start_time": "2023-05-12T19:18:49.048011057Z"
    }
   }
  },
  {
   "cell_type": "code",
   "execution_count": 20,
   "outputs": [
    {
     "name": "stdout",
     "output_type": "stream",
     "text": [
      "Numero de casas entrevistadas:  90846\n",
      "Numero de pessoas entrevistadas:  90846\n"
     ]
    }
   ],
   "source": [
    "print(\"Numero de casas entrevistadas: \", selected.groupby(['V0001', 'V0024', 'UPA_PNS', 'V0006_PNS']).size().reset_index().shape[0])\n",
    "print(\"Numero de pessoas entrevistadas: \", selected.groupby(['V0001', 'V0024', 'UPA_PNS', 'V0006_PNS', 'C00301']).size().reset_index().shape[0])"
   ],
   "metadata": {
    "collapsed": false,
    "ExecuteTime": {
     "end_time": "2023-05-12T19:18:49.302899800Z",
     "start_time": "2023-05-12T19:18:49.258517597Z"
    }
   }
  },
  {
   "cell_type": "markdown",
   "source": [
    "#### Filtragem e renomeação das colunas de interesse"
   ],
   "metadata": {
    "collapsed": false
   }
  },
  {
   "cell_type": "code",
   "execution_count": 21,
   "outputs": [
    {
     "data": {
      "text/plain": "{'V0001': 'Unidade da Federação',\n 'V0022': 'Total de moradores',\n 'V0026': 'Tipo de situação censitária',\n 'VDF004': 'Faixa de rendimento domiciliar per capita (exclusive o rendimento das pessoas cuja condição na unidade domiciliar era pensionista, empregado doméstico ou parente do empregado doméstico)',\n 'A001': 'Tipo do domicílio',\n 'A02201': 'Em seu domicílio, há algum animal de estimação',\n 'B001': 'O seu domicílio está cadastrado na unidade de saúde da família',\n 'C006': 'Sexo',\n 'C008': 'Idade do morador na data de referência',\n 'C009': 'Cor ou raça',\n 'C01001': 'Cônjuge ou companheiro(a) mora em nesse domicílio.',\n 'D001': 'Sabe ler e escrever',\n 'D00901': 'Qual foi o curso mais elevado que ___frequentou',\n 'P00104': 'Peso - Final (em kg)\\n(3 inteiros e 1 casa decimal)',\n 'P00404': 'Altura - Final (em cm)\\n(3 inteiros)',\n 'P006': 'Em quantos dias da semana o(a) Sr(a) costuma comer feijão?',\n 'P00901': 'Em quantos dias da semana, o(a) Sr(a) costuma comer pelo menos um tipo de verdura ou legume (sem contar batata, mandioca, cará ou inhame) como alface, tomate, couve, cenoura, chuchu, berinjela, abobrinha?',\n 'P01101': 'Em quantos dias da semana o(a) Sr(a) costuma comer carne vermelha (boi, porco, cabrito, bode, ovelha etc.)?',\n 'P013': 'Em quantos dias da semana o(a) Sr(a) costuma comer frango/galinha?',\n 'P015': 'Em quantos dias da semana o(a) Sr(a) costuma comer peixe?',\n 'P018': 'Em quantos dias da semana o(a) Sr(a) costuma comer frutas?',\n 'P019': 'Em geral, quantas vezes por dia o(a) Sr(a) come frutas?',\n 'P023': 'Em quantos dias da semana o(a) Sr(a) costuma tomar leite? (de origem animal: vaca, cabra, búfala etc.)',\n 'Q092': 'Algum médico ou profissional de saúde mental (como psiquiatra ou psicólogo) já lhe deu o diagnóstico de depressão?',\n 'phq9_total': '',\n 'depression_severity': ''}"
     },
     "execution_count": 21,
     "metadata": {},
     "output_type": "execute_result"
    }
   ],
   "source": [
    "selected_columns = {\n",
    "    # Parte 1 - Identificação e Controle\n",
    "    'V0001': 'uf',\n",
    "    'V0022': 'moradores',\n",
    "    'V0026': 'tipo_zona',\n",
    "\n",
    "    # VARIÁVEIS DERIVADAS\n",
    "    'VDF004': 'renda_pc',\n",
    "\n",
    "    # Módulo A - Informações do Domicílio\n",
    "    'A001': 'casa_tipo',\n",
    "    'A02201': 'casa_animal',\n",
    "\n",
    "    # Módulo B - Visitas domiciliares de Equipe de Saúde da Família e Agentes de Endemias\n",
    "    'B001': 'cad_sus',\n",
    "\n",
    "    # Módulo C - Características gerais dos moradores\n",
    "    'C006': 'sexo',\n",
    "    'C008': 'idade',\n",
    "    'C009': 'cor',\n",
    "    'C01001': 'vive_conjugue',\n",
    "\n",
    "    # Módulo D - Características de educação dos moradores\n",
    "    'D001': 'sabe_ler',\n",
    "    'D00901': 'escolaridade',\n",
    "\n",
    "    # Módulo P - Estilos de vida\n",
    "    'P00104': 'peso',\n",
    "    'P00404': 'altura',\n",
    "\n",
    "    'P006': 'freq_feijao_sem',\n",
    "    'P00901': 'freq_verde_sem',\n",
    "    'P01101': 'freq_carne_vermelha_sem',\n",
    "    'P013': 'freq_frango_sem',\n",
    "    'P015': 'freq_peixe_sem',\n",
    "    'P018': 'freq_fruta_sem',\n",
    "    'P019': 'freq_fruta_dia',\n",
    "    'P023': 'freq_leite_sem',\n",
    "\n",
    "\n",
    "    'Q092': 'teve_depre',\n",
    "\n",
    "    'phq9_total': 'phq9_total',\n",
    "    'depression_severity': 'depression_severity',\n",
    "\n",
    "}\n",
    "{k: PNS_DICT_RAW.get_question(k) for k in selected_columns.keys()}"
   ],
   "metadata": {
    "collapsed": false,
    "ExecuteTime": {
     "end_time": "2023-05-12T19:18:49.346846191Z",
     "start_time": "2023-05-12T19:18:49.302595848Z"
    }
   }
  },
  {
   "cell_type": "code",
   "execution_count": 22,
   "outputs": [
    {
     "data": {
      "text/plain": "        uf  moradores  tipo_zona  renda_pc  casa_tipo  casa_animal  cad_sus   \n0       11        6.0          1       2.0        1.0          1.0      1.0  \\\n9       11        4.0          1       2.0        1.0          1.0      1.0   \n10      11        8.0          1       3.0        1.0          1.0      1.0   \n18      11        1.0          1       2.0        1.0          1.0      1.0   \n19      11        2.0          1       1.0        2.0          2.0      1.0   \n...     ..        ...        ...       ...        ...          ...      ...   \n293709  53        3.0          2       4.0        1.0          1.0      2.0   \n293712  53        2.0          2       4.0        1.0          1.0      3.0   \n293713  53        4.0          2       2.0        1.0          1.0      1.0   \n293718  53        3.0          2       5.0        1.0          1.0      2.0   \n293720  53        1.0          2       4.0        1.0          1.0      2.0   \n\n        sexo  idade  cor  ...  freq_verde_sem  freq_carne_vermelha_sem   \n0        2.0   55.0  1.0  ...             1.0                      3.0  \\\n9        2.0   19.0  4.0  ...             4.0                      4.0   \n10       2.0   45.0  2.0  ...             7.0                      7.0   \n18       2.0   58.0  2.0  ...             3.0                      7.0   \n19       2.0   28.0  4.0  ...             3.0                      3.0   \n...      ...    ...  ...  ...             ...                      ...   \n293709   2.0   54.0  4.0  ...             7.0                      3.0   \n293712   1.0   44.0  4.0  ...             7.0                      7.0   \n293713   2.0   32.0  4.0  ...             2.0                      6.0   \n293718   1.0   54.0  4.0  ...             6.0                      3.0   \n293720   1.0   32.0  1.0  ...             4.0                      6.0   \n\n        freq_frango_sem  freq_peixe_sem  freq_fruta_sem  freq_fruta_dia   \n0                   6.0             3.0             3.0             NaN  \\\n9                   2.0             0.0             0.0             NaN   \n10                  0.0             3.0             7.0             2.0   \n18                  3.0             3.0             3.0             NaN   \n19                  2.0             1.0             3.0             NaN   \n...                 ...             ...             ...             ...   \n293709              2.0             0.0             2.0             NaN   \n293712              7.0             2.0             3.0             NaN   \n293713              0.0             0.0             1.0             NaN   \n293718              3.0             0.0             3.0             NaN   \n293720              2.0             0.0             5.0             2.0   \n\n        freq_leite_sem  teve_depre  phq9_total  depression_severity  \n0                  7.0         1.0         6.0                  2.0  \n9                  0.0         2.0         2.0                  1.0  \n10                 0.0         2.0         3.0                  1.0  \n18                 0.0         2.0         0.0                  1.0  \n19                 7.0         2.0         0.0                  1.0  \n...                ...         ...         ...                  ...  \n293709             0.0         2.0         4.0                  1.0  \n293712             0.0         2.0         1.0                  1.0  \n293713             7.0         2.0         1.0                  1.0  \n293718             0.0         1.0         4.0                  1.0  \n293720             7.0         2.0         0.0                  1.0  \n\n[90846 rows x 26 columns]",
      "text/html": "<div>\n<style scoped>\n    .dataframe tbody tr th:only-of-type {\n        vertical-align: middle;\n    }\n\n    .dataframe tbody tr th {\n        vertical-align: top;\n    }\n\n    .dataframe thead th {\n        text-align: right;\n    }\n</style>\n<table border=\"1\" class=\"dataframe\">\n  <thead>\n    <tr style=\"text-align: right;\">\n      <th></th>\n      <th>uf</th>\n      <th>moradores</th>\n      <th>tipo_zona</th>\n      <th>renda_pc</th>\n      <th>casa_tipo</th>\n      <th>casa_animal</th>\n      <th>cad_sus</th>\n      <th>sexo</th>\n      <th>idade</th>\n      <th>cor</th>\n      <th>...</th>\n      <th>freq_verde_sem</th>\n      <th>freq_carne_vermelha_sem</th>\n      <th>freq_frango_sem</th>\n      <th>freq_peixe_sem</th>\n      <th>freq_fruta_sem</th>\n      <th>freq_fruta_dia</th>\n      <th>freq_leite_sem</th>\n      <th>teve_depre</th>\n      <th>phq9_total</th>\n      <th>depression_severity</th>\n    </tr>\n  </thead>\n  <tbody>\n    <tr>\n      <th>0</th>\n      <td>11</td>\n      <td>6.0</td>\n      <td>1</td>\n      <td>2.0</td>\n      <td>1.0</td>\n      <td>1.0</td>\n      <td>1.0</td>\n      <td>2.0</td>\n      <td>55.0</td>\n      <td>1.0</td>\n      <td>...</td>\n      <td>1.0</td>\n      <td>3.0</td>\n      <td>6.0</td>\n      <td>3.0</td>\n      <td>3.0</td>\n      <td>NaN</td>\n      <td>7.0</td>\n      <td>1.0</td>\n      <td>6.0</td>\n      <td>2.0</td>\n    </tr>\n    <tr>\n      <th>9</th>\n      <td>11</td>\n      <td>4.0</td>\n      <td>1</td>\n      <td>2.0</td>\n      <td>1.0</td>\n      <td>1.0</td>\n      <td>1.0</td>\n      <td>2.0</td>\n      <td>19.0</td>\n      <td>4.0</td>\n      <td>...</td>\n      <td>4.0</td>\n      <td>4.0</td>\n      <td>2.0</td>\n      <td>0.0</td>\n      <td>0.0</td>\n      <td>NaN</td>\n      <td>0.0</td>\n      <td>2.0</td>\n      <td>2.0</td>\n      <td>1.0</td>\n    </tr>\n    <tr>\n      <th>10</th>\n      <td>11</td>\n      <td>8.0</td>\n      <td>1</td>\n      <td>3.0</td>\n      <td>1.0</td>\n      <td>1.0</td>\n      <td>1.0</td>\n      <td>2.0</td>\n      <td>45.0</td>\n      <td>2.0</td>\n      <td>...</td>\n      <td>7.0</td>\n      <td>7.0</td>\n      <td>0.0</td>\n      <td>3.0</td>\n      <td>7.0</td>\n      <td>2.0</td>\n      <td>0.0</td>\n      <td>2.0</td>\n      <td>3.0</td>\n      <td>1.0</td>\n    </tr>\n    <tr>\n      <th>18</th>\n      <td>11</td>\n      <td>1.0</td>\n      <td>1</td>\n      <td>2.0</td>\n      <td>1.0</td>\n      <td>1.0</td>\n      <td>1.0</td>\n      <td>2.0</td>\n      <td>58.0</td>\n      <td>2.0</td>\n      <td>...</td>\n      <td>3.0</td>\n      <td>7.0</td>\n      <td>3.0</td>\n      <td>3.0</td>\n      <td>3.0</td>\n      <td>NaN</td>\n      <td>0.0</td>\n      <td>2.0</td>\n      <td>0.0</td>\n      <td>1.0</td>\n    </tr>\n    <tr>\n      <th>19</th>\n      <td>11</td>\n      <td>2.0</td>\n      <td>1</td>\n      <td>1.0</td>\n      <td>2.0</td>\n      <td>2.0</td>\n      <td>1.0</td>\n      <td>2.0</td>\n      <td>28.0</td>\n      <td>4.0</td>\n      <td>...</td>\n      <td>3.0</td>\n      <td>3.0</td>\n      <td>2.0</td>\n      <td>1.0</td>\n      <td>3.0</td>\n      <td>NaN</td>\n      <td>7.0</td>\n      <td>2.0</td>\n      <td>0.0</td>\n      <td>1.0</td>\n    </tr>\n    <tr>\n      <th>...</th>\n      <td>...</td>\n      <td>...</td>\n      <td>...</td>\n      <td>...</td>\n      <td>...</td>\n      <td>...</td>\n      <td>...</td>\n      <td>...</td>\n      <td>...</td>\n      <td>...</td>\n      <td>...</td>\n      <td>...</td>\n      <td>...</td>\n      <td>...</td>\n      <td>...</td>\n      <td>...</td>\n      <td>...</td>\n      <td>...</td>\n      <td>...</td>\n      <td>...</td>\n      <td>...</td>\n    </tr>\n    <tr>\n      <th>293709</th>\n      <td>53</td>\n      <td>3.0</td>\n      <td>2</td>\n      <td>4.0</td>\n      <td>1.0</td>\n      <td>1.0</td>\n      <td>2.0</td>\n      <td>2.0</td>\n      <td>54.0</td>\n      <td>4.0</td>\n      <td>...</td>\n      <td>7.0</td>\n      <td>3.0</td>\n      <td>2.0</td>\n      <td>0.0</td>\n      <td>2.0</td>\n      <td>NaN</td>\n      <td>0.0</td>\n      <td>2.0</td>\n      <td>4.0</td>\n      <td>1.0</td>\n    </tr>\n    <tr>\n      <th>293712</th>\n      <td>53</td>\n      <td>2.0</td>\n      <td>2</td>\n      <td>4.0</td>\n      <td>1.0</td>\n      <td>1.0</td>\n      <td>3.0</td>\n      <td>1.0</td>\n      <td>44.0</td>\n      <td>4.0</td>\n      <td>...</td>\n      <td>7.0</td>\n      <td>7.0</td>\n      <td>7.0</td>\n      <td>2.0</td>\n      <td>3.0</td>\n      <td>NaN</td>\n      <td>0.0</td>\n      <td>2.0</td>\n      <td>1.0</td>\n      <td>1.0</td>\n    </tr>\n    <tr>\n      <th>293713</th>\n      <td>53</td>\n      <td>4.0</td>\n      <td>2</td>\n      <td>2.0</td>\n      <td>1.0</td>\n      <td>1.0</td>\n      <td>1.0</td>\n      <td>2.0</td>\n      <td>32.0</td>\n      <td>4.0</td>\n      <td>...</td>\n      <td>2.0</td>\n      <td>6.0</td>\n      <td>0.0</td>\n      <td>0.0</td>\n      <td>1.0</td>\n      <td>NaN</td>\n      <td>7.0</td>\n      <td>2.0</td>\n      <td>1.0</td>\n      <td>1.0</td>\n    </tr>\n    <tr>\n      <th>293718</th>\n      <td>53</td>\n      <td>3.0</td>\n      <td>2</td>\n      <td>5.0</td>\n      <td>1.0</td>\n      <td>1.0</td>\n      <td>2.0</td>\n      <td>1.0</td>\n      <td>54.0</td>\n      <td>4.0</td>\n      <td>...</td>\n      <td>6.0</td>\n      <td>3.0</td>\n      <td>3.0</td>\n      <td>0.0</td>\n      <td>3.0</td>\n      <td>NaN</td>\n      <td>0.0</td>\n      <td>1.0</td>\n      <td>4.0</td>\n      <td>1.0</td>\n    </tr>\n    <tr>\n      <th>293720</th>\n      <td>53</td>\n      <td>1.0</td>\n      <td>2</td>\n      <td>4.0</td>\n      <td>1.0</td>\n      <td>1.0</td>\n      <td>2.0</td>\n      <td>1.0</td>\n      <td>32.0</td>\n      <td>1.0</td>\n      <td>...</td>\n      <td>4.0</td>\n      <td>6.0</td>\n      <td>2.0</td>\n      <td>0.0</td>\n      <td>5.0</td>\n      <td>2.0</td>\n      <td>7.0</td>\n      <td>2.0</td>\n      <td>0.0</td>\n      <td>1.0</td>\n    </tr>\n  </tbody>\n</table>\n<p>90846 rows × 26 columns</p>\n</div>"
     },
     "execution_count": 22,
     "metadata": {},
     "output_type": "execute_result"
    }
   ],
   "source": [
    "df_all = selected[selected_columns.keys()]\n",
    "df_all = df_all.rename(columns=selected_columns)\n",
    "df_all"
   ],
   "metadata": {
    "collapsed": false,
    "ExecuteTime": {
     "end_time": "2023-05-12T19:18:49.395083469Z",
     "start_time": "2023-05-12T19:18:49.347001471Z"
    }
   }
  },
  {
   "cell_type": "code",
   "execution_count": 23,
   "outputs": [
    {
     "data": {
      "text/plain": "uf                             0\nmoradores                      0\ntipo_zona                      0\nrenda_pc                      22\ncasa_tipo                      0\ncasa_animal                    0\ncad_sus                        0\nsexo                           0\nidade                          0\ncor                            0\nvive_conjugue                  0\nsabe_ler                       0\nescolaridade               13965\npeso                         892\naltura                       892\nfreq_feijao_sem                0\nfreq_verde_sem                 0\nfreq_carne_vermelha_sem        0\nfreq_frango_sem                0\nfreq_peixe_sem                 0\nfreq_fruta_sem                 0\nfreq_fruta_dia             50441\nfreq_leite_sem                 0\nteve_depre                     0\nphq9_total                 25043\ndepression_severity        25043\ndtype: int64"
     },
     "execution_count": 23,
     "metadata": {},
     "output_type": "execute_result"
    }
   ],
   "source": [
    "missing_values = df_all.isna().sum()\n",
    "missing_values"
   ],
   "metadata": {
    "collapsed": false,
    "ExecuteTime": {
     "end_time": "2023-05-12T19:18:49.395313181Z",
     "start_time": "2023-05-12T19:18:49.394451481Z"
    }
   }
  },
  {
   "cell_type": "code",
   "execution_count": 24,
   "outputs": [
    {
     "data": {
      "text/plain": "        uf  moradores  tipo_zona  renda_pc  casa_tipo  casa_animal  cad_sus   \n19      11        2.0          1       1.0        2.0          2.0      1.0  \\\n44      11        4.0          1       7.0        1.0          1.0      2.0   \n57      11        1.0          1       4.0        2.0          2.0      2.0   \n65      11        3.0          1       5.0        2.0          2.0      2.0   \n76      11        3.0          1       3.0        1.0          1.0      3.0   \n...     ..        ...        ...       ...        ...          ...      ...   \n293565  53        4.0          2       2.0        1.0          1.0      1.0   \n293572  53        1.0          2       4.0        1.0          1.0      1.0   \n293589  53        3.0          2       3.0        1.0          1.0      3.0   \n293614  53        4.0          2       7.0        1.0          1.0      3.0   \n293628  53        1.0          2       4.0        1.0          1.0      2.0   \n\n        sexo  idade  cor  ...  freq_verde_sem  freq_carne_vermelha_sem   \n19       2.0   28.0  4.0  ...             3.0                      3.0  \\\n44       1.0   35.0  4.0  ...             5.0                      7.0   \n57       2.0   32.0  1.0  ...             7.0                      7.0   \n65       2.0   20.0  4.0  ...             7.0                      2.0   \n76       1.0   40.0  4.0  ...             3.0                      3.0   \n...      ...    ...  ...  ...             ...                      ...   \n293565   2.0   22.0  4.0  ...             7.0                      4.0   \n293572   1.0   70.0  4.0  ...             7.0                      0.0   \n293589   1.0   22.0  2.0  ...             4.0                      3.0   \n293614   2.0   45.0  1.0  ...             5.0                      3.0   \n293628   1.0   24.0  4.0  ...             7.0                      7.0   \n\n        freq_frango_sem  freq_peixe_sem  freq_fruta_sem  freq_fruta_dia   \n19                  2.0             1.0             3.0             NaN  \\\n44                  3.0             1.0             2.0             NaN   \n57                  0.0             0.0             3.0             NaN   \n65                  2.0             1.0             4.0             NaN   \n76                  3.0             2.0             4.0             NaN   \n...                 ...             ...             ...             ...   \n293565              3.0             0.0             7.0             1.0   \n293572              3.0             0.0             2.0             NaN   \n293589              2.0             2.0             3.0             NaN   \n293614              3.0             1.0             7.0             1.0   \n293628              7.0             0.0             7.0             1.0   \n\n        freq_leite_sem  teve_depre  phq9_total  depression_severity  \n19                 7.0         2.0         0.0                  1.0  \n44                 0.0         2.0         6.0                  2.0  \n57                 7.0         2.0         0.0                  1.0  \n65                 7.0         2.0         0.0                  1.0  \n76                 5.0         2.0         0.0                  1.0  \n...                ...         ...         ...                  ...  \n293565             7.0         2.0         1.0                  1.0  \n293572             7.0         2.0         NaN                  NaN  \n293589             2.0         2.0         0.0                  1.0  \n293614             7.0         2.0         0.0                  1.0  \n293628             7.0         2.0         2.0                  1.0  \n\n[13965 rows x 26 columns]",
      "text/html": "<div>\n<style scoped>\n    .dataframe tbody tr th:only-of-type {\n        vertical-align: middle;\n    }\n\n    .dataframe tbody tr th {\n        vertical-align: top;\n    }\n\n    .dataframe thead th {\n        text-align: right;\n    }\n</style>\n<table border=\"1\" class=\"dataframe\">\n  <thead>\n    <tr style=\"text-align: right;\">\n      <th></th>\n      <th>uf</th>\n      <th>moradores</th>\n      <th>tipo_zona</th>\n      <th>renda_pc</th>\n      <th>casa_tipo</th>\n      <th>casa_animal</th>\n      <th>cad_sus</th>\n      <th>sexo</th>\n      <th>idade</th>\n      <th>cor</th>\n      <th>...</th>\n      <th>freq_verde_sem</th>\n      <th>freq_carne_vermelha_sem</th>\n      <th>freq_frango_sem</th>\n      <th>freq_peixe_sem</th>\n      <th>freq_fruta_sem</th>\n      <th>freq_fruta_dia</th>\n      <th>freq_leite_sem</th>\n      <th>teve_depre</th>\n      <th>phq9_total</th>\n      <th>depression_severity</th>\n    </tr>\n  </thead>\n  <tbody>\n    <tr>\n      <th>19</th>\n      <td>11</td>\n      <td>2.0</td>\n      <td>1</td>\n      <td>1.0</td>\n      <td>2.0</td>\n      <td>2.0</td>\n      <td>1.0</td>\n      <td>2.0</td>\n      <td>28.0</td>\n      <td>4.0</td>\n      <td>...</td>\n      <td>3.0</td>\n      <td>3.0</td>\n      <td>2.0</td>\n      <td>1.0</td>\n      <td>3.0</td>\n      <td>NaN</td>\n      <td>7.0</td>\n      <td>2.0</td>\n      <td>0.0</td>\n      <td>1.0</td>\n    </tr>\n    <tr>\n      <th>44</th>\n      <td>11</td>\n      <td>4.0</td>\n      <td>1</td>\n      <td>7.0</td>\n      <td>1.0</td>\n      <td>1.0</td>\n      <td>2.0</td>\n      <td>1.0</td>\n      <td>35.0</td>\n      <td>4.0</td>\n      <td>...</td>\n      <td>5.0</td>\n      <td>7.0</td>\n      <td>3.0</td>\n      <td>1.0</td>\n      <td>2.0</td>\n      <td>NaN</td>\n      <td>0.0</td>\n      <td>2.0</td>\n      <td>6.0</td>\n      <td>2.0</td>\n    </tr>\n    <tr>\n      <th>57</th>\n      <td>11</td>\n      <td>1.0</td>\n      <td>1</td>\n      <td>4.0</td>\n      <td>2.0</td>\n      <td>2.0</td>\n      <td>2.0</td>\n      <td>2.0</td>\n      <td>32.0</td>\n      <td>1.0</td>\n      <td>...</td>\n      <td>7.0</td>\n      <td>7.0</td>\n      <td>0.0</td>\n      <td>0.0</td>\n      <td>3.0</td>\n      <td>NaN</td>\n      <td>7.0</td>\n      <td>2.0</td>\n      <td>0.0</td>\n      <td>1.0</td>\n    </tr>\n    <tr>\n      <th>65</th>\n      <td>11</td>\n      <td>3.0</td>\n      <td>1</td>\n      <td>5.0</td>\n      <td>2.0</td>\n      <td>2.0</td>\n      <td>2.0</td>\n      <td>2.0</td>\n      <td>20.0</td>\n      <td>4.0</td>\n      <td>...</td>\n      <td>7.0</td>\n      <td>2.0</td>\n      <td>2.0</td>\n      <td>1.0</td>\n      <td>4.0</td>\n      <td>NaN</td>\n      <td>7.0</td>\n      <td>2.0</td>\n      <td>0.0</td>\n      <td>1.0</td>\n    </tr>\n    <tr>\n      <th>76</th>\n      <td>11</td>\n      <td>3.0</td>\n      <td>1</td>\n      <td>3.0</td>\n      <td>1.0</td>\n      <td>1.0</td>\n      <td>3.0</td>\n      <td>1.0</td>\n      <td>40.0</td>\n      <td>4.0</td>\n      <td>...</td>\n      <td>3.0</td>\n      <td>3.0</td>\n      <td>3.0</td>\n      <td>2.0</td>\n      <td>4.0</td>\n      <td>NaN</td>\n      <td>5.0</td>\n      <td>2.0</td>\n      <td>0.0</td>\n      <td>1.0</td>\n    </tr>\n    <tr>\n      <th>...</th>\n      <td>...</td>\n      <td>...</td>\n      <td>...</td>\n      <td>...</td>\n      <td>...</td>\n      <td>...</td>\n      <td>...</td>\n      <td>...</td>\n      <td>...</td>\n      <td>...</td>\n      <td>...</td>\n      <td>...</td>\n      <td>...</td>\n      <td>...</td>\n      <td>...</td>\n      <td>...</td>\n      <td>...</td>\n      <td>...</td>\n      <td>...</td>\n      <td>...</td>\n      <td>...</td>\n    </tr>\n    <tr>\n      <th>293565</th>\n      <td>53</td>\n      <td>4.0</td>\n      <td>2</td>\n      <td>2.0</td>\n      <td>1.0</td>\n      <td>1.0</td>\n      <td>1.0</td>\n      <td>2.0</td>\n      <td>22.0</td>\n      <td>4.0</td>\n      <td>...</td>\n      <td>7.0</td>\n      <td>4.0</td>\n      <td>3.0</td>\n      <td>0.0</td>\n      <td>7.0</td>\n      <td>1.0</td>\n      <td>7.0</td>\n      <td>2.0</td>\n      <td>1.0</td>\n      <td>1.0</td>\n    </tr>\n    <tr>\n      <th>293572</th>\n      <td>53</td>\n      <td>1.0</td>\n      <td>2</td>\n      <td>4.0</td>\n      <td>1.0</td>\n      <td>1.0</td>\n      <td>1.0</td>\n      <td>1.0</td>\n      <td>70.0</td>\n      <td>4.0</td>\n      <td>...</td>\n      <td>7.0</td>\n      <td>0.0</td>\n      <td>3.0</td>\n      <td>0.0</td>\n      <td>2.0</td>\n      <td>NaN</td>\n      <td>7.0</td>\n      <td>2.0</td>\n      <td>NaN</td>\n      <td>NaN</td>\n    </tr>\n    <tr>\n      <th>293589</th>\n      <td>53</td>\n      <td>3.0</td>\n      <td>2</td>\n      <td>3.0</td>\n      <td>1.0</td>\n      <td>1.0</td>\n      <td>3.0</td>\n      <td>1.0</td>\n      <td>22.0</td>\n      <td>2.0</td>\n      <td>...</td>\n      <td>4.0</td>\n      <td>3.0</td>\n      <td>2.0</td>\n      <td>2.0</td>\n      <td>3.0</td>\n      <td>NaN</td>\n      <td>2.0</td>\n      <td>2.0</td>\n      <td>0.0</td>\n      <td>1.0</td>\n    </tr>\n    <tr>\n      <th>293614</th>\n      <td>53</td>\n      <td>4.0</td>\n      <td>2</td>\n      <td>7.0</td>\n      <td>1.0</td>\n      <td>1.0</td>\n      <td>3.0</td>\n      <td>2.0</td>\n      <td>45.0</td>\n      <td>1.0</td>\n      <td>...</td>\n      <td>5.0</td>\n      <td>3.0</td>\n      <td>3.0</td>\n      <td>1.0</td>\n      <td>7.0</td>\n      <td>1.0</td>\n      <td>7.0</td>\n      <td>2.0</td>\n      <td>0.0</td>\n      <td>1.0</td>\n    </tr>\n    <tr>\n      <th>293628</th>\n      <td>53</td>\n      <td>1.0</td>\n      <td>2</td>\n      <td>4.0</td>\n      <td>1.0</td>\n      <td>1.0</td>\n      <td>2.0</td>\n      <td>1.0</td>\n      <td>24.0</td>\n      <td>4.0</td>\n      <td>...</td>\n      <td>7.0</td>\n      <td>7.0</td>\n      <td>7.0</td>\n      <td>0.0</td>\n      <td>7.0</td>\n      <td>1.0</td>\n      <td>7.0</td>\n      <td>2.0</td>\n      <td>2.0</td>\n      <td>1.0</td>\n    </tr>\n  </tbody>\n</table>\n<p>13965 rows × 26 columns</p>\n</div>"
     },
     "execution_count": 24,
     "metadata": {},
     "output_type": "execute_result"
    }
   ],
   "source": [
    "df_all[df_all['escolaridade'].isna()]"
   ],
   "metadata": {
    "collapsed": false,
    "ExecuteTime": {
     "end_time": "2023-05-12T19:18:49.438789485Z",
     "start_time": "2023-05-12T19:18:49.394555825Z"
    }
   }
  },
  {
   "cell_type": "code",
   "execution_count": 25,
   "outputs": [
    {
     "name": "stdout",
     "output_type": "stream",
     "text": [
      "23\n"
     ]
    }
   ],
   "source": [
    "n_nan_cols = (df_all.isna().mean() <= 0.2).sum()\n",
    "print(n_nan_cols)"
   ],
   "metadata": {
    "collapsed": false,
    "ExecuteTime": {
     "end_time": "2023-05-12T19:18:49.485409594Z",
     "start_time": "2023-05-12T19:18:49.434588094Z"
    }
   }
  },
  {
   "cell_type": "markdown",
   "source": [
    "#### Criando dicionarios"
   ],
   "metadata": {
    "collapsed": false
   }
  },
  {
   "cell_type": "code",
   "execution_count": 26,
   "outputs": [
    {
     "data": {
      "text/plain": "                      index  origin   \n0                        uf   V0001  \\\n1                 moradores   V0022   \n2                 tipo_zona   V0026   \n3                  renda_pc  VDF004   \n4                 casa_tipo    A001   \n5               casa_animal  A02201   \n6                   cad_sus    B001   \n7                      sexo    C006   \n8                     idade    C008   \n9                       cor    C009   \n10            vive_conjugue  C01001   \n11                 sabe_ler    D001   \n12             escolaridade  D00901   \n13                     peso  P00104   \n14                   altura  P00404   \n15          freq_feijao_sem    P006   \n16           freq_verde_sem  P00901   \n17  freq_carne_vermelha_sem  P01101   \n18          freq_frango_sem    P013   \n19           freq_peixe_sem    P015   \n20           freq_fruta_sem    P018   \n21           freq_fruta_dia    P019   \n22           freq_leite_sem    P023   \n23               teve_depre    Q092   \n24               phq9_total       *   \n25      depression_severity       *   \n\n                                                 desc   \n0                                Unidade da Federação  \\\n1                                  Total de moradores   \n2                         Tipo de situação censitária   \n3   Faixa de rendimento domiciliar per capita (exc...   \n4                                   Tipo do domicílio   \n5      Em seu domicílio, há algum animal de estimação   \n6   O seu domicílio está cadastrado na unidade de ...   \n7                                                Sexo   \n8              Idade do morador na data de referência   \n9                                         Cor ou raça   \n10  Cônjuge ou companheiro(a) mora em nesse domicí...   \n11                                Sabe ler e escrever   \n12    Qual foi o curso mais elevado que ___frequentou   \n13  Peso - Final (em kg)\\n(3 inteiros e 1 casa dec...   \n14               Altura - Final (em cm)\\n(3 inteiros)   \n15  Em quantos dias da semana o(a) Sr(a) costuma c...   \n16  Em quantos dias da semana, o(a) Sr(a) costuma ...   \n17  Em quantos dias da semana o(a) Sr(a) costuma c...   \n18  Em quantos dias da semana o(a) Sr(a) costuma c...   \n19  Em quantos dias da semana o(a) Sr(a) costuma c...   \n20  Em quantos dias da semana o(a) Sr(a) costuma c...   \n21  Em geral, quantas vezes por dia o(a) Sr(a) com...   \n22  Em quantos dias da semana o(a) Sr(a) costuma t...   \n23  Algum médico ou profissional de saúde mental (...   \n24  Valor de risco para depressão segundo question...   \n25                   Classificação risco de depressão   \n\n                                                   pv  \n0   {11: 'Rondônia', 12: 'Acre', 13: 'Amazonas', 1...  \n1                                                  {}  \n2                           {1: 'Urbano', 2: 'Rural'}  \n3   {1: 'Até ¼ salário mínimo', 2: 'Mais de ¼ até ...  \n4   {1: 'Casa', 2: 'Apartamento', 3: 'Habitação em...  \n5                 {1: 'Sim', 2: 'Não', 9: 'Ignorado'}  \n6   {1: 'Sim', 2: 'Não', 3: 'Não sabe', 9: 'Ignora...  \n7                           {1: 'Homem', 2: 'Mulher'}  \n8                                                  {}  \n9   {1: 'Branca', 2: 'Preta', 3: 'Amarela', 4: 'Pa...  \n10                {1: 'Sim', 2: 'Não', 9: 'Ignorado'}  \n11                {1: 'Sim', 2: 'Não', 9: 'Ignorado'}  \n12  {1: 'Creche', 2: 'Pré-escola', 3: 'Classe de a...  \n13                                                 {}  \n14                                  {999: 'Ignorado'}  \n15  {0: 'Nunca ou menos de uma vez por semana', 9:...  \n16  {0: 'Nunca ou menos de uma vez por semana', 9:...  \n17  {0: 'Nunca ou menos de uma vez por semana.', 9...  \n18  {0: 'Nunca ou menos de uma vez por semana.', 9...  \n19  {0: 'Nunca ou menos de uma vez por semana.', 9...  \n20  {0: 'Nunca ou menos de uma vez por semana.', 9...  \n21  {1: 'Uma vez por dia', 2: 'Duas vezes por dia'...  \n22  {0: 'Nunca ou menos de uma vez por semana.', 9...  \n23                {1: 'Sim', 2: 'Não', 9: 'Ignorado'}  \n24                                                 {}  \n25  {1: 'Nenhum ou mínimo', 2: 'Leve', 3: 'Moderad...  ",
      "text/html": "<div>\n<style scoped>\n    .dataframe tbody tr th:only-of-type {\n        vertical-align: middle;\n    }\n\n    .dataframe tbody tr th {\n        vertical-align: top;\n    }\n\n    .dataframe thead th {\n        text-align: right;\n    }\n</style>\n<table border=\"1\" class=\"dataframe\">\n  <thead>\n    <tr style=\"text-align: right;\">\n      <th></th>\n      <th>index</th>\n      <th>origin</th>\n      <th>desc</th>\n      <th>pv</th>\n    </tr>\n  </thead>\n  <tbody>\n    <tr>\n      <th>0</th>\n      <td>uf</td>\n      <td>V0001</td>\n      <td>Unidade da Federação</td>\n      <td>{11: 'Rondônia', 12: 'Acre', 13: 'Amazonas', 1...</td>\n    </tr>\n    <tr>\n      <th>1</th>\n      <td>moradores</td>\n      <td>V0022</td>\n      <td>Total de moradores</td>\n      <td>{}</td>\n    </tr>\n    <tr>\n      <th>2</th>\n      <td>tipo_zona</td>\n      <td>V0026</td>\n      <td>Tipo de situação censitária</td>\n      <td>{1: 'Urbano', 2: 'Rural'}</td>\n    </tr>\n    <tr>\n      <th>3</th>\n      <td>renda_pc</td>\n      <td>VDF004</td>\n      <td>Faixa de rendimento domiciliar per capita (exc...</td>\n      <td>{1: 'Até ¼ salário mínimo', 2: 'Mais de ¼ até ...</td>\n    </tr>\n    <tr>\n      <th>4</th>\n      <td>casa_tipo</td>\n      <td>A001</td>\n      <td>Tipo do domicílio</td>\n      <td>{1: 'Casa', 2: 'Apartamento', 3: 'Habitação em...</td>\n    </tr>\n    <tr>\n      <th>5</th>\n      <td>casa_animal</td>\n      <td>A02201</td>\n      <td>Em seu domicílio, há algum animal de estimação</td>\n      <td>{1: 'Sim', 2: 'Não', 9: 'Ignorado'}</td>\n    </tr>\n    <tr>\n      <th>6</th>\n      <td>cad_sus</td>\n      <td>B001</td>\n      <td>O seu domicílio está cadastrado na unidade de ...</td>\n      <td>{1: 'Sim', 2: 'Não', 3: 'Não sabe', 9: 'Ignora...</td>\n    </tr>\n    <tr>\n      <th>7</th>\n      <td>sexo</td>\n      <td>C006</td>\n      <td>Sexo</td>\n      <td>{1: 'Homem', 2: 'Mulher'}</td>\n    </tr>\n    <tr>\n      <th>8</th>\n      <td>idade</td>\n      <td>C008</td>\n      <td>Idade do morador na data de referência</td>\n      <td>{}</td>\n    </tr>\n    <tr>\n      <th>9</th>\n      <td>cor</td>\n      <td>C009</td>\n      <td>Cor ou raça</td>\n      <td>{1: 'Branca', 2: 'Preta', 3: 'Amarela', 4: 'Pa...</td>\n    </tr>\n    <tr>\n      <th>10</th>\n      <td>vive_conjugue</td>\n      <td>C01001</td>\n      <td>Cônjuge ou companheiro(a) mora em nesse domicí...</td>\n      <td>{1: 'Sim', 2: 'Não', 9: 'Ignorado'}</td>\n    </tr>\n    <tr>\n      <th>11</th>\n      <td>sabe_ler</td>\n      <td>D001</td>\n      <td>Sabe ler e escrever</td>\n      <td>{1: 'Sim', 2: 'Não', 9: 'Ignorado'}</td>\n    </tr>\n    <tr>\n      <th>12</th>\n      <td>escolaridade</td>\n      <td>D00901</td>\n      <td>Qual foi o curso mais elevado que ___frequentou</td>\n      <td>{1: 'Creche', 2: 'Pré-escola', 3: 'Classe de a...</td>\n    </tr>\n    <tr>\n      <th>13</th>\n      <td>peso</td>\n      <td>P00104</td>\n      <td>Peso - Final (em kg)\\n(3 inteiros e 1 casa dec...</td>\n      <td>{}</td>\n    </tr>\n    <tr>\n      <th>14</th>\n      <td>altura</td>\n      <td>P00404</td>\n      <td>Altura - Final (em cm)\\n(3 inteiros)</td>\n      <td>{999: 'Ignorado'}</td>\n    </tr>\n    <tr>\n      <th>15</th>\n      <td>freq_feijao_sem</td>\n      <td>P006</td>\n      <td>Em quantos dias da semana o(a) Sr(a) costuma c...</td>\n      <td>{0: 'Nunca ou menos de uma vez por semana', 9:...</td>\n    </tr>\n    <tr>\n      <th>16</th>\n      <td>freq_verde_sem</td>\n      <td>P00901</td>\n      <td>Em quantos dias da semana, o(a) Sr(a) costuma ...</td>\n      <td>{0: 'Nunca ou menos de uma vez por semana', 9:...</td>\n    </tr>\n    <tr>\n      <th>17</th>\n      <td>freq_carne_vermelha_sem</td>\n      <td>P01101</td>\n      <td>Em quantos dias da semana o(a) Sr(a) costuma c...</td>\n      <td>{0: 'Nunca ou menos de uma vez por semana.', 9...</td>\n    </tr>\n    <tr>\n      <th>18</th>\n      <td>freq_frango_sem</td>\n      <td>P013</td>\n      <td>Em quantos dias da semana o(a) Sr(a) costuma c...</td>\n      <td>{0: 'Nunca ou menos de uma vez por semana.', 9...</td>\n    </tr>\n    <tr>\n      <th>19</th>\n      <td>freq_peixe_sem</td>\n      <td>P015</td>\n      <td>Em quantos dias da semana o(a) Sr(a) costuma c...</td>\n      <td>{0: 'Nunca ou menos de uma vez por semana.', 9...</td>\n    </tr>\n    <tr>\n      <th>20</th>\n      <td>freq_fruta_sem</td>\n      <td>P018</td>\n      <td>Em quantos dias da semana o(a) Sr(a) costuma c...</td>\n      <td>{0: 'Nunca ou menos de uma vez por semana.', 9...</td>\n    </tr>\n    <tr>\n      <th>21</th>\n      <td>freq_fruta_dia</td>\n      <td>P019</td>\n      <td>Em geral, quantas vezes por dia o(a) Sr(a) com...</td>\n      <td>{1: 'Uma vez por dia', 2: 'Duas vezes por dia'...</td>\n    </tr>\n    <tr>\n      <th>22</th>\n      <td>freq_leite_sem</td>\n      <td>P023</td>\n      <td>Em quantos dias da semana o(a) Sr(a) costuma t...</td>\n      <td>{0: 'Nunca ou menos de uma vez por semana.', 9...</td>\n    </tr>\n    <tr>\n      <th>23</th>\n      <td>teve_depre</td>\n      <td>Q092</td>\n      <td>Algum médico ou profissional de saúde mental (...</td>\n      <td>{1: 'Sim', 2: 'Não', 9: 'Ignorado'}</td>\n    </tr>\n    <tr>\n      <th>24</th>\n      <td>phq9_total</td>\n      <td>*</td>\n      <td>Valor de risco para depressão segundo question...</td>\n      <td>{}</td>\n    </tr>\n    <tr>\n      <th>25</th>\n      <td>depression_severity</td>\n      <td>*</td>\n      <td>Classificação risco de depressão</td>\n      <td>{1: 'Nenhum ou mínimo', 2: 'Leve', 3: 'Moderad...</td>\n    </tr>\n  </tbody>\n</table>\n</div>"
     },
     "execution_count": 26,
     "metadata": {},
     "output_type": "execute_result"
    }
   ],
   "source": [
    "desc_dict = {v: {'origin': k} for k, v in selected_columns.items()}\n",
    "\n",
    "desc_dict.update({\n",
    "    'phq9_total': {\n",
    "        'origin': '*',\n",
    "        'desc': \"Valor de risco para depressão segundo questionario PHQ9\",\n",
    "    },\n",
    "    'depression_severity': {\n",
    "        'origin': '*',\n",
    "        'desc': \"Classificação risco de depressão\",\n",
    "        'pv': {1: 'Nenhum ou mínimo', 2: 'Leve', 3: 'Moderada', 4: 'Moderadamente Grave', 5: 'Grave'}\n",
    "    }\n",
    "})\n",
    "\n",
    "df_dict = pd.DataFrame.from_dict(PNS_DICT_RAW.complete_dictionary(desc_dict), orient='index').reset_index()\n",
    "df_dict.to_csv('../data/processed/PNS_2019/dictionary.csv', index=False)\n",
    "df_dict"
   ],
   "metadata": {
    "collapsed": false,
    "ExecuteTime": {
     "end_time": "2023-05-12T19:18:49.539413558Z",
     "start_time": "2023-05-12T19:18:49.478540704Z"
    }
   }
  },
  {
   "cell_type": "markdown",
   "source": [
    "Vamos embaralhar estes dados e salva-los na pasta processed/PNS/all.zip"
   ],
   "metadata": {
    "collapsed": false
   }
  },
  {
   "cell_type": "code",
   "execution_count": 27,
   "outputs": [],
   "source": [
    "df_all = df_all.convert_dtypes()\n",
    "df_all = df_all.sample(frac=1, random_state=42).reset_index(drop=True)\n",
    "df_all.to_csv('../data/processed/PNS_2019/all.zip', index=False, compression=dict(method='zip', archive_name='data.csv', compresslevel=9))"
   ],
   "metadata": {
    "collapsed": false,
    "ExecuteTime": {
     "end_time": "2023-05-12T19:18:52.456817379Z",
     "start_time": "2023-05-12T19:18:49.508209292Z"
    }
   }
  },
  {
   "cell_type": "markdown",
   "source": [
    "Dividindo as base em treino e teste"
   ],
   "metadata": {
    "collapsed": false
   }
  },
  {
   "cell_type": "code",
   "execution_count": 28,
   "outputs": [],
   "source": [
    "df_train, df_test = train_test_split(df_all, test_size=0.5, random_state=42)\n",
    "df_train.to_csv('../data/processed/PNS_2019/train.zip', index=False, compression=dict(method='zip', archive_name='data.csv', compresslevel=9))\n",
    "df_test.to_csv('../data/processed/PNS_2019/test.zip', index=False, compression=dict(method='zip', archive_name='data.csv', compresslevel=9))"
   ],
   "metadata": {
    "collapsed": false,
    "ExecuteTime": {
     "end_time": "2023-05-12T19:18:55.199574508Z",
     "start_time": "2023-05-12T19:18:52.459266923Z"
    }
   }
  },
  {
   "cell_type": "markdown",
   "source": [
    "Com isso temos que as pessoas entrevistadas moram em casas diferentes, isso facilita a divisão dos dados."
   ],
   "metadata": {
    "collapsed": false
   }
  }
 ],
 "metadata": {
  "kernelspec": {
   "display_name": "Python 3",
   "language": "python",
   "name": "python3"
  },
  "language_info": {
   "codemirror_mode": {
    "name": "ipython",
    "version": 2
   },
   "file_extension": ".py",
   "mimetype": "text/x-python",
   "name": "python",
   "nbconvert_exporter": "python",
   "pygments_lexer": "ipython2",
   "version": "2.7.6"
  }
 },
 "nbformat": 4,
 "nbformat_minor": 0
}
