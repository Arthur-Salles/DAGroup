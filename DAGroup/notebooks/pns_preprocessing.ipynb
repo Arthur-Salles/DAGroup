{
 "cells": [
  {
   "cell_type": "code",
   "execution_count": 1,
   "metadata": {
    "collapsed": true,
    "ExecuteTime": {
     "end_time": "2023-05-11T11:22:37.477760319Z",
     "start_time": "2023-05-11T11:22:01.618375407Z"
    }
   },
   "outputs": [],
   "source": [
    "%load_ext autoreload\n",
    "%autoreload 2\n",
    "\n",
    "from pathlib import Path\n",
    "import pandas as pd\n",
    "from zipfile import ZipFile\n",
    "from sklearn.model_selection import train_test_split\n",
    "\n",
    "PNS_DATA = Path('../data/raw/PNS_2019/PNS_2019.zip').resolve()\n",
    "zip_pense = ZipFile(PNS_DATA)\n",
    "\n",
    "path_unzip = zip_pense.namelist()[0]\n",
    "df = pd.read_csv(zip_pense.open(path_unzip), delimiter=';', low_memory=False)"
   ]
  },
  {
   "cell_type": "code",
   "execution_count": 2,
   "outputs": [
    {
     "name": "stdout",
     "output_type": "stream",
     "text": [
      "O dataset PNS possui 293726 linhas e 1087 colunas (features).\n"
     ]
    }
   ],
   "source": [
    "print(\"O dataset PNS possui {} linhas e {} colunas (features).\".format(*df.shape))"
   ],
   "metadata": {
    "collapsed": false,
    "ExecuteTime": {
     "end_time": "2023-05-11T11:22:37.518826838Z",
     "start_time": "2023-05-11T11:22:37.518391246Z"
    }
   }
  },
  {
   "cell_type": "markdown",
   "source": [
    "Neste projeto estamos interessados nas variáveis relacionadas a indicativo de que o entrevistado possui depressão, vamos usar a questão Q092 (Algum médico ou profissional de saúde mental (como psiquiatra ou psicólogo) já lhe deu o diagnóstico de depressão?) como referência de filtragem de dados, questões mais específicas como 'Por causa da depressão Toma medicamentos', que também poderiam ser utilizadas como parâmetro de indicativo de depressão são, na verdade, dependentes da variável Q092."
   ],
   "metadata": {
    "collapsed": false
   }
  },
  {
   "cell_type": "code",
   "execution_count": 3,
   "outputs": [
    {
     "name": "stdout",
     "output_type": "stream",
     "text": [
      "A quantidade de dados investigável dos dados são 90846, 30.928825% do total.\n"
     ]
    }
   ],
   "source": [
    "selected = df[df['Q092'].isin([1, 2])] # pega somente os registros que foram respondidos como sim ou não\n",
    "print(\"A quantidade de dados investigável dos dados são {}, {:02f}% do total.\".format(selected.shape[0], 100*selected.shape[0]/df.shape[0]))"
   ],
   "metadata": {
    "collapsed": false,
    "ExecuteTime": {
     "end_time": "2023-05-11T11:22:37.753186721Z",
     "start_time": "2023-05-11T11:22:37.519025149Z"
    }
   }
  },
  {
   "cell_type": "code",
   "execution_count": 4,
   "outputs": [
    {
     "name": "stdout",
     "output_type": "stream",
     "text": [
      "Numero de casas entrevistadas:  90846\n",
      "Numero de pessoas entrevistadas:  90846\n"
     ]
    }
   ],
   "source": [
    "print(\"Numero de casas entrevistadas: \", selected.groupby(['V0001', 'V0024', 'UPA_PNS', 'V0006_PNS']).size().reset_index().shape[0])\n",
    "print(\"Numero de pessoas entrevistadas: \", selected.groupby(['V0001', 'V0024', 'UPA_PNS', 'V0006_PNS', 'C00301']).size().reset_index().shape[0])"
   ],
   "metadata": {
    "collapsed": false,
    "ExecuteTime": {
     "end_time": "2023-05-11T11:22:37.800659512Z",
     "start_time": "2023-05-11T11:22:37.754813872Z"
    }
   }
  },
  {
   "cell_type": "code",
   "execution_count": 44,
   "outputs": [
    {
     "data": {
      "text/plain": "M00302\n1.0    1107\n2.0     570\nName: count, dtype: int64"
     },
     "execution_count": 44,
     "metadata": {},
     "output_type": "execute_result"
    }
   ],
   "source": [
    "selected['M00302'].value_counts() # Entrevista do adulto selecionado: 1 - realizada"
   ],
   "metadata": {
    "collapsed": false,
    "ExecuteTime": {
     "end_time": "2023-05-11T15:55:34.050450203Z",
     "start_time": "2023-05-11T15:55:33.989183601Z"
    }
   }
  },
  {
   "cell_type": "code",
   "execution_count": 45,
   "outputs": [
    {
     "data": {
      "text/plain": "Q092\n2.0    82514\n1.0     8332\nName: count, dtype: int64"
     },
     "execution_count": 45,
     "metadata": {},
     "output_type": "execute_result"
    }
   ],
   "source": [
    "selected['Q092'].value_counts()"
   ],
   "metadata": {
    "collapsed": false,
    "ExecuteTime": {
     "end_time": "2023-05-11T15:55:36.547588178Z",
     "start_time": "2023-05-11T15:55:36.532926123Z"
    }
   }
  },
  {
   "cell_type": "code",
   "execution_count": 34,
   "outputs": [
    {
     "data": {
      "text/plain": "0         1110011\n9         1110011\n10        1110011\n18        1110011\n19        1110011\n           ...   \n293709    5310220\n293712    5310220\n293713    5310220\n293718    5310220\n293720    5310220\nName: V0024, Length: 90846, dtype: int64"
     },
     "execution_count": 34,
     "metadata": {},
     "output_type": "execute_result"
    }
   ],
   "source": [
    "selected['V0024']"
   ],
   "metadata": {
    "collapsed": false,
    "ExecuteTime": {
     "end_time": "2023-05-11T12:58:42.555181183Z",
     "start_time": "2023-05-11T12:58:42.533019952Z"
    }
   }
  },
  {
   "cell_type": "markdown",
   "source": [
    "#### Filtragem das colunas de interesse"
   ],
   "metadata": {
    "collapsed": false
   }
  },
  {
   "cell_type": "code",
   "execution_count": null,
   "outputs": [],
   "source": [
    "PNS_SELECTED_VAR = {\n",
    "    # Parte 1 - Identificação e Controle\n",
    "    'V0001': \"Unidade da Federação\",\n",
    "    'V0022': \"Total de moradores\",\n",
    "    'V0026': \"Tipo de situação censitária\",\n",
    "    'V0031': \"Tipo de área\",\n",
    "    'V0025A': \"Seleção do morador de 15 anos ou mais para responder o questionário individual\",\n",
    "\n",
    "    # VARIÁVEIS DERIVADAS\n",
    "    'VDF004': \"Faixa de rendimento domiciliar per capita\",\n",
    "\n",
    "    # Módulo A - Informações do Domicílio\n",
    "    'A001': \"Tipo do domicílio\",\n",
    "    'A02201': \"Em seu domicílio, há algum animal de estimação?\",\n",
    "\n",
    "    # Módulo B - Visitas domiciliares de Equipe de Saúde da Família e Agentes de Endemias\n",
    "    'B001': \"O seu domicílio está cadastrado na unidade de saúde da família\",\n",
    "\n",
    "    # Módulo C - Características gerais dos moradores\n",
    "    'C001': \"Número de pessoas no domicílio\",\n",
    "    'C006': \"Sexo\",\n",
    "    'C008': \"Idade do morador na data de referência\",\n",
    "    'C009': \"Cor ou raça\",\n",
    "    'C01001': \"Cônjuge ou companheiro(a) mora em nesse domicílio.\",\n",
    "\n",
    "    # Módulo D - Características de educação dos moradores\n",
    "    'D001': \"Sabe ler e escrever?\",\n",
    "    'D00901': \"Qual foi o curso mais elevado?\",\n",
    "\n",
    "}\n",
    "\n",
    "df_all1 = selected[list(PNS_SELECTED_VAR.keys()) + VIOLENCE_KEYS]\n",
    "df_all2 = selected.filter(regex='^[A]')\n",
    "#df_all2 = selected.filter(regex='^[C|Q|P]')\n",
    "\n",
    "df_all = pd.concat([df_all1, df_all2], axis=1)\n",
    "\n",
    "df_all"
   ],
   "metadata": {
    "collapsed": false
   }
  },
  {
   "cell_type": "code",
   "execution_count": 47,
   "outputs": [],
   "source": [
    "PNS_SELECTED_VAR = {\n",
    "    # Parte 1 - Identificação e Controle\n",
    "    'V0001': \"Unidade da Federação\",\n",
    "    'V0022': \"Total de moradores\",\n",
    "    'V0026': \"Tipo de situação censitária\",\n",
    "    'V0031': \"Tipo de área\",\n",
    "    'V0025A': \"Seleção do morador de 15 anos ou mais para responder o questionário individual\",\n",
    "\n",
    "\n",
    "    # VARIÁVEIS DERIVADAS\n",
    "    'VDF004': \"Faixa de rendimento domiciliar per capita\",\n",
    "\n",
    "    # Módulo A - Informações do Domicílio\n",
    "    'A001': \"Tipo do domicílio\",\n",
    "    'A02201': \"Em seu domicílio, há algum animal de estimação?\",\n",
    "\n",
    "    # Módulo B - Visitas domiciliares de Equipe de Saúde da Família e Agentes de Endemias\n",
    "    'B001': \"O seu domicílio está cadastrado na unidade de saúde da família\",\n",
    "\n",
    "    # Módulo C - Características gerais dos moradores\n",
    "    'C001': \"Número de pessoas no domicílio\",\n",
    "    'C006': \"Sexo\",\n",
    "    'C008': \"Idade do morador na data de referência\",\n",
    "    'C009': \"Cor ou raça\",\n",
    "    'C01001': \"Cônjuge ou companheiro(a) mora em nesse domicílio.\",\n",
    "\n",
    "\n",
    "    # Módulo D - Características de educação dos moradores\n",
    "    'D001': \"Sabe ler e escrever?\",\n",
    "    'D00901': \"Qual foi o curso mais elevado?\",\n",
    "\n",
    "    # Módulo P - Estilos de vida\n",
    "    'P00104': \"Peso (em kg)\",\n",
    "    'P00404': \"Altura (em cm)\",\n",
    "    'P006': \"Em quantos dias da semana o(a) Sr(a) costuma comer feijão? \",\n",
    "    'P00901': \"Em quantos dias da semana, o(a) Sr(a) costuma comer pelo menos um tipo de verdura ou legume (sem contar batata, mandioca, cará ou inhame) como alface, tomate, couve, cenoura, chuchu, berinjela, abobrinha? \",\n",
    "    'P01101': \"Em quantos dias da semana o(a) Sr(a) costuma comer carne vermelha (boi, porco, cabrito, bode, ovelha etc.)? \",\n",
    "    'P013': \"Em quantos dias da semana o(a) Sr(a) costuma comer frango/galinha? \",\n",
    "    'P015': \"Em quantos dias da semana o(a) Sr(a) costuma comer peixe?  \",\n",
    "    'P018': \"Em quantos dias da semana o(a) Sr(a) costuma comer frutas? \",\n",
    "    'P019': \"Em geral, quantas vezes por dia o(a) Sr(a) come frutas?  \",\n",
    "    'P023': \"Em quantos dias da semana o(a) Sr(a) costuma tomar leite? (de origem animal: vaca, cabra, búfala etc.)?\",\n",
    "\n",
    "}\n",
    "\n",
    "VIOLENCE_KEYS = ['V001', 'V00101', 'V00201', 'V00202', 'V00203', 'V00204', 'V00205', 'V003', 'V006', 'V007', 'V01401', 'V01402', 'V01403', 'V01404', 'V01405', 'V015', 'V018', 'V019', 'V02701', 'V02702', 'V02801', 'V02802', 'V029', 'V032', 'V033', 'V034', 'V03501', 'V03502', 'V03503', 'V036', 'V037', 'V038', 'V039']\n",
    "\n",
    "SUBJECT_KEYS = ['V0001', 'V0024', 'UPA_PNS', 'V0006_PNS', 'V0026']\n",
    "\n",
    "df_all1 = selected[list(PNS_SELECTED_VAR.keys()) + VIOLENCE_KEYS]\n",
    "df_all2 = selected.filter(regex='^[PQ]')\n",
    "#df_all2 = selected.filter(regex='^[C|Q|P]')\n",
    "\n",
    "df_all = pd.concat([df_all1, df_all2], axis=1)"
   ],
   "metadata": {
    "collapsed": false,
    "ExecuteTime": {
     "end_time": "2023-05-11T16:17:26.461967132Z",
     "start_time": "2023-05-11T16:17:26.351083083Z"
    }
   }
  },
  {
   "cell_type": "code",
   "execution_count": 65,
   "outputs": [
    {
     "data": {
      "text/plain": "        V0001  V0022  V0026  V0031  V0025A  VDF004  A001  A02201  B001  C001   \n0          11    6.0      1      1     1.0     2.0   1.0     1.0   1.0   6.0  \\\n9          11    4.0      1      1     1.0     2.0   1.0     1.0   1.0   4.0   \n10         11    8.0      1      1     1.0     3.0   1.0     1.0   1.0   8.0   \n18         11    1.0      1      1     1.0     2.0   1.0     1.0   1.0   1.0   \n19         11    2.0      1      1     1.0     1.0   2.0     2.0   1.0   2.0   \n...       ...    ...    ...    ...     ...     ...   ...     ...   ...   ...   \n293709     53    3.0      2      1     1.0     4.0   1.0     1.0   2.0   3.0   \n293712     53    2.0      2      1     1.0     4.0   1.0     1.0   3.0   2.0   \n293713     53    4.0      2      1     1.0     2.0   1.0     1.0   1.0   4.0   \n293718     53    3.0      2      1     1.0     5.0   1.0     1.0   2.0   3.0   \n293720     53    1.0      2      1     1.0     4.0   1.0     1.0   2.0   1.0   \n\n        ...  Q12501  Q12607  Q12608  Q12609  Q12610  Q127  Q128  Q132  Q133   \n0       ...     NaN     NaN     NaN     NaN     NaN   NaN   2.0   2.0   NaN  \\\n9       ...     NaN     NaN     NaN     NaN     NaN   NaN   2.0   2.0   NaN   \n10      ...     NaN     NaN     NaN     NaN     NaN   NaN   2.0   2.0   NaN   \n18      ...     NaN     NaN     NaN     NaN     NaN   NaN   2.0   2.0   NaN   \n19      ...     NaN     NaN     NaN     NaN     NaN   NaN   2.0   2.0   NaN   \n...     ...     ...     ...     ...     ...     ...   ...   ...   ...   ...   \n293709  ...     NaN     NaN     NaN     NaN     NaN   NaN   2.0   2.0   NaN   \n293712  ...     NaN     NaN     NaN     NaN     NaN   NaN   2.0   2.0   NaN   \n293713  ...     NaN     NaN     NaN     NaN     NaN   NaN   2.0   2.0   NaN   \n293718  ...     NaN     NaN     NaN     NaN     NaN   NaN   2.0   2.0   NaN   \n293720  ...     NaN     NaN     NaN     NaN     NaN   NaN   2.0   2.0   NaN   \n\n        Q134  \n0        NaN  \n9        NaN  \n10       NaN  \n18       NaN  \n19       NaN  \n...      ...  \n293709   NaN  \n293712   NaN  \n293713   NaN  \n293718   NaN  \n293720   NaN  \n\n[90846 rows x 441 columns]",
      "text/html": "<div>\n<style scoped>\n    .dataframe tbody tr th:only-of-type {\n        vertical-align: middle;\n    }\n\n    .dataframe tbody tr th {\n        vertical-align: top;\n    }\n\n    .dataframe thead th {\n        text-align: right;\n    }\n</style>\n<table border=\"1\" class=\"dataframe\">\n  <thead>\n    <tr style=\"text-align: right;\">\n      <th></th>\n      <th>V0001</th>\n      <th>V0022</th>\n      <th>V0026</th>\n      <th>V0031</th>\n      <th>V0025A</th>\n      <th>VDF004</th>\n      <th>A001</th>\n      <th>A02201</th>\n      <th>B001</th>\n      <th>C001</th>\n      <th>...</th>\n      <th>Q12501</th>\n      <th>Q12607</th>\n      <th>Q12608</th>\n      <th>Q12609</th>\n      <th>Q12610</th>\n      <th>Q127</th>\n      <th>Q128</th>\n      <th>Q132</th>\n      <th>Q133</th>\n      <th>Q134</th>\n    </tr>\n  </thead>\n  <tbody>\n    <tr>\n      <th>0</th>\n      <td>11</td>\n      <td>6.0</td>\n      <td>1</td>\n      <td>1</td>\n      <td>1.0</td>\n      <td>2.0</td>\n      <td>1.0</td>\n      <td>1.0</td>\n      <td>1.0</td>\n      <td>6.0</td>\n      <td>...</td>\n      <td>NaN</td>\n      <td>NaN</td>\n      <td>NaN</td>\n      <td>NaN</td>\n      <td>NaN</td>\n      <td>NaN</td>\n      <td>2.0</td>\n      <td>2.0</td>\n      <td>NaN</td>\n      <td>NaN</td>\n    </tr>\n    <tr>\n      <th>9</th>\n      <td>11</td>\n      <td>4.0</td>\n      <td>1</td>\n      <td>1</td>\n      <td>1.0</td>\n      <td>2.0</td>\n      <td>1.0</td>\n      <td>1.0</td>\n      <td>1.0</td>\n      <td>4.0</td>\n      <td>...</td>\n      <td>NaN</td>\n      <td>NaN</td>\n      <td>NaN</td>\n      <td>NaN</td>\n      <td>NaN</td>\n      <td>NaN</td>\n      <td>2.0</td>\n      <td>2.0</td>\n      <td>NaN</td>\n      <td>NaN</td>\n    </tr>\n    <tr>\n      <th>10</th>\n      <td>11</td>\n      <td>8.0</td>\n      <td>1</td>\n      <td>1</td>\n      <td>1.0</td>\n      <td>3.0</td>\n      <td>1.0</td>\n      <td>1.0</td>\n      <td>1.0</td>\n      <td>8.0</td>\n      <td>...</td>\n      <td>NaN</td>\n      <td>NaN</td>\n      <td>NaN</td>\n      <td>NaN</td>\n      <td>NaN</td>\n      <td>NaN</td>\n      <td>2.0</td>\n      <td>2.0</td>\n      <td>NaN</td>\n      <td>NaN</td>\n    </tr>\n    <tr>\n      <th>18</th>\n      <td>11</td>\n      <td>1.0</td>\n      <td>1</td>\n      <td>1</td>\n      <td>1.0</td>\n      <td>2.0</td>\n      <td>1.0</td>\n      <td>1.0</td>\n      <td>1.0</td>\n      <td>1.0</td>\n      <td>...</td>\n      <td>NaN</td>\n      <td>NaN</td>\n      <td>NaN</td>\n      <td>NaN</td>\n      <td>NaN</td>\n      <td>NaN</td>\n      <td>2.0</td>\n      <td>2.0</td>\n      <td>NaN</td>\n      <td>NaN</td>\n    </tr>\n    <tr>\n      <th>19</th>\n      <td>11</td>\n      <td>2.0</td>\n      <td>1</td>\n      <td>1</td>\n      <td>1.0</td>\n      <td>1.0</td>\n      <td>2.0</td>\n      <td>2.0</td>\n      <td>1.0</td>\n      <td>2.0</td>\n      <td>...</td>\n      <td>NaN</td>\n      <td>NaN</td>\n      <td>NaN</td>\n      <td>NaN</td>\n      <td>NaN</td>\n      <td>NaN</td>\n      <td>2.0</td>\n      <td>2.0</td>\n      <td>NaN</td>\n      <td>NaN</td>\n    </tr>\n    <tr>\n      <th>...</th>\n      <td>...</td>\n      <td>...</td>\n      <td>...</td>\n      <td>...</td>\n      <td>...</td>\n      <td>...</td>\n      <td>...</td>\n      <td>...</td>\n      <td>...</td>\n      <td>...</td>\n      <td>...</td>\n      <td>...</td>\n      <td>...</td>\n      <td>...</td>\n      <td>...</td>\n      <td>...</td>\n      <td>...</td>\n      <td>...</td>\n      <td>...</td>\n      <td>...</td>\n      <td>...</td>\n    </tr>\n    <tr>\n      <th>293709</th>\n      <td>53</td>\n      <td>3.0</td>\n      <td>2</td>\n      <td>1</td>\n      <td>1.0</td>\n      <td>4.0</td>\n      <td>1.0</td>\n      <td>1.0</td>\n      <td>2.0</td>\n      <td>3.0</td>\n      <td>...</td>\n      <td>NaN</td>\n      <td>NaN</td>\n      <td>NaN</td>\n      <td>NaN</td>\n      <td>NaN</td>\n      <td>NaN</td>\n      <td>2.0</td>\n      <td>2.0</td>\n      <td>NaN</td>\n      <td>NaN</td>\n    </tr>\n    <tr>\n      <th>293712</th>\n      <td>53</td>\n      <td>2.0</td>\n      <td>2</td>\n      <td>1</td>\n      <td>1.0</td>\n      <td>4.0</td>\n      <td>1.0</td>\n      <td>1.0</td>\n      <td>3.0</td>\n      <td>2.0</td>\n      <td>...</td>\n      <td>NaN</td>\n      <td>NaN</td>\n      <td>NaN</td>\n      <td>NaN</td>\n      <td>NaN</td>\n      <td>NaN</td>\n      <td>2.0</td>\n      <td>2.0</td>\n      <td>NaN</td>\n      <td>NaN</td>\n    </tr>\n    <tr>\n      <th>293713</th>\n      <td>53</td>\n      <td>4.0</td>\n      <td>2</td>\n      <td>1</td>\n      <td>1.0</td>\n      <td>2.0</td>\n      <td>1.0</td>\n      <td>1.0</td>\n      <td>1.0</td>\n      <td>4.0</td>\n      <td>...</td>\n      <td>NaN</td>\n      <td>NaN</td>\n      <td>NaN</td>\n      <td>NaN</td>\n      <td>NaN</td>\n      <td>NaN</td>\n      <td>2.0</td>\n      <td>2.0</td>\n      <td>NaN</td>\n      <td>NaN</td>\n    </tr>\n    <tr>\n      <th>293718</th>\n      <td>53</td>\n      <td>3.0</td>\n      <td>2</td>\n      <td>1</td>\n      <td>1.0</td>\n      <td>5.0</td>\n      <td>1.0</td>\n      <td>1.0</td>\n      <td>2.0</td>\n      <td>3.0</td>\n      <td>...</td>\n      <td>NaN</td>\n      <td>NaN</td>\n      <td>NaN</td>\n      <td>NaN</td>\n      <td>NaN</td>\n      <td>NaN</td>\n      <td>2.0</td>\n      <td>2.0</td>\n      <td>NaN</td>\n      <td>NaN</td>\n    </tr>\n    <tr>\n      <th>293720</th>\n      <td>53</td>\n      <td>1.0</td>\n      <td>2</td>\n      <td>1</td>\n      <td>1.0</td>\n      <td>4.0</td>\n      <td>1.0</td>\n      <td>1.0</td>\n      <td>2.0</td>\n      <td>1.0</td>\n      <td>...</td>\n      <td>NaN</td>\n      <td>NaN</td>\n      <td>NaN</td>\n      <td>NaN</td>\n      <td>NaN</td>\n      <td>NaN</td>\n      <td>2.0</td>\n      <td>2.0</td>\n      <td>NaN</td>\n      <td>NaN</td>\n    </tr>\n  </tbody>\n</table>\n<p>90846 rows × 441 columns</p>\n</div>"
     },
     "execution_count": 65,
     "metadata": {},
     "output_type": "execute_result"
    }
   ],
   "source": [
    "df_all"
   ],
   "metadata": {
    "collapsed": false,
    "ExecuteTime": {
     "end_time": "2023-05-11T16:26:09.256389114Z",
     "start_time": "2023-05-11T16:26:09.254758495Z"
    }
   }
  },
  {
   "cell_type": "code",
   "execution_count": 68,
   "outputs": [
    {
     "name": "stdout",
     "output_type": "stream",
     "text": [
      "123\n"
     ]
    }
   ],
   "source": [
    "n_nan_cols = (df_all.isna().mean() <= 0.2).sum()\n",
    "\n",
    "print(n_nan_cols)  # imprime 2"
   ],
   "metadata": {
    "collapsed": false,
    "ExecuteTime": {
     "end_time": "2023-05-11T16:38:05.006140827Z",
     "start_time": "2023-05-11T16:38:04.904020515Z"
    }
   }
  },
  {
   "cell_type": "code",
   "execution_count": 66,
   "outputs": [],
   "source": [
    "df_all.to_csv('../data/processed/PNS_2019/pns_filtered.zip', index=False, compression=dict(method='zip', archive_name='data.csv', compresslevel=9))\n"
   ],
   "metadata": {
    "collapsed": false,
    "ExecuteTime": {
     "end_time": "2023-05-11T16:27:33.110853589Z",
     "start_time": "2023-05-11T16:27:02.642248493Z"
    }
   }
  },
  {
   "cell_type": "code",
   "execution_count": 60,
   "outputs": [
    {
     "data": {
      "text/plain": "V0001     False\nV0022     False\nV0026     False\nV0031     False\nV0025A    False\n          ...  \nQ127      False\nQ128      False\nQ132      False\nQ133      False\nQ134      False\nLength: 441, dtype: bool"
     },
     "execution_count": 60,
     "metadata": {},
     "output_type": "execute_result"
    }
   ],
   "source": [
    "df_all.dropna().mean() >= 0.8"
   ],
   "metadata": {
    "collapsed": false,
    "ExecuteTime": {
     "end_time": "2023-05-11T16:24:59.654631513Z",
     "start_time": "2023-05-11T16:24:59.560692019Z"
    }
   }
  },
  {
   "cell_type": "code",
   "execution_count": 61,
   "outputs": [
    {
     "data": {
      "text/plain": "V0001     NaN\nV0022     NaN\nV0026     NaN\nV0031     NaN\nV0025A    NaN\n         ... \nQ127      NaN\nQ128      NaN\nQ132      NaN\nQ133      NaN\nQ134      NaN\nLength: 441, dtype: object"
     },
     "execution_count": 61,
     "metadata": {},
     "output_type": "execute_result"
    }
   ],
   "source": [
    "df_all.dropna().mean()"
   ],
   "metadata": {
    "collapsed": false,
    "ExecuteTime": {
     "end_time": "2023-05-11T16:25:23.562616478Z",
     "start_time": "2023-05-11T16:25:23.473361083Z"
    }
   }
  },
  {
   "cell_type": "code",
   "execution_count": 59,
   "outputs": [
    {
     "data": {
      "text/plain": "Empty DataFrame\nColumns: []\nIndex: [0, 9, 10, 18, 19, 21, 22, 26, 29, 31, 32, 34, 35, 41, 44, 51, 56, 57, 59, 60, 61, 62, 65, 73, 76, 79, 89, 91, 94, 96, 99, 103, 117, 119, 125, 127, 136, 140, 142, 148, 152, 156, 170, 176, 181, 183, 186, 197, 200, 204, 207, 209, 212, 217, 219, 222, 223, 226, 228, 229, 234, 238, 243, 248, 255, 266, 270, 277, 280, 286, 299, 302, 304, 309, 310, 312, 314, 316, 320, 321, 323, 328, 332, 337, 341, 344, 348, 351, 355, 360, 361, 365, 370, 371, 374, 376, 378, 380, 381, 384, ...]\n\n[90846 rows x 0 columns]",
      "text/html": "<div>\n<style scoped>\n    .dataframe tbody tr th:only-of-type {\n        vertical-align: middle;\n    }\n\n    .dataframe tbody tr th {\n        vertical-align: top;\n    }\n\n    .dataframe thead th {\n        text-align: right;\n    }\n</style>\n<table border=\"1\" class=\"dataframe\">\n  <thead>\n    <tr style=\"text-align: right;\">\n      <th></th>\n    </tr>\n  </thead>\n  <tbody>\n    <tr>\n      <th>0</th>\n    </tr>\n    <tr>\n      <th>9</th>\n    </tr>\n    <tr>\n      <th>10</th>\n    </tr>\n    <tr>\n      <th>18</th>\n    </tr>\n    <tr>\n      <th>19</th>\n    </tr>\n    <tr>\n      <th>...</th>\n    </tr>\n    <tr>\n      <th>293709</th>\n    </tr>\n    <tr>\n      <th>293712</th>\n    </tr>\n    <tr>\n      <th>293713</th>\n    </tr>\n    <tr>\n      <th>293718</th>\n    </tr>\n    <tr>\n      <th>293720</th>\n    </tr>\n  </tbody>\n</table>\n<p>90846 rows × 0 columns</p>\n</div>"
     },
     "execution_count": 59,
     "metadata": {},
     "output_type": "execute_result"
    }
   ],
   "source": [
    "# filtrar o DataFrame pelas colunas que possuem pelo menos 80% dos dados não nulos\n",
    "filtered_df = df_all.loc[:, (df_all.dropna().mean() >= 0.8)]\n",
    "\n",
    "filtered_df"
   ],
   "metadata": {
    "collapsed": false,
    "ExecuteTime": {
     "end_time": "2023-05-11T16:24:16.361113016Z",
     "start_time": "2023-05-11T16:24:16.268952956Z"
    }
   }
  },
  {
   "cell_type": "code",
   "execution_count": 38,
   "outputs": [
    {
     "name": "stdout",
     "output_type": "stream",
     "text": [
      "['V001', 'V00101', 'V00201', 'V00202', 'V00203', 'V00204', 'V00205', 'V003', 'V006', 'V007', 'V01401', 'V01402', 'V01403', 'V01404', 'V01405', 'V015', 'V018', 'V019', 'V02701', 'V02702', 'V02801', 'V02802', 'V029', 'V032', 'V033', 'V034', 'V03501', 'V03502', 'V03503', 'V036', 'V037', 'V038', 'V039']\n"
     ]
    }
   ],
   "source": [
    "with open('test', 'r') as file:\n",
    "    lines = file.readlines()\n",
    "    string_list = []\n",
    "    for line in lines:\n",
    "        if not line.isspace() and line.strip():\n",
    "            string_list.append(line.strip())\n",
    "print(string_list)"
   ],
   "metadata": {
    "collapsed": false,
    "ExecuteTime": {
     "end_time": "2023-05-11T13:54:01.822669290Z",
     "start_time": "2023-05-11T13:54:01.779210337Z"
    }
   }
  },
  {
   "cell_type": "code",
   "execution_count": 41,
   "outputs": [
    {
     "data": {
      "text/plain": "Index(['V0001', 'V0031', 'A001', 'A02201', 'C001', 'B001', 'C006', 'C008',\n       'C009', 'C01001', 'D001', 'P00102', 'P00201', 'P00402', 'P00601',\n       'P00602', 'P00603', 'P00604', 'P00605', 'P00607', 'P00608', 'P00609',\n       'P00610', 'P00611', 'P00612', 'P00613', 'P00614', 'P00615', 'P00616',\n       'P00617', 'P00618', 'P00619', 'P00620', 'P00621', 'P00622', 'P00623',\n       'P006', 'P00901', 'P01101', 'P013', 'P015', 'P02001', 'P01601', 'P018',\n       'P02002', 'P023', 'P02501', 'P02602', 'P02601', 'P027', 'P034', 'P042',\n       'P044', 'P04501', 'P04502', 'P046', 'P04701', 'P050', 'P067', 'P06701',\n       'P068', 'P069', 'P06901', 'P07004', 'P07005', 'P07006', 'P07007',\n       'P07101', 'Q00101', 'Q02901', 'Q05901', 'Q06306', 'Q068', 'Q074',\n       'Q079', 'Q084', 'Q088', 'Q092', 'Q11006', 'Q11604', 'Q120', 'Q124',\n       'Q128', 'Q132'],\n      dtype='object')"
     },
     "execution_count": 41,
     "metadata": {},
     "output_type": "execute_result"
    }
   ],
   "source": [
    "df_all.dropna(axis=1).columns"
   ],
   "metadata": {
    "collapsed": false,
    "ExecuteTime": {
     "end_time": "2023-05-11T13:57:05.512184581Z",
     "start_time": "2023-05-11T13:57:05.458608344Z"
    }
   }
  },
  {
   "cell_type": "code",
   "execution_count": null,
   "outputs": [],
   "source": [
    "\n",
    "df_all = selected[SUBJECT_KEYS]\n",
    "selected = df_all\n",
    "df_all"
   ],
   "metadata": {
    "collapsed": false
   }
  },
  {
   "cell_type": "markdown",
   "source": [
    "Vamos embaralhar estes dados e salva-los na pasta processed/PNS/all.zip"
   ],
   "metadata": {
    "collapsed": false
   }
  },
  {
   "cell_type": "code",
   "execution_count": 5,
   "outputs": [],
   "source": [
    "df_all = selected.sample(frac=1, random_state=42).reset_index(drop=True)\n",
    "df_all.to_csv('../data/processed/PNS_2019/all.zip', index=False, compression=dict(method='zip', archive_name='data.csv', compresslevel=9))"
   ],
   "metadata": {
    "collapsed": false,
    "ExecuteTime": {
     "end_time": "2023-05-11T11:24:07.395756847Z",
     "start_time": "2023-05-11T11:22:37.802992634Z"
    }
   }
  },
  {
   "cell_type": "markdown",
   "source": [
    "Dividindo as base em treino e teste"
   ],
   "metadata": {
    "collapsed": false
   }
  },
  {
   "cell_type": "code",
   "execution_count": 6,
   "outputs": [],
   "source": [
    "df_train, df_test = train_test_split(df_all, test_size=0.5, random_state=42)\n",
    "df_train.to_csv('../data/processed/PNS_2019/train.zip', index=False, compression=dict(method='zip', archive_name='data.csv', compresslevel=9))\n",
    "df_test.to_csv('../data/processed/PNS_2019/test.zip', index=False, compression=dict(method='zip', archive_name='data.csv', compresslevel=9))"
   ],
   "metadata": {
    "collapsed": false,
    "ExecuteTime": {
     "end_time": "2023-05-11T11:25:36.754785740Z",
     "start_time": "2023-05-11T11:24:07.438464729Z"
    }
   }
  },
  {
   "cell_type": "markdown",
   "source": [
    "Com isso temos que as pessoas entrevistadas moram em casas diferentes, isso facilita a divisão dos dados."
   ],
   "metadata": {
    "collapsed": false
   }
  }
 ],
 "metadata": {
  "kernelspec": {
   "display_name": "Python 3",
   "language": "python",
   "name": "python3"
  },
  "language_info": {
   "codemirror_mode": {
    "name": "ipython",
    "version": 2
   },
   "file_extension": ".py",
   "mimetype": "text/x-python",
   "name": "python",
   "nbconvert_exporter": "python",
   "pygments_lexer": "ipython2",
   "version": "2.7.6"
  }
 },
 "nbformat": 4,
 "nbformat_minor": 0
}
