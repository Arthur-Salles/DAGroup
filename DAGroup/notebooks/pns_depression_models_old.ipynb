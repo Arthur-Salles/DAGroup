{
 "cells": [
  {
   "cell_type": "code",
   "execution_count": 161,
   "metadata": {
    "collapsed": true,
    "ExecuteTime": {
     "end_time": "2023-06-20T18:34:47.085163194Z",
     "start_time": "2023-06-20T18:34:44.586879181Z"
    }
   },
   "outputs": [
    {
     "name": "stdout",
     "output_type": "stream",
     "text": [
      "The autoreload extension is already loaded. To reload it, use:\n",
      "  %reload_ext autoreload\n"
     ]
    }
   ],
   "source": [
    "%load_ext autoreload\n",
    "%autoreload 2\n",
    "import sys\n",
    "sys.path.insert(0, '../src')\n",
    "\n",
    "from pathlib import Path\n",
    "import pandas as pd\n",
    "from zipfile import ZipFile\n",
    "import numpy as np\n",
    "\n",
    "PNS_DATA = Path('../data/processed/PNS_2019/all.zip').resolve()\n",
    "zip_pns = ZipFile(PNS_DATA)\n",
    "df = pd.read_csv(zip_pns.open(zip_pns.namelist()[0]), sep=\",\", low_memory=False)\n",
    "\n",
    "PATH_GEN_DATA = Path('generated_data/pns_data_models').resolve()"
   ]
  },
  {
   "cell_type": "markdown",
   "source": [
    "# Variáveis de interesse"
   ],
   "metadata": {
    "collapsed": false
   }
  },
  {
   "cell_type": "code",
   "execution_count": 162,
   "outputs": [],
   "source": [
    "df['depression'] = np.where(df['phq9_total'].isna(), np.nan, np.where(df['phq9_total'] >= 10, 1, 0))"
   ],
   "metadata": {
    "collapsed": false,
    "ExecuteTime": {
     "end_time": "2023-06-20T18:34:47.104481766Z",
     "start_time": "2023-06-20T18:34:47.085323045Z"
    }
   }
  },
  {
   "cell_type": "code",
   "execution_count": 163,
   "outputs": [
    {
     "data": {
      "text/plain": "depression\n0.0    58451\n1.0     6949\nName: count, dtype: int64"
     },
     "execution_count": 163,
     "metadata": {},
     "output_type": "execute_result"
    }
   ],
   "source": [
    "df['depression'].value_counts()"
   ],
   "metadata": {
    "collapsed": false,
    "ExecuteTime": {
     "end_time": "2023-06-20T18:34:47.136063796Z",
     "start_time": "2023-06-20T18:34:47.105379360Z"
    }
   }
  },
  {
   "cell_type": "code",
   "execution_count": 164,
   "outputs": [
    {
     "name": "stderr",
     "output_type": "stream",
     "text": [
      "/tmp/ipykernel_41234/4079747439.py:4: SettingWithCopyWarning: \n",
      "A value is trying to be set on a copy of a slice from a DataFrame.\n",
      "Try using .loc[row_indexer,col_indexer] = value instead\n",
      "\n",
      "See the caveats in the documentation: https://pandas.pydata.org/pandas-docs/stable/user_guide/indexing.html#returning-a-view-versus-a-copy\n",
      "  df_innatura['qst_innatura'] = (df_innatura == 1.0).sum(axis=1)\n",
      "/tmp/ipykernel_41234/4079747439.py:8: SettingWithCopyWarning: \n",
      "A value is trying to be set on a copy of a slice from a DataFrame.\n",
      "Try using .loc[row_indexer,col_indexer] = value instead\n",
      "\n",
      "See the caveats in the documentation: https://pandas.pydata.org/pandas-docs/stable/user_guide/indexing.html#returning-a-view-versus-a-copy\n",
      "  df_upf['qst_upf'] = (df_upf == 1.0).sum(axis=1)\n"
     ]
    }
   ],
   "source": [
    "# Alimentos in natura ou minimamente processado\n",
    "innatura = ['P00601','P00602', 'P00603', 'P00604', 'P00605', 'P00607', 'P00608', 'P00609', 'P00610', 'P00611', 'P00612', 'P00613']\n",
    "df_innatura = df[innatura]\n",
    "df_innatura['qst_innatura'] = (df_innatura == 1.0).sum(axis=1)\n",
    "# Alimentos ultraprocessados\n",
    "ultraprocessados = ['P00614', 'P00615', 'P00616', 'P00617', 'P00618', 'P00619', 'P00620', 'P00621', 'P00622', 'P00623']\n",
    "df_upf = df[ultraprocessados]\n",
    "df_upf['qst_upf'] = (df_upf == 1.0).sum(axis=1)"
   ],
   "metadata": {
    "collapsed": false,
    "ExecuteTime": {
     "end_time": "2023-06-20T18:34:47.170467929Z",
     "start_time": "2023-06-20T18:34:47.129396566Z"
    }
   }
  },
  {
   "cell_type": "code",
   "execution_count": 165,
   "outputs": [],
   "source": [
    "# A literatura não usa a porcentagem de ultraprocessados do prato como análise. O artigo 'Food consumption and depression among Brazilian adults: results from the Brazilian National Health Survey, 2013'\n",
    "# Usa como base o número de perguntas respondidas 'Sim' nos alimentos ultraprocessados das ultimas 24hrs\n",
    "df['per_innatura'] = df_innatura['qst_innatura'] / (df_innatura['qst_innatura'] + df_upf['qst_upf']) * 100\n",
    "df['per_upf'] = df_upf['qst_upf'] / (df_innatura['qst_innatura'] + df_upf['qst_upf']) * 100"
   ],
   "metadata": {
    "collapsed": false,
    "ExecuteTime": {
     "end_time": "2023-06-20T18:34:47.218600751Z",
     "start_time": "2023-06-20T18:34:47.169341577Z"
    }
   }
  },
  {
   "cell_type": "code",
   "execution_count": 166,
   "outputs": [],
   "source": [
    "df['qst_upf'] = df_upf['qst_upf'] # Baseado no artigo"
   ],
   "metadata": {
    "collapsed": false,
    "ExecuteTime": {
     "end_time": "2023-06-20T18:34:47.218783224Z",
     "start_time": "2023-06-20T18:34:47.215997423Z"
    }
   }
  },
  {
   "cell_type": "code",
   "execution_count": 167,
   "outputs": [],
   "source": [
    "def classify_upf(row):\n",
    "    value = row['qst_upf']\n",
    "\n",
    "    if  0 <= value < 2:\n",
    "        return 1\n",
    "    elif value < 4:\n",
    "        return 2\n",
    "    elif value < 6:\n",
    "        return 3\n",
    "    elif value < 8:\n",
    "        return 4\n",
    "    elif value <= 10:\n",
    "        return 5\n",
    "\n",
    "    return np.nan # questionario não respondido\n",
    "\n",
    "df['upf_severity'] = df.apply(classify_upf, axis=1)"
   ],
   "metadata": {
    "collapsed": false,
    "ExecuteTime": {
     "end_time": "2023-06-20T18:34:47.598912544Z",
     "start_time": "2023-06-20T18:34:47.216207800Z"
    }
   }
  },
  {
   "cell_type": "code",
   "execution_count": 168,
   "outputs": [],
   "source": [
    "def count_imc(row):\n",
    "    height = row['altura']\n",
    "    weight = row['peso']\n",
    "\n",
    "    imc = weight/np.square(height/100)   # Peso está em kg e altura em cm, no calculo do imc é kg/m^2\n",
    "    return imc\n",
    "\n",
    "df['imc'] = df.apply(count_imc, axis=1)\n",
    "\n"
   ],
   "metadata": {
    "collapsed": false,
    "ExecuteTime": {
     "end_time": "2023-06-20T18:34:48.197357742Z",
     "start_time": "2023-06-20T18:34:47.600085317Z"
    }
   }
  },
  {
   "cell_type": "code",
   "execution_count": 169,
   "outputs": [],
   "source": [
    "def classify_imc(row):\n",
    "    value = row['imc']\n",
    "\n",
    "    if  0 <= value < 18.5:\n",
    "        return 1  # Baixo peso\n",
    "    elif value < 24.9:\n",
    "        return 2 # Eutrofia/peso adequado\n",
    "    elif value < 29.9:\n",
    "        return 3   # Sobrepeso\n",
    "    elif value >= 30:\n",
    "        return 4  # Obesidade\n",
    "\n",
    "    return np.nan # questionario não respondido\n",
    "\n",
    "df['class_imc'] = df.apply(classify_imc, axis=1)"
   ],
   "metadata": {
    "collapsed": false,
    "ExecuteTime": {
     "end_time": "2023-06-20T18:34:48.559429849Z",
     "start_time": "2023-06-20T18:34:48.200533388Z"
    }
   }
  },
  {
   "cell_type": "code",
   "execution_count": 170,
   "outputs": [],
   "source": [
    "def classify_idade(row):\n",
    "    value = row['idade']\n",
    "    if  20 <= value <= 29:\n",
    "        return 1\n",
    "    elif value <= 39:\n",
    "        return 2\n",
    "    elif value <= 49:\n",
    "        return 3\n",
    "    elif value <= 59:\n",
    "        return 4\n",
    "\n",
    "    return np.nan\n",
    "\n",
    "df['class_idade'] = df.apply(classify_idade, axis=1)"
   ],
   "metadata": {
    "collapsed": false,
    "ExecuteTime": {
     "end_time": "2023-06-20T18:34:48.939165181Z",
     "start_time": "2023-06-20T18:34:48.560456457Z"
    }
   }
  },
  {
   "cell_type": "code",
   "execution_count": 171,
   "outputs": [],
   "source": [
    "# LER ANTES!!!!!\n",
    "# Essa variável foi criada a partir de um índice utilizado pela OMS. Na literatura, usam a pergunta 'P034' relacionada à prática de exercícios físicos nos ultimos 3 meses\n",
    "df_activity = pd.DataFrame()\n",
    "df_activity['minutes_per_week'] = df['P03702'] * df['P035']\n",
    "\n",
    "vigorous_activities = [3.0, 4.0, 5.0, 6.0, 12.0, 13.0, 15.0]\n",
    "moderated_activities = [1.0, 2.0, 7.0, 8.0, 9.0, 10.0, 11.0, 14.0, 16.0, 17.0]\n",
    "df_activity['time_vigorous'] = df_activity['minutes_per_week'].loc[df['P036'].isin(vigorous_activities)]\n",
    "df_activity['time_moderated'] = df_activity['minutes_per_week'].loc[df['P036'].isin(moderated_activities)]\n",
    "\n",
    "df_activity['activity_class'] = 0\n",
    "df_activity.loc[df_activity['minutes_per_week'].isna(), 'activity_class'] = np.nan\n",
    "df_activity.loc[(df_activity['time_vigorous'] >= 75) | (df_activity['time_moderated'] >= 150), 'activity_class'] = 1\n",
    "\n",
    "df['activity_class'] = df_activity['activity_class']"
   ],
   "metadata": {
    "collapsed": false,
    "ExecuteTime": {
     "end_time": "2023-06-20T18:34:48.980945774Z",
     "start_time": "2023-06-20T18:34:48.940546539Z"
    }
   }
  },
  {
   "cell_type": "code",
   "execution_count": 172,
   "outputs": [],
   "source": [
    "df['exerc_fisico'] = np.where(df['P034'].isin([1.0]), 1, np.where(df['P034'] == 2.0, 0, np.nan))"
   ],
   "metadata": {
    "collapsed": false,
    "ExecuteTime": {
     "end_time": "2023-06-20T18:34:49.021762246Z",
     "start_time": "2023-06-20T18:34:48.978171313Z"
    }
   }
  },
  {
   "cell_type": "code",
   "execution_count": 173,
   "outputs": [],
   "source": [
    "df['tabagismo'] = np.where(df['P050'].isin([1.0, 2.0]), 1, np.where(df['P050'] == 3.0, 0, np.nan))"
   ],
   "metadata": {
    "collapsed": false,
    "ExecuteTime": {
     "end_time": "2023-06-20T18:34:49.028136411Z",
     "start_time": "2023-06-20T18:34:49.004710251Z"
    }
   }
  },
  {
   "cell_type": "code",
   "execution_count": 174,
   "outputs": [],
   "source": [
    "# Na literatura eles usam outra variável para analisar o consumo alcoolico\n",
    "df['cons_alcool'] = np.where(df['P02801'] >= 1, 1, 0)\n",
    "\n",
    "df['cons_alcool'] = np.where(df['P02801'].isna(), np.nan, df['cons_alcool'])"
   ],
   "metadata": {
    "collapsed": false,
    "ExecuteTime": {
     "end_time": "2023-06-20T18:34:49.054485962Z",
     "start_time": "2023-06-20T18:34:49.030469727Z"
    }
   }
  },
  {
   "cell_type": "code",
   "execution_count": 175,
   "outputs": [],
   "source": [
    "# Olhar artigo 'Food consumption and depression among Brazilian adults: results from the Brazilian National Health Survey, 2013'\n",
    "\n",
    "df['cons_alcool'] = np.where(df['P027'].isin([2.0, 3.0]), 1, np.where(df['P027'] == 1.0, 0, np.nan))"
   ],
   "metadata": {
    "collapsed": false,
    "ExecuteTime": {
     "end_time": "2023-06-20T18:34:49.096281505Z",
     "start_time": "2023-06-20T18:34:49.051955456Z"
    }
   }
  },
  {
   "cell_type": "code",
   "execution_count": 176,
   "outputs": [],
   "source": [
    "df['obesidade'] = np.where(df['class_imc'].isna(), np.nan, np.where(df['class_imc'] >= 4, 1, 0))"
   ],
   "metadata": {
    "collapsed": false,
    "ExecuteTime": {
     "end_time": "2023-06-20T18:34:49.143237378Z",
     "start_time": "2023-06-20T18:34:49.096061964Z"
    }
   }
  },
  {
   "cell_type": "code",
   "execution_count": 177,
   "outputs": [],
   "source": [
    "df = df[df['P005'] != 1.0] #Retirando as grávidas da análise"
   ],
   "metadata": {
    "collapsed": false,
    "ExecuteTime": {
     "end_time": "2023-06-20T18:34:49.183707138Z",
     "start_time": "2023-06-20T18:34:49.140076508Z"
    }
   }
  },
  {
   "cell_type": "code",
   "execution_count": 178,
   "outputs": [],
   "source": [
    "df = df[(df['idade'] >= 20) & (df['idade'] <= 59)] # Limitação da análise por idades que se adequam ao PHQ9 baseado no artigo 'Food consumption and depression among Brazilian adults: results from the Brazilian National Health Survey, 2013'"
   ],
   "metadata": {
    "collapsed": false,
    "ExecuteTime": {
     "end_time": "2023-06-20T18:34:49.273390438Z",
     "start_time": "2023-06-20T18:34:49.173745125Z"
    }
   }
  },
  {
   "cell_type": "markdown",
   "source": [
    "# Análise de dados faltantes"
   ],
   "metadata": {
    "collapsed": false
   }
  },
  {
   "cell_type": "markdown",
   "source": [
    "## População total"
   ],
   "metadata": {
    "collapsed": false
   }
  },
  {
   "cell_type": "code",
   "execution_count": 179,
   "outputs": [
    {
     "name": "stdout",
     "output_type": "stream",
     "text": [
      "Faltantes em Q092 - pergunta do diagnóstico de depressão:  0 Perc: 0.0\n",
      "Faltantes em PHQ9_total - classificação de grau de depressão:  0 Perc: 0.0\n",
      "Faltantes em vive_conjugue - classificação do estado civil:  0 Perc: 0.0\n",
      "Faltantes em class_idade - classificação de idade:  0 Perc: 0.0\n",
      "Faltantes em cor - cor ou raça autodeclaradas:  0 Perc: 0.0\n"
     ]
    }
   ],
   "source": [
    "print('Faltantes em Q092 - pergunta do diagnóstico de depressão: ', df['Q092'].isna().sum(), 'Perc:',  round(df['Q092'].isna().sum()/len(df['Q092'])*100, 3))\n",
    "print('Faltantes em PHQ9_total - classificação de grau de depressão: ', df['phq9_total'].isna().sum(), 'Perc:',  round(df['phq9_total'].isna().sum()/len(df['phq9_total'])*100, 3))\n",
    "print('Faltantes em vive_conjugue - classificação do estado civil: ', df['vive_conjugue'].isna().sum(), 'Perc:',  round(df['vive_conjugue'].isna().sum()/len(df['vive_conjugue'])*100, 3))\n",
    "print('Faltantes em class_idade - classificação de idade: ', df['class_idade'].isna().sum(), 'Perc:',  round(df['class_idade'].isna().sum()/len(df['class_idade'])*100, 3))\n",
    "print('Faltantes em cor - cor ou raça autodeclaradas: ', df['cor'].isna().sum(), 'Perc:',  round(df['cor'].isna().sum()/len(df['cor'])*100, 3))\n"
   ],
   "metadata": {
    "collapsed": false,
    "ExecuteTime": {
     "end_time": "2023-06-20T18:34:49.308208373Z",
     "start_time": "2023-06-20T18:34:49.259992836Z"
    }
   }
  },
  {
   "cell_type": "code",
   "execution_count": 180,
   "outputs": [
    {
     "name": "stdout",
     "output_type": "stream",
     "text": [
      "Faltantes em UPF_severity - classificação de consumo de ultraprocessados:  0 Perc: 0.0\n",
      "Faltantes em exerc_fisico - classificação de atividade física:  0 Perc: 0.0\n",
      "Faltantes em tabagist - classificação de tabagismo:  0 Perc: 0.0\n",
      "Faltantes em cons_alcool - classificação do consumo de álcool:  0 Perc: 0.0\n"
     ]
    }
   ],
   "source": [
    "print('Faltantes em UPF_severity - classificação de consumo de ultraprocessados: ', df['upf_severity'].isna().sum(), 'Perc:',  round(df['upf_severity'].isna().sum()/len(df['upf_severity'])*100, 3))\n",
    "print('Faltantes em exerc_fisico - classificação de atividade física: ', df['exerc_fisico'].isna().sum(), 'Perc:',  round(df['exerc_fisico'].isna().sum()/len(df['exerc_fisico'])*100, 3))\n",
    "print('Faltantes em tabagist - classificação de tabagismo: ', df['tabagismo'].isna().sum(), 'Perc:',  round(df['tabagismo'].isna().sum()/len(df['tabagismo'])*100, 3))\n",
    "print('Faltantes em cons_alcool - classificação do consumo de álcool: ', df['cons_alcool'].isna().sum(), 'Perc:',  round(df['cons_alcool'].isna().sum()/len(df['cons_alcool'])*100, 3))\n"
   ],
   "metadata": {
    "collapsed": false,
    "ExecuteTime": {
     "end_time": "2023-06-20T18:34:49.308427624Z",
     "start_time": "2023-06-20T18:34:49.303923176Z"
    }
   }
  },
  {
   "cell_type": "code",
   "execution_count": 181,
   "outputs": [
    {
     "name": "stdout",
     "output_type": "stream",
     "text": [
      "Faltantes em Q120 - pergunta do diagnóstico de cancer:  0 Perc: 0.0\n",
      "Faltantes em Q00201 - diagnotisco pressão alta:  1295 Perc: 2.065\n",
      "Faltantes em Q03001 - diagnostico diabetes:  5014 Perc: 7.996\n",
      "Faltantes em Q06306 - diagnostico cardiovascular :  0 Perc: 0.0\n",
      "Faltantes em Q060 - diagnostico colesterol alto:  5897 Perc: 9.404\n",
      "Faltantes em Q068 - diagnostico de AVC:  0 Perc: 0.0\n",
      "Faltantes em Q079 - diagnostico de artrite:  0 Perc: 0.0\n",
      "Faltantes em class_imc - classificação de imc:  340 Perc: 0.542\n"
     ]
    }
   ],
   "source": [
    "print('Faltantes em Q120 - pergunta do diagnóstico de cancer: ', df['Q120'].isna().sum(), 'Perc:',  round(df['Q120'].isna().sum()/len(df['Q120'])*100, 3))\n",
    "print('Faltantes em Q00201 - diagnotisco pressão alta: ', df['Q00201'].isna().sum(), 'Perc:',  round(df['Q00201'].isna().sum()/len(df['Q00201'])*100, 3))\n",
    "print('Faltantes em Q03001 - diagnostico diabetes: ', df['Q03001'].isna().sum(), 'Perc:',  round(df['Q03001'].isna().sum()/len(df['Q03001'])*100, 3))\n",
    "print('Faltantes em Q06306 - diagnostico cardiovascular : ', df['Q06306'].isna().sum(), 'Perc:',  round(df['Q06306'].isna().sum()/len(df['Q06306'])*100, 3))\n",
    "print('Faltantes em Q060 - diagnostico colesterol alto: ', df['Q060'].isna().sum(), 'Perc:',  round(df['Q060'].isna().sum()/len(df['Q060'])*100, 3))\n",
    "print('Faltantes em Q068 - diagnostico de AVC: ', df['Q068'].isna().sum(), 'Perc:',  round(df['Q068'].isna().sum()/len(df['Q068'])*100, 3))\n",
    "print('Faltantes em Q079 - diagnostico de artrite: ', df['Q079'].isna().sum(), 'Perc:',  round(df['Q079'].isna().sum()/len(df['Q079'])*100, 3))\n",
    "print('Faltantes em class_imc - classificação de imc: ', df['class_imc'].isna().sum(), 'Perc:',  round(df['class_imc'].isna().sum()/len(df['class_imc'])*100, 3))\n"
   ],
   "metadata": {
    "collapsed": false,
    "ExecuteTime": {
     "end_time": "2023-06-20T18:34:49.373468485Z",
     "start_time": "2023-06-20T18:34:49.304186195Z"
    }
   }
  },
  {
   "cell_type": "markdown",
   "source": [
    "## População considerada depressiva (PHQ9>=10)"
   ],
   "metadata": {
    "collapsed": false
   }
  },
  {
   "cell_type": "code",
   "execution_count": 182,
   "outputs": [
    {
     "name": "stdout",
     "output_type": "stream",
     "text": [
      "Faltantes em Q092 - pergunta do diagnóstico de depressão:  0 Perc: 0.0\n",
      "Faltantes em vive_conjugue - classificação do estado civil:  0 Perc: 0.0\n",
      "Faltantes em class_idade - classificação de idade:  0 Perc: 0.0\n",
      "Faltantes em cor - cor ou raça autodeclaradas:  0 Perc: 0.0\n"
     ]
    }
   ],
   "source": [
    "new_df = df[df['phq9_total'] >= 10].copy()\n",
    "print('Faltantes em Q092 - pergunta do diagnóstico de depressão: ', new_df['Q092'].isna().sum(), 'Perc:',  round(new_df['Q092'].isna().sum()/len(new_df['Q092'])*100, 3))\n",
    "print('Faltantes em vive_conjugue - classificação do estado civil: ', new_df['vive_conjugue'].isna().sum(), 'Perc:',  round(new_df['vive_conjugue'].isna().sum()/len(new_df['vive_conjugue'])*100, 3))\n",
    "print('Faltantes em class_idade - classificação de idade: ', new_df['class_idade'].isna().sum(), 'Perc:',  round(new_df['class_idade'].isna().sum()/len(new_df['class_idade'])*100, 3))\n",
    "print('Faltantes em cor - cor ou raça autodeclaradas: ', new_df['cor'].isna().sum(), 'Perc:',  round(new_df['cor'].isna().sum()/len(new_df['cor'])*100, 3))\n"
   ],
   "metadata": {
    "collapsed": false,
    "ExecuteTime": {
     "end_time": "2023-06-20T18:34:49.373942886Z",
     "start_time": "2023-06-20T18:34:49.347972537Z"
    }
   }
  },
  {
   "cell_type": "code",
   "execution_count": 183,
   "outputs": [
    {
     "name": "stdout",
     "output_type": "stream",
     "text": [
      "Faltantes em UPF_severity - classificação de consumo de ultraprocessados:  0 Perc: 0.0\n",
      "Faltantes em activity_class - classificação de atividade física:  4470 Perc: 67.218\n",
      "Faltantes em tabagist - classificação de tabagismo:  0 Perc: 0.0\n",
      "Faltantes em cons_alcool - clasificação do consumo de álcool:  0 Perc: 0.0\n"
     ]
    }
   ],
   "source": [
    "print('Faltantes em UPF_severity - classificação de consumo de ultraprocessados: ', new_df['upf_severity'].isna().sum(), 'Perc:',  round(new_df['upf_severity'].isna().sum()/len(new_df['upf_severity'])*100, 3))\n",
    "print('Faltantes em activity_class - classificação de atividade física: ', new_df['activity_class'].isna().sum(), 'Perc:',  round(new_df['activity_class'].isna().sum()/len(new_df['activity_class'])*100, 3))\n",
    "print('Faltantes em tabagist - classificação de tabagismo: ', new_df['tabagismo'].isna().sum(), 'Perc:',  round(new_df['tabagismo'].isna().sum()/len(new_df['tabagismo'])*100, 3))\n",
    "print('Faltantes em cons_alcool - clasificação do consumo de álcool: ', new_df['cons_alcool'].isna().sum(), 'Perc:',  round(new_df['cons_alcool'].isna().sum()/len(new_df['cons_alcool'])*100, 3))\n"
   ],
   "metadata": {
    "collapsed": false,
    "ExecuteTime": {
     "end_time": "2023-06-20T18:34:49.446433603Z",
     "start_time": "2023-06-20T18:34:49.362879755Z"
    }
   }
  },
  {
   "cell_type": "code",
   "execution_count": 184,
   "outputs": [
    {
     "name": "stdout",
     "output_type": "stream",
     "text": [
      "Faltantes em Q120 - pergunta do diagnóstico de cancer:  0 Perc: 0.0\n",
      "Faltantes em Q00201 - diagnotisco pressão alta:  58 Perc: 0.872\n",
      "Faltantes em Q03001 - diagnostico diabetes:  316 Perc: 4.752\n",
      "Faltantes em Q06306 - diagnostico cardiovascular :  0 Perc: 0.0\n",
      "Faltantes em Q060 - diagnostico colesterol alto:  401 Perc: 6.03\n",
      "Faltantes em Q068 - diagnostico de AVC:  0 Perc: 0.0\n",
      "Faltantes em Q079 - diagnostico de artrite:  0 Perc: 0.0\n",
      "Faltantes em class_imc - classificação de imc:  56 Perc: 0.842\n"
     ]
    }
   ],
   "source": [
    "print('Faltantes em Q120 - pergunta do diagnóstico de cancer: ', new_df['Q120'].isna().sum(), 'Perc:',  round(new_df['Q120'].isna().sum()/len(new_df['Q120'])*100, 3))\n",
    "print('Faltantes em Q00201 - diagnotisco pressão alta: ', new_df['Q00201'].isna().sum(), 'Perc:',  round(new_df['Q00201'].isna().sum()/len(new_df['Q00201'])*100, 3))\n",
    "print('Faltantes em Q03001 - diagnostico diabetes: ', new_df['Q03001'].isna().sum(), 'Perc:',  round(new_df['Q03001'].isna().sum()/len(new_df['Q03001'])*100, 3))\n",
    "print('Faltantes em Q06306 - diagnostico cardiovascular : ', new_df['Q06306'].isna().sum(), 'Perc:',  round(new_df['Q06306'].isna().sum()/len(new_df['Q06306'])*100, 3))\n",
    "print('Faltantes em Q060 - diagnostico colesterol alto: ', new_df['Q060'].isna().sum(), 'Perc:',  round(new_df['Q060'].isna().sum()/len(new_df['Q060'])*100, 3))\n",
    "print('Faltantes em Q068 - diagnostico de AVC: ', new_df['Q068'].isna().sum(), 'Perc:',  round(new_df['Q068'].isna().sum()/len(new_df['Q068'])*100, 3))\n",
    "print('Faltantes em Q079 - diagnostico de artrite: ', new_df['Q079'].isna().sum(), 'Perc:',  round(new_df['Q079'].isna().sum()/len(new_df['Q079'])*100, 3))\n",
    "print('Faltantes em class_imc - classificação de imc: ', new_df['class_imc'].isna().sum(), 'Perc:',  round(new_df['class_imc'].isna().sum()/len(new_df['class_imc'])*100, 3))"
   ],
   "metadata": {
    "collapsed": false,
    "ExecuteTime": {
     "end_time": "2023-06-20T18:34:49.451923369Z",
     "start_time": "2023-06-20T18:34:49.403933047Z"
    }
   }
  },
  {
   "cell_type": "markdown",
   "source": [
    "# Modelos"
   ],
   "metadata": {
    "collapsed": false
   }
  },
  {
   "cell_type": "markdown",
   "source": [
    "### Modelo apenas com habitos"
   ],
   "metadata": {
    "collapsed": false
   }
  },
  {
   "cell_type": "code",
   "execution_count": 185,
   "outputs": [],
   "source": [
    "df_habitos = pd.DataFrame()\n",
    "df_habitos['upf'] = df['qst_upf']\n",
    "df_habitos['exerc_fisico'] = df['exerc_fisico']\n",
    "df_habitos['tabagismo'] = df['tabagismo']\n",
    "df_habitos['cons_alcool'] = df['cons_alcool']\n",
    "df_habitos['depression'] = df['depression']"
   ],
   "metadata": {
    "collapsed": false,
    "ExecuteTime": {
     "end_time": "2023-06-20T18:34:49.452075668Z",
     "start_time": "2023-06-20T18:34:49.447900841Z"
    }
   }
  },
  {
   "cell_type": "code",
   "execution_count": 186,
   "outputs": [],
   "source": [
    "df_habitos = df_habitos.dropna()"
   ],
   "metadata": {
    "collapsed": false,
    "ExecuteTime": {
     "end_time": "2023-06-20T18:34:49.508594878Z",
     "start_time": "2023-06-20T18:34:49.448151259Z"
    }
   }
  },
  {
   "cell_type": "code",
   "execution_count": 187,
   "outputs": [],
   "source": [
    "from sklearn.ensemble import RandomForestClassifier\n",
    "from sklearn.model_selection import train_test_split\n",
    "from sklearn.metrics import accuracy_score, precision_score, recall_score, f1_score\n",
    "from imblearn.over_sampling import SMOTE\n",
    "\n",
    "X = df_habitos.drop('depression', axis=1)\n",
    "y = df_habitos['depression']"
   ],
   "metadata": {
    "collapsed": false,
    "ExecuteTime": {
     "end_time": "2023-06-20T18:34:49.518082025Z",
     "start_time": "2023-06-20T18:34:49.491948461Z"
    }
   }
  },
  {
   "cell_type": "code",
   "execution_count": 188,
   "outputs": [],
   "source": [
    "X_train, X_test, y_train, y_test = train_test_split(X, y, test_size=0.3, random_state=42)"
   ],
   "metadata": {
    "collapsed": false,
    "ExecuteTime": {
     "end_time": "2023-06-20T18:34:49.518269742Z",
     "start_time": "2023-06-20T18:34:49.492159107Z"
    }
   }
  },
  {
   "cell_type": "code",
   "execution_count": 189,
   "outputs": [],
   "source": [
    "rf_classifier = RandomForestClassifier(n_jobs=-1, class_weight='balanced')"
   ],
   "metadata": {
    "collapsed": false,
    "ExecuteTime": {
     "end_time": "2023-06-20T18:34:49.551097410Z",
     "start_time": "2023-06-20T18:34:49.508772205Z"
    }
   }
  },
  {
   "cell_type": "code",
   "execution_count": 190,
   "outputs": [
    {
     "name": "stdout",
     "output_type": "stream",
     "text": [
      "Accuracy: 0.5360654866315846\n",
      "Precision: 0.13141413031534996\n",
      "Recall: 0.5923724616146607\n",
      "F1-score: 0.21510791366906473\n"
     ]
    }
   ],
   "source": [
    "rf_classifier.fit(X_train, y_train)\n",
    "\n",
    "# Make predictions on the testing data\n",
    "y_pred = rf_classifier.predict(X_test)\n",
    "\n",
    "accuracy = accuracy_score(y_test, y_pred)\n",
    "\n",
    "precision = precision_score(y_test, y_pred)\n",
    "\n",
    "recall = recall_score(y_test, y_pred)\n",
    "\n",
    "f1 = f1_score(y_test, y_pred)\n",
    "\n",
    "print(\"Accuracy:\", accuracy)\n",
    "print(\"Precision:\", precision)\n",
    "print(\"Recall:\", recall)\n",
    "print(\"F1-score:\", f1)"
   ],
   "metadata": {
    "collapsed": false,
    "ExecuteTime": {
     "end_time": "2023-06-20T18:34:49.833673312Z",
     "start_time": "2023-06-20T18:34:49.547954006Z"
    }
   }
  },
  {
   "cell_type": "code",
   "execution_count": 191,
   "outputs": [
    {
     "name": "stdout",
     "output_type": "stream",
     "text": [
      "upf: 0.3394817778332442\n",
      "exerc_fisico: 0.289297962549245\n",
      "tabagismo: 0.20506471103296314\n",
      "cons_alcool: 0.16615554858454767\n"
     ]
    }
   ],
   "source": [
    "feature_importances = rf_classifier.feature_importances_\n",
    "feature_importance_dict = {feature: importance for feature, importance in zip(X.columns, feature_importances)}\n",
    "sorted_feature_importances = sorted(feature_importance_dict.items(), key=lambda x: x[1], reverse=True)\n",
    "\n",
    "# Print the sorted feature importances\n",
    "for feature, importance in sorted_feature_importances:\n",
    "    print(f\"{feature}: {importance}\")"
   ],
   "metadata": {
    "collapsed": false,
    "ExecuteTime": {
     "end_time": "2023-06-20T18:34:49.888459042Z",
     "start_time": "2023-06-20T18:34:49.835235760Z"
    }
   }
  },
  {
   "cell_type": "markdown",
   "source": [
    "### Modelo apenas com as doenças crônicas"
   ],
   "metadata": {
    "collapsed": false
   }
  },
  {
   "cell_type": "code",
   "execution_count": 192,
   "outputs": [],
   "source": [
    "df_doencas = pd.DataFrame()\n",
    "df_doencas['cancer'] = df['Q120']\n",
    "df_doencas['hipertensão'] = df['Q00201']\n",
    "df_doencas['diabetes'] = df['Q03001']\n",
    "df_doencas['cardiovascular'] = df['Q06306']\n",
    "df_doencas['hipercolesterolemia'] = df['Q060']\n",
    "df_doencas['avc'] = df['Q068']\n",
    "df_doencas['artrite'] = df['Q079']\n",
    "df_doencas['obesidade'] = df['obesidade']\n",
    "df_doencas['depression'] = df['depression']\n",
    "df_doencas = df_doencas.replace(2.0, 0.0)"
   ],
   "metadata": {
    "collapsed": false,
    "ExecuteTime": {
     "end_time": "2023-06-20T18:34:49.899643297Z",
     "start_time": "2023-06-20T18:34:49.862817429Z"
    }
   }
  },
  {
   "cell_type": "code",
   "execution_count": 193,
   "outputs": [],
   "source": [
    "df_doencas = df_doencas.dropna()"
   ],
   "metadata": {
    "collapsed": false,
    "ExecuteTime": {
     "end_time": "2023-06-20T18:34:49.946807812Z",
     "start_time": "2023-06-20T18:34:49.891374223Z"
    }
   }
  },
  {
   "cell_type": "code",
   "execution_count": 194,
   "outputs": [],
   "source": [
    "from sklearn.ensemble import RandomForestClassifier\n",
    "from sklearn.model_selection import train_test_split\n",
    "from sklearn.metrics import accuracy_score, precision_score, recall_score, f1_score\n",
    "from imblearn.over_sampling import SMOTE\n",
    "\n",
    "X = df_doencas.drop('depression', axis=1)\n",
    "y = df_doencas['depression']\n",
    "\n",
    "smote = SMOTE(sampling_strategy='auto', random_state=42)\n",
    "X_resampled, y_resampled = smote.fit_resample(X, y)\n"
   ],
   "metadata": {
    "collapsed": false,
    "ExecuteTime": {
     "end_time": "2023-06-20T18:34:50.164867934Z",
     "start_time": "2023-06-20T18:34:49.916154022Z"
    }
   }
  },
  {
   "cell_type": "code",
   "execution_count": 195,
   "outputs": [],
   "source": [
    "X_train, X_test, y_train, y_test = train_test_split(X_resampled, y_resampled, test_size=0.3, random_state=42)"
   ],
   "metadata": {
    "collapsed": false,
    "ExecuteTime": {
     "end_time": "2023-06-20T18:34:50.198018134Z",
     "start_time": "2023-06-20T18:34:50.166570073Z"
    }
   }
  },
  {
   "cell_type": "code",
   "execution_count": 196,
   "outputs": [],
   "source": [
    "rf_classifier = RandomForestClassifier(n_jobs=-1)"
   ],
   "metadata": {
    "collapsed": false,
    "ExecuteTime": {
     "end_time": "2023-06-20T18:34:50.214840182Z",
     "start_time": "2023-06-20T18:34:50.195105306Z"
    }
   }
  },
  {
   "cell_type": "code",
   "execution_count": 197,
   "outputs": [
    {
     "name": "stdout",
     "output_type": "stream",
     "text": [
      "Accuracy: 0.6058115147824911\n",
      "Precision: 0.6260905691732447\n",
      "Recall: 0.5130038126361656\n",
      "F1-score: 0.5639336900797065\n"
     ]
    }
   ],
   "source": [
    "rf_classifier.fit(X_train, y_train)\n",
    "\n",
    "# Make predictions on the testing data\n",
    "y_pred = rf_classifier.predict(X_test)\n",
    "\n",
    "accuracy = accuracy_score(y_test, y_pred)\n",
    "\n",
    "precision = precision_score(y_test, y_pred)\n",
    "\n",
    "recall = recall_score(y_test, y_pred)\n",
    "\n",
    "f1 = f1_score(y_test, y_pred)\n",
    "\n",
    "print(\"Accuracy:\", accuracy)\n",
    "print(\"Precision:\", precision)\n",
    "print(\"Recall:\", recall)\n",
    "print(\"F1-score:\", f1)"
   ],
   "metadata": {
    "collapsed": false,
    "ExecuteTime": {
     "end_time": "2023-06-20T18:34:51.120518744Z",
     "start_time": "2023-06-20T18:34:50.216112405Z"
    }
   }
  },
  {
   "cell_type": "code",
   "execution_count": 198,
   "outputs": [
    {
     "name": "stdout",
     "output_type": "stream",
     "text": [
      "artrite: 0.26920329001267423\n",
      "hipertensão: 0.17621309148638725\n",
      "hipercolesterolemia: 0.15805605897633093\n",
      "cardiovascular: 0.15410410522394405\n",
      "avc: 0.07264864905732925\n",
      "diabetes: 0.06959155113089258\n",
      "cancer: 0.054589709737059726\n",
      "obesidade: 0.04559354437538208\n"
     ]
    }
   ],
   "source": [
    "feature_importances = rf_classifier.feature_importances_\n",
    "feature_importance_dict = {feature: importance for feature, importance in zip(X.columns, feature_importances)}\n",
    "sorted_feature_importances = sorted(feature_importance_dict.items(), key=lambda x: x[1], reverse=True)\n",
    "\n",
    "# Print the sorted feature importances\n",
    "for feature, importance in sorted_feature_importances:\n",
    "    print(f\"{feature}: {importance}\")"
   ],
   "metadata": {
    "collapsed": false,
    "ExecuteTime": {
     "end_time": "2023-06-20T18:34:51.198281056Z",
     "start_time": "2023-06-20T18:34:51.120407491Z"
    }
   }
  },
  {
   "cell_type": "markdown",
   "source": [
    "### Modelo com doenças e hábitos"
   ],
   "metadata": {
    "collapsed": false
   }
  },
  {
   "cell_type": "code",
   "execution_count": 199,
   "outputs": [],
   "source": [
    "df_total = pd.DataFrame()\n",
    "\n",
    "df_total['exerc_fisico'] = df['exerc_fisico']\n",
    "df_total['tabagismo'] = df['tabagismo']\n",
    "df_total['cons_alcool'] = df['cons_alcool']\n",
    "df_total['cancer'] = df['Q120']\n",
    "df_total['hipertensão'] = df['Q00201']\n",
    "df_total['diabetes'] = df['Q03001']\n",
    "df_total['cardiovascular'] = df['Q06306']\n",
    "df_total['hipercolesterolemia'] = df['Q060']\n",
    "df_total['avc'] = df['Q068']\n",
    "df_total['artrite'] = df['Q079']\n",
    "df_total['obesidade'] = df['obesidade']\n",
    "df_total['depression'] = df['depression']\n",
    "df_total = df_total.replace(2.0, 0.0)\n",
    "df_total['upf'] = df['qst_upf']"
   ],
   "metadata": {
    "collapsed": false,
    "ExecuteTime": {
     "end_time": "2023-06-20T18:34:51.199106731Z",
     "start_time": "2023-06-20T18:34:51.150351147Z"
    }
   }
  },
  {
   "cell_type": "code",
   "execution_count": 200,
   "outputs": [],
   "source": [
    "df_total = df_total.dropna()"
   ],
   "metadata": {
    "collapsed": false,
    "ExecuteTime": {
     "end_time": "2023-06-20T18:34:51.209770034Z",
     "start_time": "2023-06-20T18:34:51.187921566Z"
    }
   }
  },
  {
   "cell_type": "code",
   "execution_count": 201,
   "outputs": [],
   "source": [
    "from sklearn.ensemble import RandomForestClassifier\n",
    "from sklearn.model_selection import train_test_split\n",
    "from sklearn.metrics import accuracy_score, precision_score, recall_score, f1_score\n",
    "\n",
    "X = df_total.drop('depression', axis=1)\n",
    "y = df_total['depression']"
   ],
   "metadata": {
    "collapsed": false,
    "ExecuteTime": {
     "end_time": "2023-06-20T18:34:51.258661788Z",
     "start_time": "2023-06-20T18:34:51.205924139Z"
    }
   }
  },
  {
   "cell_type": "code",
   "execution_count": 202,
   "outputs": [],
   "source": [
    "from imblearn.over_sampling import SMOTE\n",
    "\n",
    "smote = SMOTE(sampling_strategy='auto', random_state=42)\n",
    "X_resampled, y_resampled = smote.fit_resample(X, y)"
   ],
   "metadata": {
    "collapsed": false,
    "ExecuteTime": {
     "end_time": "2023-06-20T18:34:51.405627233Z",
     "start_time": "2023-06-20T18:34:51.248235272Z"
    }
   }
  },
  {
   "cell_type": "code",
   "execution_count": 203,
   "outputs": [],
   "source": [
    "X_train, X_test, y_train, y_test = train_test_split(X_resampled, y_resampled, test_size=0.3, random_state=42)"
   ],
   "metadata": {
    "collapsed": false,
    "ExecuteTime": {
     "end_time": "2023-06-20T18:34:51.438251809Z",
     "start_time": "2023-06-20T18:34:51.407892002Z"
    }
   }
  },
  {
   "cell_type": "code",
   "execution_count": 204,
   "outputs": [],
   "source": [
    "rf_classifier = RandomForestClassifier(n_jobs=-1)"
   ],
   "metadata": {
    "collapsed": false,
    "ExecuteTime": {
     "end_time": "2023-06-20T18:34:51.480208486Z",
     "start_time": "2023-06-20T18:34:51.438450671Z"
    }
   }
  },
  {
   "cell_type": "code",
   "execution_count": 205,
   "outputs": [
    {
     "name": "stdout",
     "output_type": "stream",
     "text": [
      "Accuracy: 0.660205669440498\n",
      "Precision: 0.7209479394689254\n",
      "Recall: 0.5157271241830066\n",
      "F1-score: 0.6013097836872395\n"
     ]
    }
   ],
   "source": [
    "rf_classifier.fit(X_train, y_train)\n",
    "\n",
    "# Make predictions on the testing data\n",
    "y_pred = rf_classifier.predict(X_test)\n",
    "\n",
    "accuracy = accuracy_score(y_test, y_pred)\n",
    "\n",
    "precision = precision_score(y_test, y_pred)\n",
    "\n",
    "recall = recall_score(y_test, y_pred)\n",
    "\n",
    "f1 = f1_score(y_test, y_pred)\n",
    "\n",
    "print(\"Accuracy:\", accuracy)\n",
    "print(\"Precision:\", precision)\n",
    "print(\"Recall:\", recall)\n",
    "print(\"F1-score:\", f1)"
   ],
   "metadata": {
    "collapsed": false,
    "ExecuteTime": {
     "end_time": "2023-06-20T18:34:52.329833122Z",
     "start_time": "2023-06-20T18:34:51.479940680Z"
    }
   }
  },
  {
   "cell_type": "code",
   "execution_count": 206,
   "outputs": [
    {
     "data": {
      "text/plain": "<Figure size 640x480 with 1 Axes>",
      "image/png": "[encoded data removed]"
     },
     "metadata": {},
     "output_type": "display_data"
    }
   ],
   "source": [
    "import matplotlib.pyplot as plt\n",
    "import seaborn as sns\n",
    "from sklearn.metrics import confusion_matrix\n",
    "\n",
    "# Assuming you have the true target variable 'y_test' and the predicted target variable 'y_pred'\n",
    "\n",
    "# Calculate the confusion matrix\n",
    "cm = confusion_matrix(y_test, y_pred)\n",
    "\n",
    "# Create a figure and axes\n",
    "fig, ax = plt.subplots()\n",
    "\n",
    "# Plot the confusion matrix as a heatmap\n",
    "sns.heatmap(cm, annot=True, fmt=\"d\", cmap=\"Blues\", cbar=False, ax=ax)\n",
    "\n",
    "# Set labels, title, and ticks\n",
    "ax.set_xlabel('Predicted')\n",
    "ax.set_ylabel('Actual')\n",
    "ax.set_title('Confusion Matrix')\n",
    "ax.xaxis.set_ticklabels(['No', 'Yes'])\n",
    "ax.yaxis.set_ticklabels(['No', 'Yes'])\n",
    "\n",
    "# Show the plot\n",
    "plt.show()"
   ],
   "metadata": {
    "collapsed": false,
    "ExecuteTime": {
     "end_time": "2023-06-20T18:34:52.442715884Z",
     "start_time": "2023-06-20T18:34:52.331148640Z"
    }
   }
  },
  {
   "cell_type": "code",
   "execution_count": 207,
   "outputs": [
    {
     "name": "stdout",
     "output_type": "stream",
     "text": [
      "upf: 0.21989918172116563\n",
      "artrite: 0.11786792109338723\n",
      "hipertensão: 0.09825568218838666\n",
      "hipercolesterolemia: 0.09372836725628518\n",
      "cardiovascular: 0.07869841077954332\n",
      "diabetes: 0.07242883742722309\n",
      "obesidade: 0.06854750306009585\n",
      "exerc_fisico: 0.05832583946858022\n",
      "cons_alcool: 0.056749213850551004\n",
      "tabagismo: 0.0554115055094093\n",
      "cancer: 0.044546592135118177\n",
      "avc: 0.035540945510254274\n"
     ]
    }
   ],
   "source": [
    "feature_importances = rf_classifier.feature_importances_\n",
    "\n",
    "# Create a dictionary with feature names as keys and importances as values\n",
    "feature_importance_dict = {feature: importance for feature, importance in zip(X.columns, feature_importances)}\n",
    "\n",
    "# Sort the feature importance dictionary by importance in descending order\n",
    "sorted_feature_importances = sorted(feature_importance_dict.items(), key=lambda x: x[1], reverse=True)\n",
    "\n",
    "# Print the sorted feature importances\n",
    "for feature, importance in sorted_feature_importances:\n",
    "    print(f\"{feature}: {importance}\")"
   ],
   "metadata": {
    "collapsed": false,
    "ExecuteTime": {
     "end_time": "2023-06-20T18:34:52.499840126Z",
     "start_time": "2023-06-20T18:34:52.443023255Z"
    }
   }
  },
  {
   "cell_type": "markdown",
   "source": [
    "### Modelo só com variáveis sociodemográficas"
   ],
   "metadata": {
    "collapsed": false
   }
  },
  {
   "cell_type": "code",
   "execution_count": 208,
   "outputs": [],
   "source": [
    "df_total = pd.DataFrame()\n",
    "df_total['depression'] = df['depression']\n",
    "df_total['sexo'] = df['sexo']\n",
    "df_total['estado_civil'] = df['vive_conjugue']\n",
    "df_total = df_total.replace(2.0, 0.0)\n",
    "\n",
    "df_total['escolaridade'] = df['escolaridade_agregada']\n",
    "df_total['class_idade'] = df['class_idade']\n",
    "df_total['cor'] = df['cor']"
   ],
   "metadata": {
    "collapsed": false,
    "ExecuteTime": {
     "end_time": "2023-06-20T18:34:52.500597592Z",
     "start_time": "2023-06-20T18:34:52.476698745Z"
    }
   }
  },
  {
   "cell_type": "code",
   "execution_count": 209,
   "outputs": [],
   "source": [
    "df_total = df_total.dropna()"
   ],
   "metadata": {
    "collapsed": false,
    "ExecuteTime": {
     "end_time": "2023-06-20T18:34:52.577050195Z",
     "start_time": "2023-06-20T18:34:52.501513839Z"
    }
   }
  },
  {
   "cell_type": "code",
   "execution_count": 210,
   "outputs": [],
   "source": [
    "from sklearn.ensemble import RandomForestClassifier\n",
    "from sklearn.model_selection import train_test_split\n",
    "from sklearn.metrics import accuracy_score, precision_score, recall_score, f1_score\n",
    "\n",
    "X = df_total.drop('depression', axis=1)\n",
    "y = df_total['depression']"
   ],
   "metadata": {
    "collapsed": false,
    "ExecuteTime": {
     "end_time": "2023-06-20T18:34:52.589423719Z",
     "start_time": "2023-06-20T18:34:52.543853524Z"
    }
   }
  },
  {
   "cell_type": "code",
   "execution_count": 211,
   "outputs": [],
   "source": [
    "from imblearn.over_sampling import SMOTE\n",
    "\n",
    "smote = SMOTE(sampling_strategy='auto', random_state=42)\n",
    "X_resampled, y_resampled = smote.fit_resample(X, y)"
   ],
   "metadata": {
    "collapsed": false,
    "ExecuteTime": {
     "end_time": "2023-06-20T18:34:52.621960409Z",
     "start_time": "2023-06-20T18:34:52.587867365Z"
    }
   }
  },
  {
   "cell_type": "code",
   "execution_count": 212,
   "outputs": [],
   "source": [
    "X_train, X_test, y_train, y_test = train_test_split(X, y, test_size=0.3, random_state=42)"
   ],
   "metadata": {
    "collapsed": false,
    "ExecuteTime": {
     "end_time": "2023-06-20T18:34:52.701615814Z",
     "start_time": "2023-06-20T18:34:52.621371084Z"
    }
   }
  },
  {
   "cell_type": "code",
   "execution_count": 213,
   "outputs": [],
   "source": [
    "rf_classifier = RandomForestClassifier(n_jobs=-1)"
   ],
   "metadata": {
    "collapsed": false,
    "ExecuteTime": {
     "end_time": "2023-06-20T18:34:52.712117312Z",
     "start_time": "2023-06-20T18:34:52.692144072Z"
    }
   }
  },
  {
   "cell_type": "code",
   "execution_count": 214,
   "outputs": [
    {
     "name": "stdout",
     "output_type": "stream",
     "text": [
      "Accuracy: 0.8935021299574009\n",
      "Precision: 0.0\n",
      "Recall: 0.0\n",
      "F1-score: 0.0\n"
     ]
    }
   ],
   "source": [
    "rf_classifier.fit(X_train, y_train)\n",
    "\n",
    "# Make predictions on the testing data\n",
    "y_pred = rf_classifier.predict(X_test)\n",
    "\n",
    "accuracy = accuracy_score(y_test, y_pred)\n",
    "\n",
    "precision = precision_score(y_test, y_pred)\n",
    "\n",
    "recall = recall_score(y_test, y_pred)\n",
    "\n",
    "f1 = f1_score(y_test, y_pred)\n",
    "\n",
    "print(\"Accuracy:\", accuracy)\n",
    "print(\"Precision:\", precision)\n",
    "print(\"Recall:\", recall)\n",
    "print(\"F1-score:\", f1)"
   ],
   "metadata": {
    "collapsed": false,
    "ExecuteTime": {
     "end_time": "2023-06-20T18:34:52.982033868Z",
     "start_time": "2023-06-20T18:34:52.711971831Z"
    }
   }
  },
  {
   "cell_type": "code",
   "execution_count": 215,
   "outputs": [
    {
     "data": {
      "text/plain": "<Figure size 640x480 with 1 Axes>",
      "image/png": "[encoded data removed]"
     },
     "metadata": {},
     "output_type": "display_data"
    }
   ],
   "source": [
    "import matplotlib.pyplot as plt\n",
    "import seaborn as sns\n",
    "from sklearn.metrics import confusion_matrix\n",
    "\n",
    "# Assuming you have the true target variable 'y_test' and the predicted target variable 'y_pred'\n",
    "\n",
    "# Calculate the confusion matrix\n",
    "cm = confusion_matrix(y_test, y_pred)\n",
    "\n",
    "# Create a figure and axes\n",
    "fig, ax = plt.subplots()\n",
    "\n",
    "# Plot the confusion matrix as a heatmap\n",
    "sns.heatmap(cm, annot=True, fmt=\"d\", cmap=\"Blues\", cbar=False, ax=ax)\n",
    "\n",
    "# Set labels, title, and ticks\n",
    "ax.set_xlabel('Predicted')\n",
    "ax.set_ylabel('Actual')\n",
    "ax.set_title('Confusion Matrix')\n",
    "ax.xaxis.set_ticklabels(['No', 'Yes'])\n",
    "ax.yaxis.set_ticklabels(['No', 'Yes'])\n",
    "\n",
    "# Show the plot\n",
    "plt.show()"
   ],
   "metadata": {
    "collapsed": false,
    "ExecuteTime": {
     "end_time": "2023-06-20T18:34:53.086404382Z",
     "start_time": "2023-06-20T18:34:52.983129602Z"
    }
   }
  },
  {
   "cell_type": "code",
   "execution_count": 216,
   "outputs": [
    {
     "name": "stdout",
     "output_type": "stream",
     "text": [
      "sexo: 0.5142891662670797\n",
      "cor: 0.13114998608635514\n",
      "escolaridade: 0.12405366913830028\n",
      "estado_civil: 0.1195475249486083\n",
      "class_idade: 0.1109596535596567\n"
     ]
    }
   ],
   "source": [
    "feature_importances = rf_classifier.feature_importances_\n",
    "\n",
    "# Create a dictionary with feature names as keys and importances as values\n",
    "feature_importance_dict = {feature: importance for feature, importance in zip(X.columns, feature_importances)}\n",
    "\n",
    "# Sort the feature importance dictionary by importance in descending order\n",
    "sorted_feature_importances = sorted(feature_importance_dict.items(), key=lambda x: x[1], reverse=True)\n",
    "\n",
    "# Print the sorted feature importances\n",
    "for feature, importance in sorted_feature_importances:\n",
    "    print(f\"{feature}: {importance}\")"
   ],
   "metadata": {
    "collapsed": false,
    "ExecuteTime": {
     "end_time": "2023-06-20T18:34:53.183793629Z",
     "start_time": "2023-06-20T18:34:53.086971404Z"
    }
   }
  },
  {
   "cell_type": "markdown",
   "source": [
    "### Modelo com todas as variáveis de interesse"
   ],
   "metadata": {
    "collapsed": false
   }
  },
  {
   "cell_type": "code",
   "execution_count": 239,
   "outputs": [],
   "source": [
    "df_total = pd.DataFrame()\n",
    "\n",
    "df_total['exerc_fisico'] = df['exerc_fisico']\n",
    "df_total['tabagismo'] = df['tabagismo']\n",
    "df_total['cons_alcool'] = df['cons_alcool']\n",
    "df_total['cancer'] = df['Q120']\n",
    "df_total['hipertensão'] = df['Q00201']\n",
    "df_total['diabetes'] = df['Q03001']\n",
    "df_total['cardiovascular'] = df['Q06306']\n",
    "df_total['hipercolesterolemia'] = df['Q060']\n",
    "df_total['avc'] = df['Q068']\n",
    "df_total['artrite'] = df['Q079']\n",
    "df_total['obesidade'] = df['obesidade']\n",
    "df_total['depression'] = df['depression']\n",
    "df_total['sexo'] = df['sexo']\n",
    "df_total['estado_civil'] = df['vive_conjugue']\n",
    "df_total = df_total.replace(2.0, 0.0)\n",
    "\n",
    "\n",
    "df_total['escolaridade'] = df['escolaridade_agregada']\n",
    "df_total['upf'] = df['qst_upf']\n",
    "df_total['class_idade'] = df['class_idade']\n",
    "df_total['cor'] = df['cor']\n",
    "df_total['activity_class'] = df['activity_class']\n",
    "\n",
    "# df_total['perc_saude'] = df['N00101'] # Variável não utilizada na literatura, meio duvidosa\n",
    "\n",
    "df_total['renda_pc'] = df['renda_pc']"
   ],
   "metadata": {
    "collapsed": false,
    "ExecuteTime": {
     "end_time": "2023-06-20T18:45:58.911560079Z",
     "start_time": "2023-06-20T18:45:58.852831882Z"
    }
   }
  },
  {
   "cell_type": "code",
   "execution_count": 240,
   "outputs": [],
   "source": [
    "df_total = df_total.dropna()"
   ],
   "metadata": {
    "collapsed": false,
    "ExecuteTime": {
     "end_time": "2023-06-20T18:46:01.541347358Z",
     "start_time": "2023-06-20T18:46:01.524516347Z"
    }
   }
  },
  {
   "cell_type": "markdown",
   "source": [
    "#### Tentando preencher missing em Atividade física e Consumo de alcool"
   ],
   "metadata": {
    "collapsed": false
   }
  },
  {
   "cell_type": "code",
   "execution_count": 241,
   "outputs": [],
   "source": [
    "if df_total['activity_class'].isnull().any():\n",
    "    # Get the existing non-missing values in the target column\n",
    "    existing_values = df_total['activity_class'].dropna().unique()\n",
    "\n",
    "    # Choose a random value from the existing values\n",
    "    random_value = np.random.choice(existing_values)\n",
    "\n",
    "    # Replace the missing values with the random value\n",
    "    df_total['activity_class'].fillna(random_value, inplace=True)"
   ],
   "metadata": {
    "collapsed": false,
    "ExecuteTime": {
     "end_time": "2023-06-20T18:46:21.486077616Z",
     "start_time": "2023-06-20T18:46:21.443256727Z"
    }
   }
  },
  {
   "cell_type": "code",
   "execution_count": 242,
   "outputs": [],
   "source": [
    "from sklearn.impute import SimpleImputer\n",
    "target_column = ['cons_alcool']\n",
    "\n",
    "# Get the columns excluding the target column\n",
    "columns_to_impute = [col for col in df_total.columns if col not in target_column]\n",
    "\n",
    "# Create an instance of SimpleImputer\n",
    "imputer = SimpleImputer(strategy='median')\n",
    "\n",
    "# Iterate over the columns and apply imputation\n",
    "for col in columns_to_impute:\n",
    "    df_total[col] = imputer.fit_transform(df_total[[col]])"
   ],
   "metadata": {
    "collapsed": false,
    "ExecuteTime": {
     "end_time": "2023-06-20T18:46:23.686438589Z",
     "start_time": "2023-06-20T18:46:23.610720339Z"
    }
   }
  },
  {
   "cell_type": "code",
   "execution_count": 252,
   "outputs": [
    {
     "ename": "ValueError",
     "evalue": "Found array with 0 sample(s) (shape=(0, 20)) while a minimum of 1 is required by LogisticRegression.",
     "output_type": "error",
     "traceback": [
      "\u001B[0;31m---------------------------------------------------------------------------\u001B[0m",
      "\u001B[0;31mValueError\u001B[0m                                Traceback (most recent call last)",
      "Cell \u001B[0;32mIn[252], line 21\u001B[0m\n\u001B[1;32m     18\u001B[0m X_missing \u001B[38;5;241m=\u001B[39m df_total\u001B[38;5;241m.\u001B[39mloc[missing_indices]\u001B[38;5;241m.\u001B[39mdrop(columns\u001B[38;5;241m=\u001B[39m[target_column], axis\u001B[38;5;241m=\u001B[39m\u001B[38;5;241m1\u001B[39m)\n\u001B[1;32m     20\u001B[0m \u001B[38;5;66;03m# Predict the missing values using the trained model\u001B[39;00m\n\u001B[0;32m---> 21\u001B[0m y_missing \u001B[38;5;241m=\u001B[39m \u001B[43mmodel\u001B[49m\u001B[38;5;241;43m.\u001B[39;49m\u001B[43mpredict\u001B[49m\u001B[43m(\u001B[49m\u001B[43mX_missing\u001B[49m\u001B[43m)\u001B[49m\n\u001B[1;32m     23\u001B[0m \u001B[38;5;66;03m# Fill the missing values in the binary column with the predicted values\u001B[39;00m\n\u001B[1;32m     24\u001B[0m df_total\u001B[38;5;241m.\u001B[39mloc[missing_indices, target_column] \u001B[38;5;241m=\u001B[39m y_missing\n",
      "File \u001B[0;32m~/.local/lib/python3.10/site-packages/sklearn/linear_model/_base.py:419\u001B[0m, in \u001B[0;36mLinearClassifierMixin.predict\u001B[0;34m(self, X)\u001B[0m\n\u001B[1;32m    405\u001B[0m \u001B[38;5;250m\u001B[39m\u001B[38;5;124;03m\"\"\"\u001B[39;00m\n\u001B[1;32m    406\u001B[0m \u001B[38;5;124;03mPredict class labels for samples in X.\u001B[39;00m\n\u001B[1;32m    407\u001B[0m \n\u001B[0;32m   (...)\u001B[0m\n\u001B[1;32m    416\u001B[0m \u001B[38;5;124;03m    Vector containing the class labels for each sample.\u001B[39;00m\n\u001B[1;32m    417\u001B[0m \u001B[38;5;124;03m\"\"\"\u001B[39;00m\n\u001B[1;32m    418\u001B[0m xp, _ \u001B[38;5;241m=\u001B[39m get_namespace(X)\n\u001B[0;32m--> 419\u001B[0m scores \u001B[38;5;241m=\u001B[39m \u001B[38;5;28;43mself\u001B[39;49m\u001B[38;5;241;43m.\u001B[39;49m\u001B[43mdecision_function\u001B[49m\u001B[43m(\u001B[49m\u001B[43mX\u001B[49m\u001B[43m)\u001B[49m\n\u001B[1;32m    420\u001B[0m \u001B[38;5;28;01mif\u001B[39;00m \u001B[38;5;28mlen\u001B[39m(scores\u001B[38;5;241m.\u001B[39mshape) \u001B[38;5;241m==\u001B[39m \u001B[38;5;241m1\u001B[39m:\n\u001B[1;32m    421\u001B[0m     indices \u001B[38;5;241m=\u001B[39m xp\u001B[38;5;241m.\u001B[39mastype(scores \u001B[38;5;241m>\u001B[39m \u001B[38;5;241m0\u001B[39m, \u001B[38;5;28mint\u001B[39m)\n",
      "File \u001B[0;32m~/.local/lib/python3.10/site-packages/sklearn/linear_model/_base.py:400\u001B[0m, in \u001B[0;36mLinearClassifierMixin.decision_function\u001B[0;34m(self, X)\u001B[0m\n\u001B[1;32m    397\u001B[0m check_is_fitted(\u001B[38;5;28mself\u001B[39m)\n\u001B[1;32m    398\u001B[0m xp, _ \u001B[38;5;241m=\u001B[39m get_namespace(X)\n\u001B[0;32m--> 400\u001B[0m X \u001B[38;5;241m=\u001B[39m \u001B[38;5;28;43mself\u001B[39;49m\u001B[38;5;241;43m.\u001B[39;49m\u001B[43m_validate_data\u001B[49m\u001B[43m(\u001B[49m\u001B[43mX\u001B[49m\u001B[43m,\u001B[49m\u001B[43m \u001B[49m\u001B[43maccept_sparse\u001B[49m\u001B[38;5;241;43m=\u001B[39;49m\u001B[38;5;124;43m\"\u001B[39;49m\u001B[38;5;124;43mcsr\u001B[39;49m\u001B[38;5;124;43m\"\u001B[39;49m\u001B[43m,\u001B[49m\u001B[43m \u001B[49m\u001B[43mreset\u001B[49m\u001B[38;5;241;43m=\u001B[39;49m\u001B[38;5;28;43;01mFalse\u001B[39;49;00m\u001B[43m)\u001B[49m\n\u001B[1;32m    401\u001B[0m scores \u001B[38;5;241m=\u001B[39m safe_sparse_dot(X, \u001B[38;5;28mself\u001B[39m\u001B[38;5;241m.\u001B[39mcoef_\u001B[38;5;241m.\u001B[39mT, dense_output\u001B[38;5;241m=\u001B[39m\u001B[38;5;28;01mTrue\u001B[39;00m) \u001B[38;5;241m+\u001B[39m \u001B[38;5;28mself\u001B[39m\u001B[38;5;241m.\u001B[39mintercept_\n\u001B[1;32m    402\u001B[0m \u001B[38;5;28;01mreturn\u001B[39;00m xp\u001B[38;5;241m.\u001B[39mreshape(scores, \u001B[38;5;241m-\u001B[39m\u001B[38;5;241m1\u001B[39m) \u001B[38;5;28;01mif\u001B[39;00m scores\u001B[38;5;241m.\u001B[39mshape[\u001B[38;5;241m1\u001B[39m] \u001B[38;5;241m==\u001B[39m \u001B[38;5;241m1\u001B[39m \u001B[38;5;28;01melse\u001B[39;00m scores\n",
      "File \u001B[0;32m~/.local/lib/python3.10/site-packages/sklearn/base.py:565\u001B[0m, in \u001B[0;36mBaseEstimator._validate_data\u001B[0;34m(self, X, y, reset, validate_separately, **check_params)\u001B[0m\n\u001B[1;32m    563\u001B[0m     \u001B[38;5;28;01mraise\u001B[39;00m \u001B[38;5;167;01mValueError\u001B[39;00m(\u001B[38;5;124m\"\u001B[39m\u001B[38;5;124mValidation should be done on X, y or both.\u001B[39m\u001B[38;5;124m\"\u001B[39m)\n\u001B[1;32m    564\u001B[0m \u001B[38;5;28;01melif\u001B[39;00m \u001B[38;5;129;01mnot\u001B[39;00m no_val_X \u001B[38;5;129;01mand\u001B[39;00m no_val_y:\n\u001B[0;32m--> 565\u001B[0m     X \u001B[38;5;241m=\u001B[39m \u001B[43mcheck_array\u001B[49m\u001B[43m(\u001B[49m\u001B[43mX\u001B[49m\u001B[43m,\u001B[49m\u001B[43m \u001B[49m\u001B[43minput_name\u001B[49m\u001B[38;5;241;43m=\u001B[39;49m\u001B[38;5;124;43m\"\u001B[39;49m\u001B[38;5;124;43mX\u001B[39;49m\u001B[38;5;124;43m\"\u001B[39;49m\u001B[43m,\u001B[49m\u001B[43m \u001B[49m\u001B[38;5;241;43m*\u001B[39;49m\u001B[38;5;241;43m*\u001B[39;49m\u001B[43mcheck_params\u001B[49m\u001B[43m)\u001B[49m\n\u001B[1;32m    566\u001B[0m     out \u001B[38;5;241m=\u001B[39m X\n\u001B[1;32m    567\u001B[0m \u001B[38;5;28;01melif\u001B[39;00m no_val_X \u001B[38;5;129;01mand\u001B[39;00m \u001B[38;5;129;01mnot\u001B[39;00m no_val_y:\n",
      "File \u001B[0;32m~/.local/lib/python3.10/site-packages/sklearn/utils/validation.py:931\u001B[0m, in \u001B[0;36mcheck_array\u001B[0;34m(array, accept_sparse, accept_large_sparse, dtype, order, copy, force_all_finite, ensure_2d, allow_nd, ensure_min_samples, ensure_min_features, estimator, input_name)\u001B[0m\n\u001B[1;32m    929\u001B[0m     n_samples \u001B[38;5;241m=\u001B[39m _num_samples(array)\n\u001B[1;32m    930\u001B[0m     \u001B[38;5;28;01mif\u001B[39;00m n_samples \u001B[38;5;241m<\u001B[39m ensure_min_samples:\n\u001B[0;32m--> 931\u001B[0m         \u001B[38;5;28;01mraise\u001B[39;00m \u001B[38;5;167;01mValueError\u001B[39;00m(\n\u001B[1;32m    932\u001B[0m             \u001B[38;5;124m\"\u001B[39m\u001B[38;5;124mFound array with \u001B[39m\u001B[38;5;132;01m%d\u001B[39;00m\u001B[38;5;124m sample(s) (shape=\u001B[39m\u001B[38;5;132;01m%s\u001B[39;00m\u001B[38;5;124m) while a\u001B[39m\u001B[38;5;124m\"\u001B[39m\n\u001B[1;32m    933\u001B[0m             \u001B[38;5;124m\"\u001B[39m\u001B[38;5;124m minimum of \u001B[39m\u001B[38;5;132;01m%d\u001B[39;00m\u001B[38;5;124m is required\u001B[39m\u001B[38;5;132;01m%s\u001B[39;00m\u001B[38;5;124m.\u001B[39m\u001B[38;5;124m\"\u001B[39m\n\u001B[1;32m    934\u001B[0m             \u001B[38;5;241m%\u001B[39m (n_samples, array\u001B[38;5;241m.\u001B[39mshape, ensure_min_samples, context)\n\u001B[1;32m    935\u001B[0m         )\n\u001B[1;32m    937\u001B[0m \u001B[38;5;28;01mif\u001B[39;00m ensure_min_features \u001B[38;5;241m>\u001B[39m \u001B[38;5;241m0\u001B[39m \u001B[38;5;129;01mand\u001B[39;00m array\u001B[38;5;241m.\u001B[39mndim \u001B[38;5;241m==\u001B[39m \u001B[38;5;241m2\u001B[39m:\n\u001B[1;32m    938\u001B[0m     n_features \u001B[38;5;241m=\u001B[39m array\u001B[38;5;241m.\u001B[39mshape[\u001B[38;5;241m1\u001B[39m]\n",
      "\u001B[0;31mValueError\u001B[0m: Found array with 0 sample(s) (shape=(0, 20)) while a minimum of 1 is required by LogisticRegression."
     ]
    }
   ],
   "source": [
    "from sklearn.linear_model import LogisticRegression\n",
    "\n",
    "target_column = 'cons_alcool'\n",
    "\n",
    "X_train = df_total.loc[~df_total[target_column].isna()].drop(columns=[target_column], axis=1)\n",
    "y_train = df_total.loc[~df_total[target_column].isna(), target_column]\n",
    "\n",
    "# Initialize the Logistic Regression model\n",
    "model = LogisticRegression()\n",
    "\n",
    "# Fit the model on the available df_total\n",
    "model.fit(X_train, y_train)\n",
    "\n",
    "# Obtain the indices of rows with NaN values in the binary column\n",
    "missing_indices = df_total[df_total[target_column].isna()].index\n",
    "\n",
    "# Select the features for the missing rows\n",
    "X_missing = df_total.loc[missing_indices].drop(columns=[target_column], axis=1)\n",
    "\n",
    "# Predict the missing values using the trained model\n",
    "y_missing = model.predict(X_missing)\n",
    "\n",
    "# Fill the missing values in the binary column with the predicted values\n",
    "df_total.loc[missing_indices, target_column] = y_missing"
   ],
   "metadata": {
    "collapsed": false,
    "ExecuteTime": {
     "end_time": "2023-06-20T19:11:15.135557151Z",
     "start_time": "2023-06-20T19:11:14.927424383Z"
    }
   }
  },
  {
   "cell_type": "code",
   "execution_count": 253,
   "outputs": [
    {
     "data": {
      "text/plain": "       exerc_fisico  tabagismo  cancer  hipertensão  diabetes  cardiovascular   \n1               1.0        0.0     0.0          0.0       0.0             0.0  \\\n7               1.0        0.0     0.0          0.0       0.0             0.0   \n11              1.0        0.0     0.0          0.0       0.0             0.0   \n12              1.0        0.0     0.0          0.0       0.0             0.0   \n15              1.0        0.0     0.0          0.0       0.0             0.0   \n...             ...        ...     ...          ...       ...             ...   \n90839           1.0        0.0     0.0          0.0       0.0             0.0   \n90840           1.0        0.0     0.0          1.0       0.0             0.0   \n90842           1.0        0.0     0.0          0.0       0.0             0.0   \n90843           1.0        0.0     0.0          0.0       0.0             0.0   \n90844           1.0        0.0     0.0          0.0       0.0             0.0   \n\n       hipercolesterolemia  avc  artrite  obesidade  depression  sexo   \n1                      0.0  0.0      0.0        0.0         0.0   0.0  \\\n7                      0.0  0.0      0.0        0.0         0.0   0.0   \n11                     0.0  0.0      0.0        0.0         0.0   1.0   \n12                     0.0  0.0      0.0        0.0         0.0   1.0   \n15                     0.0  0.0      0.0        0.0         0.0   0.0   \n...                    ...  ...      ...        ...         ...   ...   \n90839                  0.0  0.0      0.0        1.0         0.0   0.0   \n90840                  0.0  0.0      0.0        1.0         0.0   1.0   \n90842                  0.0  0.0      0.0        0.0         0.0   1.0   \n90843                  1.0  0.0      1.0        0.0         0.0   1.0   \n90844                  0.0  0.0      0.0        0.0         0.0   0.0   \n\n       estado_civil  escolaridade   upf  class_idade  cor  activity_class   \n1               0.0           1.0   0.0          4.0  1.0             0.0  \\\n7               1.0           2.0   0.0          3.0  1.0             0.0   \n11              1.0           2.0   6.0          4.0  1.0             0.0   \n12              1.0           3.0   2.0          1.0  4.0             0.0   \n15              1.0           2.0   2.0          2.0  4.0             1.0   \n...             ...           ...   ...          ...  ...             ...   \n90839           1.0           4.0   1.0          2.0  4.0             0.0   \n90840           1.0           2.0   5.0          2.0  2.0             0.0   \n90842           1.0           2.0  10.0          3.0  1.0             1.0   \n90843           0.0           3.0   2.0          4.0  1.0             0.0   \n90844           1.0           2.0   3.0          3.0  4.0             0.0   \n\n       perc_saude  renda_pc  \n1             1.0       6.0  \n7             2.0       4.0  \n11            1.0       5.0  \n12            1.0       4.0  \n15            2.0       1.0  \n...           ...       ...  \n90839         2.0       7.0  \n90840         2.0       3.0  \n90842         2.0       4.0  \n90843         2.0       7.0  \n90844         2.0       6.0  \n\n[20538 rows x 20 columns]",
      "text/html": "<div>\n<style scoped>\n    .dataframe tbody tr th:only-of-type {\n        vertical-align: middle;\n    }\n\n    .dataframe tbody tr th {\n        vertical-align: top;\n    }\n\n    .dataframe thead th {\n        text-align: right;\n    }\n</style>\n<table border=\"1\" class=\"dataframe\">\n  <thead>\n    <tr style=\"text-align: right;\">\n      <th></th>\n      <th>exerc_fisico</th>\n      <th>tabagismo</th>\n      <th>cancer</th>\n      <th>hipertensão</th>\n      <th>diabetes</th>\n      <th>cardiovascular</th>\n      <th>hipercolesterolemia</th>\n      <th>avc</th>\n      <th>artrite</th>\n      <th>obesidade</th>\n      <th>depression</th>\n      <th>sexo</th>\n      <th>estado_civil</th>\n      <th>escolaridade</th>\n      <th>upf</th>\n      <th>class_idade</th>\n      <th>cor</th>\n      <th>activity_class</th>\n      <th>perc_saude</th>\n      <th>renda_pc</th>\n    </tr>\n  </thead>\n  <tbody>\n    <tr>\n      <th>1</th>\n      <td>1.0</td>\n      <td>0.0</td>\n      <td>0.0</td>\n      <td>0.0</td>\n      <td>0.0</td>\n      <td>0.0</td>\n      <td>0.0</td>\n      <td>0.0</td>\n      <td>0.0</td>\n      <td>0.0</td>\n      <td>0.0</td>\n      <td>0.0</td>\n      <td>0.0</td>\n      <td>1.0</td>\n      <td>0.0</td>\n      <td>4.0</td>\n      <td>1.0</td>\n      <td>0.0</td>\n      <td>1.0</td>\n      <td>6.0</td>\n    </tr>\n    <tr>\n      <th>7</th>\n      <td>1.0</td>\n      <td>0.0</td>\n      <td>0.0</td>\n      <td>0.0</td>\n      <td>0.0</td>\n      <td>0.0</td>\n      <td>0.0</td>\n      <td>0.0</td>\n      <td>0.0</td>\n      <td>0.0</td>\n      <td>0.0</td>\n      <td>0.0</td>\n      <td>1.0</td>\n      <td>2.0</td>\n      <td>0.0</td>\n      <td>3.0</td>\n      <td>1.0</td>\n      <td>0.0</td>\n      <td>2.0</td>\n      <td>4.0</td>\n    </tr>\n    <tr>\n      <th>11</th>\n      <td>1.0</td>\n      <td>0.0</td>\n      <td>0.0</td>\n      <td>0.0</td>\n      <td>0.0</td>\n      <td>0.0</td>\n      <td>0.0</td>\n      <td>0.0</td>\n      <td>0.0</td>\n      <td>0.0</td>\n      <td>0.0</td>\n      <td>1.0</td>\n      <td>1.0</td>\n      <td>2.0</td>\n      <td>6.0</td>\n      <td>4.0</td>\n      <td>1.0</td>\n      <td>0.0</td>\n      <td>1.0</td>\n      <td>5.0</td>\n    </tr>\n    <tr>\n      <th>12</th>\n      <td>1.0</td>\n      <td>0.0</td>\n      <td>0.0</td>\n      <td>0.0</td>\n      <td>0.0</td>\n      <td>0.0</td>\n      <td>0.0</td>\n      <td>0.0</td>\n      <td>0.0</td>\n      <td>0.0</td>\n      <td>0.0</td>\n      <td>1.0</td>\n      <td>1.0</td>\n      <td>3.0</td>\n      <td>2.0</td>\n      <td>1.0</td>\n      <td>4.0</td>\n      <td>0.0</td>\n      <td>1.0</td>\n      <td>4.0</td>\n    </tr>\n    <tr>\n      <th>15</th>\n      <td>1.0</td>\n      <td>0.0</td>\n      <td>0.0</td>\n      <td>0.0</td>\n      <td>0.0</td>\n      <td>0.0</td>\n      <td>0.0</td>\n      <td>0.0</td>\n      <td>0.0</td>\n      <td>0.0</td>\n      <td>0.0</td>\n      <td>0.0</td>\n      <td>1.0</td>\n      <td>2.0</td>\n      <td>2.0</td>\n      <td>2.0</td>\n      <td>4.0</td>\n      <td>1.0</td>\n      <td>2.0</td>\n      <td>1.0</td>\n    </tr>\n    <tr>\n      <th>...</th>\n      <td>...</td>\n      <td>...</td>\n      <td>...</td>\n      <td>...</td>\n      <td>...</td>\n      <td>...</td>\n      <td>...</td>\n      <td>...</td>\n      <td>...</td>\n      <td>...</td>\n      <td>...</td>\n      <td>...</td>\n      <td>...</td>\n      <td>...</td>\n      <td>...</td>\n      <td>...</td>\n      <td>...</td>\n      <td>...</td>\n      <td>...</td>\n      <td>...</td>\n    </tr>\n    <tr>\n      <th>90839</th>\n      <td>1.0</td>\n      <td>0.0</td>\n      <td>0.0</td>\n      <td>0.0</td>\n      <td>0.0</td>\n      <td>0.0</td>\n      <td>0.0</td>\n      <td>0.0</td>\n      <td>0.0</td>\n      <td>1.0</td>\n      <td>0.0</td>\n      <td>0.0</td>\n      <td>1.0</td>\n      <td>4.0</td>\n      <td>1.0</td>\n      <td>2.0</td>\n      <td>4.0</td>\n      <td>0.0</td>\n      <td>2.0</td>\n      <td>7.0</td>\n    </tr>\n    <tr>\n      <th>90840</th>\n      <td>1.0</td>\n      <td>0.0</td>\n      <td>0.0</td>\n      <td>1.0</td>\n      <td>0.0</td>\n      <td>0.0</td>\n      <td>0.0</td>\n      <td>0.0</td>\n      <td>0.0</td>\n      <td>1.0</td>\n      <td>0.0</td>\n      <td>1.0</td>\n      <td>1.0</td>\n      <td>2.0</td>\n      <td>5.0</td>\n      <td>2.0</td>\n      <td>2.0</td>\n      <td>0.0</td>\n      <td>2.0</td>\n      <td>3.0</td>\n    </tr>\n    <tr>\n      <th>90842</th>\n      <td>1.0</td>\n      <td>0.0</td>\n      <td>0.0</td>\n      <td>0.0</td>\n      <td>0.0</td>\n      <td>0.0</td>\n      <td>0.0</td>\n      <td>0.0</td>\n      <td>0.0</td>\n      <td>0.0</td>\n      <td>0.0</td>\n      <td>1.0</td>\n      <td>1.0</td>\n      <td>2.0</td>\n      <td>10.0</td>\n      <td>3.0</td>\n      <td>1.0</td>\n      <td>1.0</td>\n      <td>2.0</td>\n      <td>4.0</td>\n    </tr>\n    <tr>\n      <th>90843</th>\n      <td>1.0</td>\n      <td>0.0</td>\n      <td>0.0</td>\n      <td>0.0</td>\n      <td>0.0</td>\n      <td>0.0</td>\n      <td>1.0</td>\n      <td>0.0</td>\n      <td>1.0</td>\n      <td>0.0</td>\n      <td>0.0</td>\n      <td>1.0</td>\n      <td>0.0</td>\n      <td>3.0</td>\n      <td>2.0</td>\n      <td>4.0</td>\n      <td>1.0</td>\n      <td>0.0</td>\n      <td>2.0</td>\n      <td>7.0</td>\n    </tr>\n    <tr>\n      <th>90844</th>\n      <td>1.0</td>\n      <td>0.0</td>\n      <td>0.0</td>\n      <td>0.0</td>\n      <td>0.0</td>\n      <td>0.0</td>\n      <td>0.0</td>\n      <td>0.0</td>\n      <td>0.0</td>\n      <td>0.0</td>\n      <td>0.0</td>\n      <td>0.0</td>\n      <td>1.0</td>\n      <td>2.0</td>\n      <td>3.0</td>\n      <td>3.0</td>\n      <td>4.0</td>\n      <td>0.0</td>\n      <td>2.0</td>\n      <td>6.0</td>\n    </tr>\n  </tbody>\n</table>\n<p>20538 rows × 20 columns</p>\n</div>"
     },
     "execution_count": 253,
     "metadata": {},
     "output_type": "execute_result"
    }
   ],
   "source": [
    "X_train"
   ],
   "metadata": {
    "collapsed": false,
    "ExecuteTime": {
     "end_time": "2023-06-20T19:11:26.912476104Z",
     "start_time": "2023-06-20T19:11:26.871126899Z"
    }
   }
  },
  {
   "cell_type": "code",
   "execution_count": 243,
   "outputs": [
    {
     "data": {
      "text/plain": "cons_alcool\n1.0    10578\n0.0     9960\nName: count, dtype: int64"
     },
     "execution_count": 243,
     "metadata": {},
     "output_type": "execute_result"
    }
   ],
   "source": [
    "df_total['cons_alcool'].value_counts()"
   ],
   "metadata": {
    "collapsed": false,
    "ExecuteTime": {
     "end_time": "2023-06-20T18:46:27.021504134Z",
     "start_time": "2023-06-20T18:46:26.992213211Z"
    }
   }
  },
  {
   "cell_type": "code",
   "execution_count": 244,
   "outputs": [
    {
     "data": {
      "text/plain": "activity_class\n0.0    16497\n1.0     4041\nName: count, dtype: int64"
     },
     "execution_count": 244,
     "metadata": {},
     "output_type": "execute_result"
    }
   ],
   "source": [
    "df_total['activity_class'].value_counts()"
   ],
   "metadata": {
    "collapsed": false,
    "ExecuteTime": {
     "end_time": "2023-06-20T18:46:29.079812934Z",
     "start_time": "2023-06-20T18:46:29.053395843Z"
    }
   }
  },
  {
   "cell_type": "markdown",
   "source": [
    "#### Voltando ao modelo"
   ],
   "metadata": {
    "collapsed": false
   }
  },
  {
   "cell_type": "code",
   "execution_count": 245,
   "outputs": [],
   "source": [
    "new_df = df.copy() # Se for analisar o banco completo, utilize o new_df e retire as perguntas já utilizadas nas variáveis criadas por nós\n",
    "drop = ['N010', 'N011', 'N012', 'N013', 'N014', 'N015', 'N016', 'N017', 'N018', 'P02801', 'P050', 'depression_severity', 'phq9_total']\n",
    "new_df = new_df.drop(columns=drop)"
   ],
   "metadata": {
    "collapsed": false,
    "ExecuteTime": {
     "end_time": "2023-06-20T18:46:56.241133772Z",
     "start_time": "2023-06-20T18:46:56.107468400Z"
    }
   }
  },
  {
   "cell_type": "code",
   "execution_count": 246,
   "outputs": [
    {
     "data": {
      "text/plain": "<Figure size 2000x800 with 2 Axes>",
      "image/png": "[encoded data removed]"
     },
     "metadata": {},
     "output_type": "display_data"
    }
   ],
   "source": [
    "import numpy as np\n",
    "\n",
    "corr_matrix = df_total.corr()\n",
    "correlations = corr_matrix['depression'].abs().sort_values(ascending=False)\n",
    "\n",
    "mask = np.triu(np.ones(corr_matrix.shape)).astype(bool)\n",
    "fig, ax = plt.subplots(figsize=(20, 8))\n",
    "sns.heatmap(corr_matrix, mask=mask, annot=True, fmt=\".2f\", cmap=\"coolwarm\", ax=ax)\n",
    "ax.set_title(\"Upper Triangle of Correlation Matrix\")\n",
    "plt.show()"
   ],
   "metadata": {
    "collapsed": false,
    "ExecuteTime": {
     "end_time": "2023-06-20T18:47:03.530104371Z",
     "start_time": "2023-06-20T18:47:02.876461012Z"
    }
   }
  },
  {
   "cell_type": "code",
   "execution_count": 247,
   "outputs": [
    {
     "data": {
      "text/plain": "depression             1.000000\nperc_saude             0.280229\nsexo                   0.141022\nartrite                0.106457\nhipercolesterolemia    0.080550\nhipertensão            0.075149\ncardiovascular         0.071597\nestado_civil           0.064675\nrenda_pc               0.062355\nobesidade              0.060733\ndiabetes               0.051144\navc                    0.047319\ncancer                 0.043945\ntabagismo              0.043571\nescolaridade           0.034622\ncons_alcool            0.034559\ncor                    0.023829\nupf                    0.013973\nactivity_class         0.006170\nclass_idade            0.002795\nexerc_fisico                NaN\nName: depression, dtype: float64"
     },
     "execution_count": 247,
     "metadata": {},
     "output_type": "execute_result"
    }
   ],
   "source": [
    "correlations.head(30)"
   ],
   "metadata": {
    "collapsed": false,
    "ExecuteTime": {
     "end_time": "2023-06-20T18:47:10.414938469Z",
     "start_time": "2023-06-20T18:47:10.384828182Z"
    }
   }
  },
  {
   "cell_type": "code",
   "execution_count": 248,
   "outputs": [],
   "source": [
    "from sklearn.ensemble import RandomForestClassifier\n",
    "from sklearn.model_selection import train_test_split\n",
    "from sklearn.metrics import accuracy_score, precision_score, recall_score, f1_score\n",
    "\n",
    "\n",
    "X = df_total.drop('depression', axis=1)\n",
    "y = df_total['depression']"
   ],
   "metadata": {
    "collapsed": false,
    "ExecuteTime": {
     "end_time": "2023-06-20T18:47:13.599916871Z",
     "start_time": "2023-06-20T18:47:13.558764532Z"
    }
   }
  },
  {
   "cell_type": "code",
   "execution_count": 249,
   "outputs": [],
   "source": [
    "X_train, X_test, y_train, y_test = train_test_split(X, y, test_size=0.3, random_state=42)\n",
    "\n",
    "# o SMOTE é uma possibilidade para podermos realizar data augmentation dos dados de pessoas consideradas depressivas\n",
    "# O desbalanceio das classes é ENORME (~59k não depressivos e 7k depressivos)\n",
    "# Ele olha a classe com menos quantidade de amostras e gera uma nova distribuição de acordo com as semelhanças entre vizinhos\n",
    "\n",
    "from imblearn.over_sampling import SMOTE\n",
    "\n",
    "smote = SMOTE(sampling_strategy='auto', random_state=42)\n",
    "#X_train, y_train = smote.fit_resample(X_train, y_train)\n",
    "#X_test, y_test = smote.fit_resample(X_test, y_test)"
   ],
   "metadata": {
    "collapsed": false,
    "ExecuteTime": {
     "end_time": "2023-06-20T18:47:15.886667221Z",
     "start_time": "2023-06-20T18:47:15.853420140Z"
    }
   }
  },
  {
   "cell_type": "code",
   "execution_count": 250,
   "outputs": [
    {
     "data": {
      "text/plain": "Counter({0.0: 13113, 1.0: 1263})"
     },
     "execution_count": 250,
     "metadata": {},
     "output_type": "execute_result"
    }
   ],
   "source": [
    "from collections import Counter\n",
    "Counter(y_train)"
   ],
   "metadata": {
    "collapsed": false,
    "ExecuteTime": {
     "end_time": "2023-06-20T18:47:17.643458373Z",
     "start_time": "2023-06-20T18:47:17.611976899Z"
    }
   }
  },
  {
   "cell_type": "code",
   "execution_count": 232,
   "outputs": [
    {
     "data": {
      "text/plain": "Counter({0.0: 13113, 1.0: 1263})"
     },
     "execution_count": 232,
     "metadata": {},
     "output_type": "execute_result"
    }
   ],
   "source": [
    "from collections import Counter\n",
    "Counter(y_train)"
   ],
   "metadata": {
    "collapsed": false,
    "ExecuteTime": {
     "end_time": "2023-06-20T18:36:41.280183386Z",
     "start_time": "2023-06-20T18:36:41.235996139Z"
    }
   }
  },
  {
   "cell_type": "markdown",
   "source": [
    "### RandomForestClassifier"
   ],
   "metadata": {
    "collapsed": false
   }
  },
  {
   "cell_type": "code",
   "execution_count": 234,
   "outputs": [
    {
     "name": "stdout",
     "output_type": "stream",
     "text": [
      "Accuracy: 0.8899707887049659\n",
      "Precision: 0.06417112299465241\n",
      "Recall: 0.02330097087378641\n",
      "F1-score: 0.03418803418803419\n"
     ]
    }
   ],
   "source": [
    "rf_classifier = RandomForestClassifier(n_jobs=-1, class_weight='balanced')\n",
    "\n",
    "rf_classifier.fit(X_train, y_train)\n",
    "\n",
    "# Make predictions on the testing data\n",
    "y_pred = rf_classifier.predict(X_test)\n",
    "\n",
    "accuracy = accuracy_score(y_test, y_pred)\n",
    "\n",
    "precision = precision_score(y_test, y_pred)\n",
    "\n",
    "recall = recall_score(y_test, y_pred)\n",
    "\n",
    "f1 = f1_score(y_test, y_pred)\n",
    "\n",
    "print(\"Accuracy:\", accuracy)\n",
    "print(\"Precision:\", precision)\n",
    "print(\"Recall:\", recall)\n",
    "print(\"F1-score:\", f1)"
   ],
   "metadata": {
    "collapsed": false,
    "ExecuteTime": {
     "end_time": "2023-06-20T18:36:49.301930938Z",
     "start_time": "2023-06-20T18:36:49.031202249Z"
    }
   }
  },
  {
   "cell_type": "code",
   "execution_count": 235,
   "outputs": [
    {
     "data": {
      "text/plain": "<Figure size 640x480 with 1 Axes>",
      "image/png": "[encoded data removed]"
     },
     "metadata": {},
     "output_type": "display_data"
    }
   ],
   "source": [
    "import matplotlib.pyplot as plt\n",
    "import seaborn as sns\n",
    "from sklearn.metrics import confusion_matrix\n",
    "\n",
    "# Assuming you have the true target variable 'y_test' and the predicted target variable 'y_pred'\n",
    "\n",
    "# Calculate the confusion matrix\n",
    "cm = confusion_matrix(y_test, y_pred)\n",
    "\n",
    "# Create a figure and axes\n",
    "fig, ax = plt.subplots()\n",
    "\n",
    "# Plot the confusion matrix as a heatmap\n",
    "sns.heatmap(cm, annot=True, fmt=\"d\", cmap=\"Blues\", cbar=False, ax=ax)\n",
    "\n",
    "# Set labels, title, and ticks\n",
    "ax.set_xlabel('Predicted')\n",
    "ax.set_ylabel('Actual')\n",
    "ax.set_title('Confusion Matrix')\n",
    "ax.xaxis.set_ticklabels(['No', 'Yes'])\n",
    "ax.yaxis.set_ticklabels(['No', 'Yes'])\n",
    "\n",
    "# Show the plot\n",
    "plt.show()"
   ],
   "metadata": {
    "collapsed": false,
    "ExecuteTime": {
     "end_time": "2023-06-20T18:42:30.754724405Z",
     "start_time": "2023-06-20T18:42:30.655721827Z"
    }
   }
  },
  {
   "cell_type": "code",
   "execution_count": 236,
   "outputs": [
    {
     "name": "stdout",
     "output_type": "stream",
     "text": [
      "upf: 0.18782922997740573\n",
      "renda_pc: 0.15194395451706635\n",
      "class_idade: 0.10878741060017068\n",
      "escolaridade: 0.0970628142227799\n",
      "cor: 0.08096002939109403\n",
      "sexo: 0.06947197431305764\n",
      "cons_alcool: 0.04936932642625747\n",
      "activity_class: 0.03996570275749583\n",
      "estado_civil: 0.03764148193298429\n",
      "obesidade: 0.03315160912389592\n",
      "hipertensão: 0.03058905629063177\n",
      "hipercolesterolemia: 0.025712964001518256\n",
      "tabagismo: 0.021589272298198597\n",
      "artrite: 0.019093239004444578\n",
      "diabetes: 0.016625716017925948\n",
      "cardiovascular: 0.014262603201037989\n",
      "cancer: 0.010044348832909363\n",
      "avc: 0.005899267091125691\n",
      "exerc_fisico: 0.0\n"
     ]
    }
   ],
   "source": [
    "feature_importances = rf_classifier.feature_importances_\n",
    "\n",
    "# Create a dictionary with feature names as keys and importances as values\n",
    "feature_importance_dict = {feature: importance for feature, importance in zip(X.columns, feature_importances)}\n",
    "\n",
    "# Sort the feature importance dictionary by importance in descending order\n",
    "sorted_feature_importances = sorted(feature_importance_dict.items(), key=lambda x: x[1], reverse=True)\n",
    "\n",
    "# Print the sorted feature importances\n",
    "for feature, importance in sorted_feature_importances:\n",
    "    print(f\"{feature}: {importance}\")"
   ],
   "metadata": {
    "collapsed": false,
    "ExecuteTime": {
     "end_time": "2023-06-20T18:42:37.103062131Z",
     "start_time": "2023-06-20T18:42:37.056947225Z"
    }
   }
  },
  {
   "cell_type": "markdown",
   "source": [
    "### LogisticRegression"
   ],
   "metadata": {
    "collapsed": false
   }
  },
  {
   "cell_type": "code",
   "execution_count": 251,
   "outputs": [
    {
     "name": "stderr",
     "output_type": "stream",
     "text": [
      "/home/anderson/.local/lib/python3.10/site-packages/sklearn/linear_model/_sag.py:350: ConvergenceWarning: The max_iter was reached which means the coef_ did not converge\n",
      "  warnings.warn(\n",
      "/home/anderson/.local/lib/python3.10/site-packages/sklearn/linear_model/_sag.py:350: ConvergenceWarning: The max_iter was reached which means the coef_ did not converge\n",
      "  warnings.warn(\n",
      "/home/anderson/.local/lib/python3.10/site-packages/sklearn/linear_model/_sag.py:350: ConvergenceWarning: The max_iter was reached which means the coef_ did not converge\n",
      "  warnings.warn(\n",
      "/home/anderson/.local/lib/python3.10/site-packages/sklearn/linear_model/_sag.py:350: ConvergenceWarning: The max_iter was reached which means the coef_ did not converge\n",
      "  warnings.warn(\n",
      "/home/anderson/.local/lib/python3.10/site-packages/sklearn/linear_model/_sag.py:350: ConvergenceWarning: The max_iter was reached which means the coef_ did not converge\n",
      "  warnings.warn(\n",
      "/home/anderson/.local/lib/python3.10/site-packages/sklearn/linear_model/_sag.py:350: ConvergenceWarning: The max_iter was reached which means the coef_ did not converge\n",
      "  warnings.warn(\n",
      "/home/anderson/.local/lib/python3.10/site-packages/sklearn/linear_model/_sag.py:350: ConvergenceWarning: The max_iter was reached which means the coef_ did not converge\n",
      "  warnings.warn(\n",
      "/home/anderson/.local/lib/python3.10/site-packages/sklearn/linear_model/_sag.py:350: ConvergenceWarning: The max_iter was reached which means the coef_ did not converge\n",
      "  warnings.warn(\n",
      "/home/anderson/.local/lib/python3.10/site-packages/sklearn/linear_model/_sag.py:350: ConvergenceWarning: The max_iter was reached which means the coef_ did not converge\n",
      "  warnings.warn(\n",
      "/home/anderson/.local/lib/python3.10/site-packages/sklearn/linear_model/_sag.py:350: ConvergenceWarning: The max_iter was reached which means the coef_ did not converge\n",
      "  warnings.warn(\n",
      "/home/anderson/.local/lib/python3.10/site-packages/sklearn/linear_model/_sag.py:350: ConvergenceWarning: The max_iter was reached which means the coef_ did not converge\n",
      "  warnings.warn(\n",
      "/home/anderson/.local/lib/python3.10/site-packages/sklearn/linear_model/_sag.py:350: ConvergenceWarning: The max_iter was reached which means the coef_ did not converge\n",
      "  warnings.warn(\n",
      "/home/anderson/.local/lib/python3.10/site-packages/sklearn/linear_model/_sag.py:350: ConvergenceWarning: The max_iter was reached which means the coef_ did not converge\n",
      "  warnings.warn(\n",
      "/home/anderson/.local/lib/python3.10/site-packages/sklearn/linear_model/_sag.py:350: ConvergenceWarning: The max_iter was reached which means the coef_ did not converge\n",
      "  warnings.warn(\n",
      "/home/anderson/.local/lib/python3.10/site-packages/sklearn/linear_model/_sag.py:350: ConvergenceWarning: The max_iter was reached which means the coef_ did not converge\n",
      "  warnings.warn(\n",
      "/home/anderson/.local/lib/python3.10/site-packages/sklearn/linear_model/_sag.py:350: ConvergenceWarning: The max_iter was reached which means the coef_ did not converge\n",
      "  warnings.warn(\n",
      "/home/anderson/.local/lib/python3.10/site-packages/sklearn/linear_model/_sag.py:350: ConvergenceWarning: The max_iter was reached which means the coef_ did not converge\n",
      "  warnings.warn(\n",
      "/home/anderson/.local/lib/python3.10/site-packages/sklearn/linear_model/_sag.py:350: ConvergenceWarning: The max_iter was reached which means the coef_ did not converge\n",
      "  warnings.warn(\n",
      "/home/anderson/.local/lib/python3.10/site-packages/sklearn/linear_model/_sag.py:350: ConvergenceWarning: The max_iter was reached which means the coef_ did not converge\n",
      "  warnings.warn(\n",
      "/home/anderson/.local/lib/python3.10/site-packages/sklearn/linear_model/_sag.py:350: ConvergenceWarning: The max_iter was reached which means the coef_ did not converge\n",
      "  warnings.warn(\n",
      "/home/anderson/.local/lib/python3.10/site-packages/sklearn/linear_model/_sag.py:350: ConvergenceWarning: The max_iter was reached which means the coef_ did not converge\n",
      "  warnings.warn(\n",
      "/home/anderson/.local/lib/python3.10/site-packages/sklearn/linear_model/_sag.py:350: ConvergenceWarning: The max_iter was reached which means the coef_ did not converge\n",
      "  warnings.warn(\n",
      "/home/anderson/.local/lib/python3.10/site-packages/sklearn/linear_model/_sag.py:350: ConvergenceWarning: The max_iter was reached which means the coef_ did not converge\n",
      "  warnings.warn(\n",
      "/home/anderson/.local/lib/python3.10/site-packages/sklearn/linear_model/_sag.py:350: ConvergenceWarning: The max_iter was reached which means the coef_ did not converge\n",
      "  warnings.warn(\n",
      "/home/anderson/.local/lib/python3.10/site-packages/sklearn/linear_model/_sag.py:350: ConvergenceWarning: The max_iter was reached which means the coef_ did not converge\n",
      "  warnings.warn(\n",
      "/home/anderson/.local/lib/python3.10/site-packages/sklearn/linear_model/_sag.py:350: ConvergenceWarning: The max_iter was reached which means the coef_ did not converge\n",
      "  warnings.warn(\n",
      "/home/anderson/.local/lib/python3.10/site-packages/sklearn/linear_model/_sag.py:350: ConvergenceWarning: The max_iter was reached which means the coef_ did not converge\n",
      "  warnings.warn(\n",
      "/home/anderson/.local/lib/python3.10/site-packages/sklearn/linear_model/_sag.py:350: ConvergenceWarning: The max_iter was reached which means the coef_ did not converge\n",
      "  warnings.warn(\n",
      "/home/anderson/.local/lib/python3.10/site-packages/sklearn/linear_model/_sag.py:350: ConvergenceWarning: The max_iter was reached which means the coef_ did not converge\n",
      "  warnings.warn(\n",
      "/home/anderson/.local/lib/python3.10/site-packages/sklearn/linear_model/_sag.py:350: ConvergenceWarning: The max_iter was reached which means the coef_ did not converge\n",
      "  warnings.warn(\n"
     ]
    },
    {
     "name": "stdout",
     "output_type": "stream",
     "text": [
      "Best Hyperparameters: {'C': 1.0, 'max_iter': 100, 'solver': 'saga'}\n",
      "Accuracy: 0.7252515417072379\n",
      "Precision: 0.1890179514255544\n",
      "Recall: 0.6951456310679611\n",
      "F1-score: 0.29721876297218763\n"
     ]
    },
    {
     "name": "stderr",
     "output_type": "stream",
     "text": [
      "/home/anderson/.local/lib/python3.10/site-packages/sklearn/linear_model/_sag.py:350: ConvergenceWarning: The max_iter was reached which means the coef_ did not converge\n",
      "  warnings.warn(\n"
     ]
    },
    {
     "data": {
      "text/plain": "<Figure size 640x480 with 1 Axes>",
      "image/png": "[encoded data removed]"
     },
     "metadata": {},
     "output_type": "display_data"
    }
   ],
   "source": [
    "from sklearn.linear_model import LogisticRegression\n",
    "from sklearn.model_selection import GridSearchCV\n",
    "from sklearn.metrics import make_scorer\n",
    "\n",
    "\n",
    "model = LogisticRegression(class_weight='balanced')\n",
    "\n",
    "param_grid = {\n",
    "    'C': [0.1, 1.0, 10.0],\n",
    "    'solver': ['liblinear', 'saga'],\n",
    "    'max_iter': [100, 500, 1000]\n",
    "}\n",
    "\n",
    "scoring = make_scorer(f1_score)\n",
    "\n",
    "grid_search = GridSearchCV(model, param_grid, cv=5, scoring=scoring, n_jobs=-1)\n",
    "\n",
    "grid_search.fit(X_train, y_train)\n",
    "\n",
    "best_model = grid_search.best_estimator_\n",
    "best_params = grid_search.best_params_\n",
    "\n",
    "y_pred = best_model.predict(X_test)\n",
    "\n",
    "accuracy = accuracy_score(y_test, y_pred)\n",
    "precision = precision_score(y_test, y_pred)\n",
    "recall = recall_score(y_test, y_pred)\n",
    "f1 = f1_score(y_test, y_pred)\n",
    "\n",
    "print(\"Best Hyperparameters:\", best_params)\n",
    "print(\"Accuracy:\", accuracy)\n",
    "print(\"Precision:\", precision)\n",
    "print(\"Recall:\", recall)\n",
    "print(\"F1-score:\", f1)\n",
    "\n",
    "cm = confusion_matrix(y_test, y_pred)\n",
    "\n",
    "fig, ax = plt.subplots()\n",
    "sns.heatmap(cm, annot=True, fmt=\"d\", cmap=\"Blues\", cbar=False, ax=ax)\n",
    "\n",
    "ax.set_xlabel('Predicted')\n",
    "ax.set_ylabel('Actual')\n",
    "ax.set_title('Confusion Matrix')\n",
    "ax.xaxis.set_ticklabels(['No', 'Yes'])\n",
    "ax.yaxis.set_ticklabels(['No', 'Yes'])\n",
    "plt.show()"
   ],
   "metadata": {
    "collapsed": false,
    "ExecuteTime": {
     "end_time": "2023-06-20T18:47:38.206343461Z",
     "start_time": "2023-06-20T18:47:25.418917835Z"
    }
   }
  },
  {
   "cell_type": "code",
   "execution_count": null,
   "outputs": [],
   "source": [
    "from sklearn.linear_model import LogisticRegression\n",
    "from sklearn.model_selection import GridSearchCV\n",
    "from sklearn.metrics import make_scorer\n",
    "\n",
    "\n",
    "model = LogisticRegression(class_weight='balanced')\n",
    "\n",
    "param_grid = {\n",
    "    'C': [0.1, 1.0, 10.0],\n",
    "    'solver': ['liblinear', 'saga'],\n",
    "    'max_iter': [100, 500, 1000]\n",
    "}\n",
    "\n",
    "scoring = make_scorer(f1_score)\n",
    "\n",
    "grid_search = GridSearchCV(model, param_grid, cv=5, scoring=scoring, n_jobs=-1)\n",
    "\n",
    "grid_search.fit(X_train, y_train)\n",
    "\n",
    "best_model = grid_search.best_estimator_\n",
    "best_params = grid_search.best_params_\n",
    "\n",
    "y_pred = best_model.predict(X_test)\n",
    "\n",
    "accuracy = accuracy_score(y_test, y_pred)\n",
    "precision = precision_score(y_test, y_pred)\n",
    "recall = recall_score(y_test, y_pred)\n",
    "f1 = f1_score(y_test, y_pred)\n",
    "\n",
    "print(\"Best Hyperparameters:\", best_params)\n",
    "print(\"Accuracy:\", accuracy)\n",
    "print(\"Precision:\", precision)\n",
    "print(\"Recall:\", recall)\n",
    "print(\"F1-score:\", f1)\n",
    "\n",
    "cm = confusion_matrix(y_test, y_pred)\n",
    "\n",
    "fig, ax = plt.subplots()\n",
    "sns.heatmap(cm, annot=True, fmt=\"d\", cmap=\"Blues\", cbar=False, ax=ax)\n",
    "\n",
    "ax.set_xlabel('Predicted')\n",
    "ax.set_ylabel('Actual')\n",
    "ax.set_title('Confusion Matrix')\n",
    "ax.xaxis.set_ticklabels(['No', 'Yes'])\n",
    "ax.yaxis.set_ticklabels(['No', 'Yes'])\n",
    "plt.show()"
   ],
   "metadata": {
    "collapsed": false
   }
  },
  {
   "cell_type": "code",
   "execution_count": null,
   "outputs": [],
   "source": [
    "feature_names = X.columns\n",
    "\n",
    "# Create a dataframe to store the feature importance\n",
    "importance_table = pd.DataFrame({'Feature': feature_names, 'Importance': best_model.coef_[0]})\n",
    "\n",
    "# Sort the table by importance in descending order\n",
    "importance_table = importance_table.sort_values(by='Importance', ascending=False)\n",
    "\n",
    "# Print the feature importance table\n",
    "print(importance_table)"
   ],
   "metadata": {
    "collapsed": false
   }
  },
  {
   "cell_type": "markdown",
   "source": [
    "### Rede Neural"
   ],
   "metadata": {
    "collapsed": false
   }
  },
  {
   "cell_type": "code",
   "execution_count": null,
   "outputs": [],
   "source": [
    "import torch\n",
    "import torch.nn as nn\n",
    "import torch.optim as optim\n",
    "from torch.utils.data import DataLoader, TensorDataset\n",
    "\n",
    "\n",
    "train_X, valid_X, train_y, valid_y = train_test_split(X_train, y_train, test_size=0.2, random_state=42)\n",
    "\n",
    "train_X_tensor = torch.tensor(train_X.values, dtype=torch.float32)\n",
    "train_y_tensor = torch.tensor(train_y.values, dtype=torch.float32)\n",
    "valid_X_tensor = torch.tensor(valid_X.values, dtype=torch.float32)\n",
    "valid_y_tensor = torch.tensor(valid_y.values, dtype=torch.float32)\n",
    "\n",
    "dataset_train = TensorDataset(train_X_tensor, train_y_tensor)\n",
    "dataset_valid = TensorDataset(valid_X_tensor, valid_y_tensor)\n",
    "\n",
    "train_loader = DataLoader(dataset_train, batch_size=32, shuffle=True)\n",
    "valid_loader = DataLoader(dataset_valid, batch_size=32, shuffle=False)\n"
   ],
   "metadata": {
    "collapsed": false
   }
  },
  {
   "cell_type": "code",
   "execution_count": null,
   "outputs": [],
   "source": [
    "import torch\n",
    "import torch.nn as nn\n",
    "import torch.optim as optim\n",
    "\n",
    "input_dim = train_X_tensor.shape[1]\n",
    "\n",
    "class NeuralNetwork(nn.Module):\n",
    "    def __init__(self, input_dim):\n",
    "        super(NeuralNetwork, self).__init__()\n",
    "        self.fc1 = nn.Linear(input_dim, 16)\n",
    "        self.relu1 = nn.ReLU()\n",
    "        self.fc2 = nn.Linear(16, 2)\n",
    "\n",
    "\n",
    "    def forward(self, x):\n",
    "        x = self.fc1(x)\n",
    "        x = self.relu1(x)\n",
    "        x = self.fc2(x)\n",
    "        return x\n",
    "\n",
    "# Define the loss function\n",
    "loss_fn = nn.CrossEntropyLoss()\n",
    "\n",
    "# Define the neural network model\n",
    "input_dim = train_X_tensor.shape[1]\n",
    "model = NeuralNetwork(input_dim)\n",
    "\n",
    "# Define the optimizer\n",
    "optimizer = optim.Adam(model.parameters(), lr=0.001)\n",
    "\n",
    "# Training loop\n",
    "num_epochs = 10000\n",
    "train_loss_history = []\n",
    "val_loss_history = []\n",
    "\n",
    "for epoch in range(num_epochs):\n",
    "    model.train()\n",
    "    optimizer.zero_grad()\n",
    "\n",
    "    # Forward pass\n",
    "    train_outputs = model(train_X_tensor)\n",
    "    train_loss = loss_fn(train_outputs, train_y_tensor.long())\n",
    "\n",
    "    # Backward pass and optimization\n",
    "    train_loss.backward()\n",
    "    optimizer.step()\n",
    "\n",
    "    # Store training loss history\n",
    "    train_loss_history.append(train_loss.item())\n",
    "\n",
    "    # Validation\n",
    "    model.eval()\n",
    "    with torch.no_grad():\n",
    "        val_outputs = model(valid_X_tensor)\n",
    "        val_loss = loss_fn(val_outputs, valid_y_tensor.long())\n",
    "\n",
    "    # Store validation loss history\n",
    "    val_loss_history.append(val_loss.item())\n",
    "\n",
    "    # Print the loss for every epoch\n",
    "    print(f\"Epoch {epoch + 1}/{num_epochs}, Train Loss: {train_loss.item()}, Val Loss: {val_loss.item()}\")"
   ],
   "metadata": {
    "collapsed": false
   }
  },
  {
   "cell_type": "code",
   "execution_count": null,
   "outputs": [],
   "source": [
    "import matplotlib.pyplot as plt\n",
    "\n",
    "plt.figure(figsize=(8, 6))\n",
    "\n",
    "# Filter out None and NaN values from train_loss_history and train_accuracy_history\n",
    "filtered_train_loss_history = [loss for loss in train_loss_history if loss is not None and not np.isnan(loss)]\n",
    "filtered_valid_loss_history = [loss for loss in val_loss_history if loss is not None and not np.isnan(loss)]\n",
    "\n",
    "# Generate the epochs for the x-axis\n",
    "epochs = range(1, len(filtered_train_loss_history) + 1)\n",
    "\n",
    "plt.figure(figsize=(8, 6))\n",
    "plt.plot(range(1, num_epochs + 1), train_loss_history, label='Train Loss', color='blue')\n",
    "plt.plot(range(1, num_epochs + 1), val_loss_history, label='Valid Loss', color='red')\n",
    "plt.xlabel('Epochs')\n",
    "plt.ylabel('Loss')\n",
    "plt.title('Learning Curve')\n",
    "plt.legend(loc='best')\n",
    "plt.grid(True)\n",
    "plt.show()"
   ],
   "metadata": {
    "collapsed": false
   }
  },
  {
   "cell_type": "code",
   "execution_count": null,
   "outputs": [],
   "source": [
    "from sklearn.metrics import accuracy_score, f1_score, confusion_matrix\n",
    "test_X_tensor = torch.tensor(X_test.values, dtype=torch.float32)\n",
    "test_y_tensor = torch.tensor(y_test.values, dtype=torch.float32)\n",
    "# Evaluation on test data\n",
    "model.eval()\n",
    "with torch.no_grad():\n",
    "    test_outputs = model(test_X_tensor)\n",
    "    test_predictions = torch.argmax(test_outputs, dim=1)\n",
    "    test_predictions = test_predictions.detach().cpu().numpy()\n",
    "\n",
    "# Convert tensor to numpy arrays\n",
    "test_y_numpy = test_y_tensor.detach().cpu().numpy()\n",
    "\n",
    "# Calculate accuracy\n",
    "accuracy = accuracy_score(test_y_numpy, test_predictions)\n",
    "\n",
    "# Calculate F1 score\n",
    "f1 = f1_score(test_y_numpy, test_predictions)\n",
    "\n",
    "# Calculate confusion matrix\n",
    "cm = confusion_matrix(test_y_numpy, test_predictions)\n",
    "\n",
    "print(\"Accuracy:\", accuracy)\n",
    "print(\"F1 Score:\", f1)\n",
    "print(\"Confusion Matrix:\")\n",
    "print(cm)"
   ],
   "metadata": {
    "collapsed": false
   }
  }
 ],
 "metadata": {
  "kernelspec": {
   "display_name": "Python 3",
   "language": "python",
   "name": "python3"
  },
  "language_info": {
   "codemirror_mode": {
    "name": "ipython",
    "version": 2
   },
   "file_extension": ".py",
   "mimetype": "text/x-python",
   "name": "python",
   "nbconvert_exporter": "python",
   "pygments_lexer": "ipython2",
   "version": "2.7.6"
  }
 },
 "nbformat": 4,
 "nbformat_minor": 0
}
