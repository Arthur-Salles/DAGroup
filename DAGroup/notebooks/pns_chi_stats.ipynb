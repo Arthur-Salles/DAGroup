{
 "cells": [
  {
   "cell_type": "code",
   "execution_count": 8,
   "metadata": {
    "collapsed": true,
    "ExecuteTime": {
     "end_time": "2023-06-24T15:52:06.356078205Z",
     "start_time": "2023-06-24T15:52:02.272658717Z"
    }
   },
   "outputs": [
    {
     "name": "stdout",
     "output_type": "stream",
     "text": [
      "The autoreload extension is already loaded. To reload it, use:\n",
      "  %reload_ext autoreload\n"
     ]
    },
    {
     "name": "stderr",
     "output_type": "stream",
     "text": [
      "/tmp/ipykernel_32585/3843809049.py:39: SettingWithCopyWarning: \n",
      "A value is trying to be set on a copy of a slice from a DataFrame.\n",
      "Try using .loc[row_indexer,col_indexer] = value instead\n",
      "\n",
      "See the caveats in the documentation: https://pandas.pydata.org/pandas-docs/stable/user_guide/indexing.html#returning-a-view-versus-a-copy\n",
      "  df_innatura['qst_innatura'] = (df_innatura == 1.0).sum(axis=1)\n",
      "/tmp/ipykernel_32585/3843809049.py:43: SettingWithCopyWarning: \n",
      "A value is trying to be set on a copy of a slice from a DataFrame.\n",
      "Try using .loc[row_indexer,col_indexer] = value instead\n",
      "\n",
      "See the caveats in the documentation: https://pandas.pydata.org/pandas-docs/stable/user_guide/indexing.html#returning-a-view-versus-a-copy\n",
      "  df_upf['qst_upf'] = (df_upf == 1.0).sum(axis=1)\n"
     ]
    },
    {
     "name": "stdout",
     "output_type": "stream",
     "text": [
      "Número de dados totais:  64664\n",
      "Número de dados filtrados:  49843\n",
      "Porcentagem de dados faltantes: 22.92\n",
      "\n",
      "Número de dados totais (treino):  45264\n",
      "Número de dados filtrados (treino):  34932\n",
      "Porcentagem de dados faltantes (treino): 22.83\n",
      "\n",
      "Número de dados totais (teste):  19400\n",
      "Número de dados filtrados (teste):  14911\n",
      "Porcentagem de dados faltantes (teste): 23.14\n"
     ]
    }
   ],
   "source": [
    "from sklearn.model_selection import train_test_split\n",
    "%load_ext autoreload\n",
    "%autoreload 2\n",
    "import sys\n",
    "sys.path.insert(0, '../src')\n",
    "\n",
    "from pathlib import Path\n",
    "import pandas as pd\n",
    "from zipfile import ZipFile\n",
    "import numpy as np\n",
    "import matplotlib.pyplot as plt\n",
    "import copy\n",
    "\n",
    "\n",
    "PNS_DATA = Path('../data/processed/PNS_2019/all.zip').resolve()\n",
    "zip_pns = ZipFile(PNS_DATA)\n",
    "df = pd.read_csv(zip_pns.open(zip_pns.namelist()[0]), sep=\",\", low_memory=False)\n",
    "\n",
    "PATH_GEN_DATA = Path('generated_data/pns_data_models').resolve()\n",
    "\n",
    "def process_df(df_i, remove_na=True):\n",
    "    df_i = copy.deepcopy(df_i)\n",
    "    if remove_na:\n",
    "        df_i = df_i.dropna()\n",
    "    return df_i.drop(['r_norte', 'r_nordeste', 'r_sudeste', 'r_sul', 'r_centro_oeste'], axis=1)\n",
    "\n",
    "\n",
    "\n",
    "# Target\n",
    "df['depression'] = np.where(df['phq9_total'].isna(), np.nan, np.where(df['phq9_total'] >= 10, 1, 0))\n",
    "df = df.dropna(subset=['depression'])\n",
    "df['depression'].value_counts()\n",
    "\n",
    "\n",
    "\n",
    "# Alimentos in natura ou minimamente processado\n",
    "innatura = ['P00601','P00602', 'P00603', 'P00604', 'P00605', 'P00607', 'P00608', 'P00609', 'P00610', 'P00611', 'P00612', 'P00613']\n",
    "df_innatura = df[innatura]\n",
    "df_innatura['qst_innatura'] = (df_innatura == 1.0).sum(axis=1)\n",
    "# Alimentos ultraprocessados\n",
    "ultraprocessados = ['P00614', 'P00615', 'P00616', 'P00617', 'P00618', 'P00619', 'P00620', 'P00621', 'P00622', 'P00623']\n",
    "df_upf = df[ultraprocessados]\n",
    "df_upf['qst_upf'] = (df_upf == 1.0).sum(axis=1)\n",
    "\n",
    "# A literatura não usa a porcentagem de ultraprocessados do prato como análise. O artigo 'Food consumption and depression among Brazilian adults: results from the Brazilian National Health Survey, 2013'\n",
    "# Usa como base o número de perguntas respondidas 'Sim' nos alimentos ultraprocessados das ultimas 24hrs\n",
    "df['per_innatura'] = df_innatura['qst_innatura'] / (df_innatura['qst_innatura'] + df_upf['qst_upf']) * 100\n",
    "df['per_upf'] = df_upf['qst_upf'] / (df_innatura['qst_innatura'] + df_upf['qst_upf']) * 100\n",
    "df['qst_upf'] = df_upf['qst_upf'] # Baseado no artigo\n",
    "\n",
    "def classify_upf(row):\n",
    "    value = row['qst_upf']\n",
    "\n",
    "    if  0 <= value < 2:\n",
    "        return 1\n",
    "    elif value < 4:\n",
    "        return 2\n",
    "    elif value < 6:\n",
    "        return 3\n",
    "    elif value < 8:\n",
    "        return 4\n",
    "    elif value <= 10:\n",
    "        return 5\n",
    "\n",
    "    return np.nan # questionario não respondido\n",
    "\n",
    "df['upf_severity'] = df.apply(classify_upf, axis=1)\n",
    "\n",
    "\n",
    "def count_imc(row):\n",
    "    height = row['altura']\n",
    "    weight = row['peso']\n",
    "\n",
    "    imc = weight/np.square(height/100)   # Peso está em kg e altura em cm, no calculo do imc é kg/m^2\n",
    "    return imc\n",
    "\n",
    "df['imc'] = df.apply(count_imc, axis=1)\n",
    "\n",
    "\n",
    "def classify_imc(row):\n",
    "    value = row['imc']\n",
    "\n",
    "    if  0 <= value < 18.5:\n",
    "        return 1  # Baixo peso\n",
    "    elif value < 24.9:\n",
    "        return 2 # Eutrofia/peso adequado\n",
    "    elif value < 29.9:\n",
    "        return 3   # Sobrepeso\n",
    "    elif value >= 30:\n",
    "        return 4  # Obesidade\n",
    "\n",
    "    return np.nan # questionario não respondido\n",
    "\n",
    "df['class_imc'] = df.apply(classify_imc, axis=1)\n",
    "\n",
    "\n",
    "def classify_idade(row):\n",
    "    value = row['idade']\n",
    "    if  18 <= value <= 29:\n",
    "        return 1\n",
    "    elif value <= 39:\n",
    "        return 2\n",
    "    elif value <= 49:\n",
    "        return 3\n",
    "    elif value <= 59:\n",
    "        return 4\n",
    "\n",
    "    return np.nan\n",
    "\n",
    "df['class_idade'] = df.apply(classify_idade, axis=1)\n",
    "\n",
    "\n",
    "# Essa variável foi criada a partir de um índice utilizado pela OMS. Na literatura, usam a pergunta 'P034' relacionada à prática de exercícios físicos nos ultimos 3 meses\n",
    "df_activity = pd.DataFrame()\n",
    "df_activity['minutes_per_week'] = df['P03702'] * df['P035']\n",
    "\n",
    "vigorous_activities = [3.0, 4.0, 5.0, 6.0, 12.0, 13.0, 15.0]\n",
    "moderated_activities = [1.0, 2.0, 7.0, 8.0, 9.0, 10.0, 11.0, 14.0, 16.0, 17.0]\n",
    "df_activity['time_vigorous'] = df_activity['minutes_per_week'].loc[df['P036'].isin(vigorous_activities)]\n",
    "df_activity['time_moderated'] = df_activity['minutes_per_week'].loc[df['P036'].isin(moderated_activities)]\n",
    "\n",
    "df_activity['activity_class'] = 0\n",
    "df_activity.loc[df_activity['minutes_per_week'].isna(), 'activity_class'] = np.nan\n",
    "df_activity.loc[(df_activity['time_vigorous'] >= 75) | (df_activity['time_moderated'] >= 150), 'activity_class'] = 1\n",
    "\n",
    "df['activity_class'] = df_activity['activity_class']\n",
    "df['exerc_fisico'] = np.where(df['P034'].isin([1.0]), 1, np.where(df['P034'] == 2.0, 0, np.nan))\n",
    "df['tabagismo'] = np.where(df['P050'].isin([1.0, 2.0]), 1, np.where(df['P050'] == 3.0, 0, np.nan))\n",
    "\n",
    "# Na literatura eles usam outra variável para analisar o consumo alcoolico\n",
    "# df['cons_alcool'] = np.where(df['P02801'] >= 1, 1, 0)\n",
    "# df['cons_alcool'] = np.where(df['P02801'].isna(), np.nan, df['cons_alcool'])\n",
    "\n",
    "# Olhar artigo 'Food consumption and depression among Brazilian adults: results from the Brazilian National Health Survey, 2013'\n",
    "df['cons_alcool'] = np.where(df['P027'].isin([2.0, 3.0]), 1, np.where(df['P027'] == 1.0, 0, np.nan))\n",
    "\n",
    "df = df[df['P005'] != 1.0] #Retirando as grávidas da análise\n",
    "\n",
    "df['obesidade'] = np.where(df['class_imc'].isna(), np.nan, np.where(df['class_imc'] >= 4, 1, 0))\n",
    "\n",
    "# Limitação da análise por idades que se adequam ao PHQ9 baseado no artigo 'Food consumption and depression among Brazilian adults: results from the Brazilian National Health Survey, 2013'\n",
    "df = df[(df['idade'] >= 18) & (df['idade'] <= 59)]\n",
    "\n",
    "\n",
    "regiao_mapping = {\n",
    "    'r_norte': [11, 12, 13, 14, 15, 16, 17],\n",
    "    'r_nordeste': [21, 22, 23, 24, 25, 26, 27, 28, 29],\n",
    "    'r_sudeste': [31, 32, 33, 35],\n",
    "    'r_sul': [41, 42, 43],\n",
    "    'r_centro_oeste': [50, 51, 52, 53]\n",
    "}\n",
    "\n",
    "for regiao, estados in regiao_mapping.items():\n",
    "    df[regiao] = df['uf'].apply(lambda x: int(x in estados))\n",
    "\n",
    "\n",
    "df['class_renda'] = np.where(df['renda_pc'].isin([4.0, 5.0, 6.0, 7.0]), 1, np.where(df['renda_pc'].isin([1.0, 2.0, 3.0]), 0, np.nan))\n",
    "\n",
    "\n",
    "\n",
    "\n",
    "\n",
    "df_total = pd.DataFrame()\n",
    "\n",
    "df_total['exerc_fisico'] = df['exerc_fisico']\n",
    "df_total['tabagismo'] = df['tabagismo']\n",
    "df_total['cons_alcool'] = df['cons_alcool']\n",
    "df_total['cancer'] = df['Q120']\n",
    "df_total['hipertensao'] = df['Q00201']\n",
    "df_total['diabetes'] = df['Q03001']\n",
    "df_total['cardiovascular'] = df['Q06306']\n",
    "df_total['hipercolesterolemia'] = df['Q060']\n",
    "df_total['avc'] = df['Q068']\n",
    "df_total['artrite'] = df['Q079']\n",
    "df_total['obesidade'] = df['obesidade']\n",
    "df_total['depression'] = df['depression']\n",
    "df_total['sexo'] = df['sexo']\n",
    "df_total['estado_civil'] = df['vive_conjugue']\n",
    "df_total = df_total.replace(2.0, 0.0)\n",
    "df_total['class_renda'] = df['class_renda']\n",
    "\n",
    "df_total['r_norte'] = df['r_norte']\n",
    "df_total['r_nordeste'] = df['r_nordeste']\n",
    "df_total['r_sudeste'] = df['r_sudeste']\n",
    "df_total['r_sul'] = df['r_sul']\n",
    "df_total['r_centro_oeste'] = df['r_centro_oeste']\n",
    "\n",
    "df_total['escolaridade'] = df['escolaridade_agregada']\n",
    "df_total['upf'] = df['qst_upf']\n",
    "df_total['class_idade'] = df['class_idade']\n",
    "\n",
    "df_total['perc_saude'] = df['N00101'] # Variável não utilizada na literatura, meio duvidosa\n",
    "\n",
    "df_train_total, df_test_total = train_test_split(df_total, test_size=0.3, random_state=42)\n",
    "\n",
    "df_total_t = copy.deepcopy(df_total)\n",
    "\n",
    "print(\"Número de dados totais: \", len(df_total_t))\n",
    "print(\"Número de dados filtrados: \", len(df_total_t.dropna()))\n",
    "print(\"Porcentagem de dados faltantes: {:.2f}\".format(100*(1 - (len(df_total_t.dropna()) / len(df_total_t)))))\n",
    "\n",
    "print()\n",
    "\n",
    "df_total_t = copy.deepcopy(df_train_total)\n",
    "print(\"Número de dados totais (treino): \", len(df_total_t))\n",
    "print(\"Número de dados filtrados (treino): \", len(df_total_t.dropna()))\n",
    "print(\"Porcentagem de dados faltantes (treino): {:.2f}\".format(100*(1 - (len(df_total_t.dropna()) / len(df_total_t)))))\n",
    "\n",
    "print()\n",
    "\n",
    "df_total_t = copy.deepcopy(df_test_total)\n",
    "print(\"Número de dados totais (teste): \", len(df_total_t))\n",
    "print(\"Número de dados filtrados (teste): \", len(df_total_t.dropna()))\n",
    "print(\"Porcentagem de dados faltantes (teste): {:.2f}\".format(100*(1 - (len(df_total_t.dropna()) / len(df_total_t)))))"
   ]
  },
  {
   "cell_type": "code",
   "execution_count": 10,
   "outputs": [
    {
     "data": {
      "text/markdown": "### exerc_fisico"
     },
     "metadata": {},
     "output_type": "display_data"
    },
    {
     "data": {
      "text/plain": "depression      0.0   1.0\nexerc_fisico             \n0.0           32263  4451\n1.0           25553  2397",
      "text/html": "<div>\n<style scoped>\n    .dataframe tbody tr th:only-of-type {\n        vertical-align: middle;\n    }\n\n    .dataframe tbody tr th {\n        vertical-align: top;\n    }\n\n    .dataframe thead th {\n        text-align: right;\n    }\n</style>\n<table border=\"1\" class=\"dataframe\">\n  <thead>\n    <tr style=\"text-align: right;\">\n      <th>depression</th>\n      <th>0.0</th>\n      <th>1.0</th>\n    </tr>\n    <tr>\n      <th>exerc_fisico</th>\n      <th></th>\n      <th></th>\n    </tr>\n  </thead>\n  <tbody>\n    <tr>\n      <th>0.0</th>\n      <td>32263</td>\n      <td>4451</td>\n    </tr>\n    <tr>\n      <th>1.0</th>\n      <td>25553</td>\n      <td>2397</td>\n    </tr>\n  </tbody>\n</table>\n</div>"
     },
     "metadata": {},
     "output_type": "display_data"
    },
    {
     "name": "stdout",
     "output_type": "stream",
     "text": [
      "Normalizado pelas linhas: \n"
     ]
    },
    {
     "data": {
      "text/plain": "depression          0.0        1.0\nexerc_fisico                      \n0.0           87.876559  12.123441\n1.0           91.423971   8.576029",
      "text/html": "<div>\n<style scoped>\n    .dataframe tbody tr th:only-of-type {\n        vertical-align: middle;\n    }\n\n    .dataframe tbody tr th {\n        vertical-align: top;\n    }\n\n    .dataframe thead th {\n        text-align: right;\n    }\n</style>\n<table border=\"1\" class=\"dataframe\">\n  <thead>\n    <tr style=\"text-align: right;\">\n      <th>depression</th>\n      <th>0.0</th>\n      <th>1.0</th>\n    </tr>\n    <tr>\n      <th>exerc_fisico</th>\n      <th></th>\n      <th></th>\n    </tr>\n  </thead>\n  <tbody>\n    <tr>\n      <th>0.0</th>\n      <td>87.876559</td>\n      <td>12.123441</td>\n    </tr>\n    <tr>\n      <th>1.0</th>\n      <td>91.423971</td>\n      <td>8.576029</td>\n    </tr>\n  </tbody>\n</table>\n</div>"
     },
     "metadata": {},
     "output_type": "display_data"
    },
    {
     "name": "stdout",
     "output_type": "stream",
     "text": [
      "\n",
      "Normalizado pelas colunas: \n"
     ]
    },
    {
     "data": {
      "text/plain": "depression          0.0        1.0\nexerc_fisico                      \n0.0           55.802892  64.997079\n1.0           44.197108  35.002921",
      "text/html": "<div>\n<style scoped>\n    .dataframe tbody tr th:only-of-type {\n        vertical-align: middle;\n    }\n\n    .dataframe tbody tr th {\n        vertical-align: top;\n    }\n\n    .dataframe thead th {\n        text-align: right;\n    }\n</style>\n<table border=\"1\" class=\"dataframe\">\n  <thead>\n    <tr style=\"text-align: right;\">\n      <th>depression</th>\n      <th>0.0</th>\n      <th>1.0</th>\n    </tr>\n    <tr>\n      <th>exerc_fisico</th>\n      <th></th>\n      <th></th>\n    </tr>\n  </thead>\n  <tbody>\n    <tr>\n      <th>0.0</th>\n      <td>55.802892</td>\n      <td>64.997079</td>\n    </tr>\n    <tr>\n      <th>1.0</th>\n      <td>44.197108</td>\n      <td>35.002921</td>\n    </tr>\n  </tbody>\n</table>\n</div>"
     },
     "metadata": {},
     "output_type": "display_data"
    },
    {
     "name": "stdout",
     "output_type": "stream",
     "text": [
      "chi2: 210.9053304888035, p_value: 8.716664502188814e-48, dof: 1\n",
      "-------------------------------------------------------------\n",
      "\n"
     ]
    },
    {
     "data": {
      "text/markdown": "### tabagismo"
     },
     "metadata": {},
     "output_type": "display_data"
    },
    {
     "data": {
      "text/plain": "depression    0.0   1.0\ntabagismo              \n0.0         50525  5644\n1.0          7291  1204",
      "text/html": "<div>\n<style scoped>\n    .dataframe tbody tr th:only-of-type {\n        vertical-align: middle;\n    }\n\n    .dataframe tbody tr th {\n        vertical-align: top;\n    }\n\n    .dataframe thead th {\n        text-align: right;\n    }\n</style>\n<table border=\"1\" class=\"dataframe\">\n  <thead>\n    <tr style=\"text-align: right;\">\n      <th>depression</th>\n      <th>0.0</th>\n      <th>1.0</th>\n    </tr>\n    <tr>\n      <th>tabagismo</th>\n      <th></th>\n      <th></th>\n    </tr>\n  </thead>\n  <tbody>\n    <tr>\n      <th>0.0</th>\n      <td>50525</td>\n      <td>5644</td>\n    </tr>\n    <tr>\n      <th>1.0</th>\n      <td>7291</td>\n      <td>1204</td>\n    </tr>\n  </tbody>\n</table>\n</div>"
     },
     "metadata": {},
     "output_type": "display_data"
    },
    {
     "name": "stdout",
     "output_type": "stream",
     "text": [
      "Normalizado pelas linhas: \n"
     ]
    },
    {
     "data": {
      "text/plain": "depression        0.0        1.0\ntabagismo                       \n0.0         89.951753  10.048247\n1.0         85.826957  14.173043",
      "text/html": "<div>\n<style scoped>\n    .dataframe tbody tr th:only-of-type {\n        vertical-align: middle;\n    }\n\n    .dataframe tbody tr th {\n        vertical-align: top;\n    }\n\n    .dataframe thead th {\n        text-align: right;\n    }\n</style>\n<table border=\"1\" class=\"dataframe\">\n  <thead>\n    <tr style=\"text-align: right;\">\n      <th>depression</th>\n      <th>0.0</th>\n      <th>1.0</th>\n    </tr>\n    <tr>\n      <th>tabagismo</th>\n      <th></th>\n      <th></th>\n    </tr>\n  </thead>\n  <tbody>\n    <tr>\n      <th>0.0</th>\n      <td>89.951753</td>\n      <td>10.048247</td>\n    </tr>\n    <tr>\n      <th>1.0</th>\n      <td>85.826957</td>\n      <td>14.173043</td>\n    </tr>\n  </tbody>\n</table>\n</div>"
     },
     "metadata": {},
     "output_type": "display_data"
    },
    {
     "name": "stdout",
     "output_type": "stream",
     "text": [
      "\n",
      "Normalizado pelas colunas: \n"
     ]
    },
    {
     "data": {
      "text/plain": "depression        0.0        1.0\ntabagismo                       \n0.0         87.389304  82.418224\n1.0         12.610696  17.581776",
      "text/html": "<div>\n<style scoped>\n    .dataframe tbody tr th:only-of-type {\n        vertical-align: middle;\n    }\n\n    .dataframe tbody tr th {\n        vertical-align: top;\n    }\n\n    .dataframe thead th {\n        text-align: right;\n    }\n</style>\n<table border=\"1\" class=\"dataframe\">\n  <thead>\n    <tr style=\"text-align: right;\">\n      <th>depression</th>\n      <th>0.0</th>\n      <th>1.0</th>\n    </tr>\n    <tr>\n      <th>tabagismo</th>\n      <th></th>\n      <th></th>\n    </tr>\n  </thead>\n  <tbody>\n    <tr>\n      <th>0.0</th>\n      <td>87.389304</td>\n      <td>82.418224</td>\n    </tr>\n    <tr>\n      <th>1.0</th>\n      <td>12.610696</td>\n      <td>17.581776</td>\n    </tr>\n  </tbody>\n</table>\n</div>"
     },
     "metadata": {},
     "output_type": "display_data"
    },
    {
     "name": "stdout",
     "output_type": "stream",
     "text": [
      "chi2: 132.5915159897349, p_value: 1.110668530662876e-30, dof: 1\n",
      "-------------------------------------------------------------\n",
      "\n"
     ]
    },
    {
     "data": {
      "text/markdown": "### cons_alcool"
     },
     "metadata": {},
     "output_type": "display_data"
    },
    {
     "data": {
      "text/plain": "depression     0.0   1.0\ncons_alcool             \n0.0          31537  4104\n1.0          26279  2744",
      "text/html": "<div>\n<style scoped>\n    .dataframe tbody tr th:only-of-type {\n        vertical-align: middle;\n    }\n\n    .dataframe tbody tr th {\n        vertical-align: top;\n    }\n\n    .dataframe thead th {\n        text-align: right;\n    }\n</style>\n<table border=\"1\" class=\"dataframe\">\n  <thead>\n    <tr style=\"text-align: right;\">\n      <th>depression</th>\n      <th>0.0</th>\n      <th>1.0</th>\n    </tr>\n    <tr>\n      <th>cons_alcool</th>\n      <th></th>\n      <th></th>\n    </tr>\n  </thead>\n  <tbody>\n    <tr>\n      <th>0.0</th>\n      <td>31537</td>\n      <td>4104</td>\n    </tr>\n    <tr>\n      <th>1.0</th>\n      <td>26279</td>\n      <td>2744</td>\n    </tr>\n  </tbody>\n</table>\n</div>"
     },
     "metadata": {},
     "output_type": "display_data"
    },
    {
     "name": "stdout",
     "output_type": "stream",
     "text": [
      "Normalizado pelas linhas: \n"
     ]
    },
    {
     "data": {
      "text/plain": "depression         0.0        1.0\ncons_alcool                      \n0.0          88.485172  11.514828\n1.0          90.545429   9.454571",
      "text/html": "<div>\n<style scoped>\n    .dataframe tbody tr th:only-of-type {\n        vertical-align: middle;\n    }\n\n    .dataframe tbody tr th {\n        vertical-align: top;\n    }\n\n    .dataframe thead th {\n        text-align: right;\n    }\n</style>\n<table border=\"1\" class=\"dataframe\">\n  <thead>\n    <tr style=\"text-align: right;\">\n      <th>depression</th>\n      <th>0.0</th>\n      <th>1.0</th>\n    </tr>\n    <tr>\n      <th>cons_alcool</th>\n      <th></th>\n      <th></th>\n    </tr>\n  </thead>\n  <tbody>\n    <tr>\n      <th>0.0</th>\n      <td>88.485172</td>\n      <td>11.514828</td>\n    </tr>\n    <tr>\n      <th>1.0</th>\n      <td>90.545429</td>\n      <td>9.454571</td>\n    </tr>\n  </tbody>\n</table>\n</div>"
     },
     "metadata": {},
     "output_type": "display_data"
    },
    {
     "name": "stdout",
     "output_type": "stream",
     "text": [
      "\n",
      "Normalizado pelas colunas: \n"
     ]
    },
    {
     "data": {
      "text/plain": "depression         0.0        1.0\ncons_alcool                      \n0.0          54.547184  59.929907\n1.0          45.452816  40.070093",
      "text/html": "<div>\n<style scoped>\n    .dataframe tbody tr th:only-of-type {\n        vertical-align: middle;\n    }\n\n    .dataframe tbody tr th {\n        vertical-align: top;\n    }\n\n    .dataframe thead th {\n        text-align: right;\n    }\n</style>\n<table border=\"1\" class=\"dataframe\">\n  <thead>\n    <tr style=\"text-align: right;\">\n      <th>depression</th>\n      <th>0.0</th>\n      <th>1.0</th>\n    </tr>\n    <tr>\n      <th>cons_alcool</th>\n      <th></th>\n      <th></th>\n    </tr>\n  </thead>\n  <tbody>\n    <tr>\n      <th>0.0</th>\n      <td>54.547184</td>\n      <td>59.929907</td>\n    </tr>\n    <tr>\n      <th>1.0</th>\n      <td>45.452816</td>\n      <td>40.070093</td>\n    </tr>\n  </tbody>\n</table>\n</div>"
     },
     "metadata": {},
     "output_type": "display_data"
    },
    {
     "name": "stdout",
     "output_type": "stream",
     "text": [
      "chi2: 71.71105924520018, p_value: 2.4913230942413865e-17, dof: 1\n",
      "-------------------------------------------------------------\n",
      "\n"
     ]
    },
    {
     "data": {
      "text/markdown": "### cancer"
     },
     "metadata": {},
     "output_type": "display_data"
    },
    {
     "data": {
      "text/plain": "depression    0.0   1.0\ncancer                 \n0.0         57134  6648\n1.0           682   200",
      "text/html": "<div>\n<style scoped>\n    .dataframe tbody tr th:only-of-type {\n        vertical-align: middle;\n    }\n\n    .dataframe tbody tr th {\n        vertical-align: top;\n    }\n\n    .dataframe thead th {\n        text-align: right;\n    }\n</style>\n<table border=\"1\" class=\"dataframe\">\n  <thead>\n    <tr style=\"text-align: right;\">\n      <th>depression</th>\n      <th>0.0</th>\n      <th>1.0</th>\n    </tr>\n    <tr>\n      <th>cancer</th>\n      <th></th>\n      <th></th>\n    </tr>\n  </thead>\n  <tbody>\n    <tr>\n      <th>0.0</th>\n      <td>57134</td>\n      <td>6648</td>\n    </tr>\n    <tr>\n      <th>1.0</th>\n      <td>682</td>\n      <td>200</td>\n    </tr>\n  </tbody>\n</table>\n</div>"
     },
     "metadata": {},
     "output_type": "display_data"
    },
    {
     "name": "stdout",
     "output_type": "stream",
     "text": [
      "Normalizado pelas linhas: \n"
     ]
    },
    {
     "data": {
      "text/plain": "depression        0.0        1.0\ncancer                          \n0.0         89.576997  10.423003\n1.0         77.324263  22.675737",
      "text/html": "<div>\n<style scoped>\n    .dataframe tbody tr th:only-of-type {\n        vertical-align: middle;\n    }\n\n    .dataframe tbody tr th {\n        vertical-align: top;\n    }\n\n    .dataframe thead th {\n        text-align: right;\n    }\n</style>\n<table border=\"1\" class=\"dataframe\">\n  <thead>\n    <tr style=\"text-align: right;\">\n      <th>depression</th>\n      <th>0.0</th>\n      <th>1.0</th>\n    </tr>\n    <tr>\n      <th>cancer</th>\n      <th></th>\n      <th></th>\n    </tr>\n  </thead>\n  <tbody>\n    <tr>\n      <th>0.0</th>\n      <td>89.576997</td>\n      <td>10.423003</td>\n    </tr>\n    <tr>\n      <th>1.0</th>\n      <td>77.324263</td>\n      <td>22.675737</td>\n    </tr>\n  </tbody>\n</table>\n</div>"
     },
     "metadata": {},
     "output_type": "display_data"
    },
    {
     "name": "stdout",
     "output_type": "stream",
     "text": [
      "\n",
      "Normalizado pelas colunas: \n"
     ]
    },
    {
     "data": {
      "text/plain": "depression        0.0        1.0\ncancer                          \n0.0         98.820396  97.079439\n1.0          1.179604   2.920561",
      "text/html": "<div>\n<style scoped>\n    .dataframe tbody tr th:only-of-type {\n        vertical-align: middle;\n    }\n\n    .dataframe tbody tr th {\n        vertical-align: top;\n    }\n\n    .dataframe thead th {\n        text-align: right;\n    }\n</style>\n<table border=\"1\" class=\"dataframe\">\n  <thead>\n    <tr style=\"text-align: right;\">\n      <th>depression</th>\n      <th>0.0</th>\n      <th>1.0</th>\n    </tr>\n    <tr>\n      <th>cancer</th>\n      <th></th>\n      <th></th>\n    </tr>\n  </thead>\n  <tbody>\n    <tr>\n      <th>0.0</th>\n      <td>98.820396</td>\n      <td>97.079439</td>\n    </tr>\n    <tr>\n      <th>1.0</th>\n      <td>1.179604</td>\n      <td>2.920561</td>\n    </tr>\n  </tbody>\n</table>\n</div>"
     },
     "metadata": {},
     "output_type": "display_data"
    },
    {
     "name": "stdout",
     "output_type": "stream",
     "text": [
      "chi2: 137.93785667441418, p_value: 7.519344241804209e-32, dof: 1\n",
      "-------------------------------------------------------------\n",
      "\n"
     ]
    },
    {
     "data": {
      "text/markdown": "### hipertensao"
     },
     "metadata": {},
     "output_type": "display_data"
    },
    {
     "data": {
      "text/plain": "depression     0.0   1.0\nhipertensao             \n0.0          47122  4821\n1.0           9270  1956",
      "text/html": "<div>\n<style scoped>\n    .dataframe tbody tr th:only-of-type {\n        vertical-align: middle;\n    }\n\n    .dataframe tbody tr th {\n        vertical-align: top;\n    }\n\n    .dataframe thead th {\n        text-align: right;\n    }\n</style>\n<table border=\"1\" class=\"dataframe\">\n  <thead>\n    <tr style=\"text-align: right;\">\n      <th>depression</th>\n      <th>0.0</th>\n      <th>1.0</th>\n    </tr>\n    <tr>\n      <th>hipertensao</th>\n      <th></th>\n      <th></th>\n    </tr>\n  </thead>\n  <tbody>\n    <tr>\n      <th>0.0</th>\n      <td>47122</td>\n      <td>4821</td>\n    </tr>\n    <tr>\n      <th>1.0</th>\n      <td>9270</td>\n      <td>1956</td>\n    </tr>\n  </tbody>\n</table>\n</div>"
     },
     "metadata": {},
     "output_type": "display_data"
    },
    {
     "name": "stdout",
     "output_type": "stream",
     "text": [
      "Normalizado pelas linhas: \n"
     ]
    },
    {
     "data": {
      "text/plain": "depression         0.0        1.0\nhipertensao                      \n0.0          90.718672   9.281328\n1.0          82.576162  17.423838",
      "text/html": "<div>\n<style scoped>\n    .dataframe tbody tr th:only-of-type {\n        vertical-align: middle;\n    }\n\n    .dataframe tbody tr th {\n        vertical-align: top;\n    }\n\n    .dataframe thead th {\n        text-align: right;\n    }\n</style>\n<table border=\"1\" class=\"dataframe\">\n  <thead>\n    <tr style=\"text-align: right;\">\n      <th>depression</th>\n      <th>0.0</th>\n      <th>1.0</th>\n    </tr>\n    <tr>\n      <th>hipertensao</th>\n      <th></th>\n      <th></th>\n    </tr>\n  </thead>\n  <tbody>\n    <tr>\n      <th>0.0</th>\n      <td>90.718672</td>\n      <td>9.281328</td>\n    </tr>\n    <tr>\n      <th>1.0</th>\n      <td>82.576162</td>\n      <td>17.423838</td>\n    </tr>\n  </tbody>\n</table>\n</div>"
     },
     "metadata": {},
     "output_type": "display_data"
    },
    {
     "name": "stdout",
     "output_type": "stream",
     "text": [
      "\n",
      "Normalizado pelas colunas: \n"
     ]
    },
    {
     "data": {
      "text/plain": "depression         0.0        1.0\nhipertensao                      \n0.0          83.561498  71.137672\n1.0          16.438502  28.862328",
      "text/html": "<div>\n<style scoped>\n    .dataframe tbody tr th:only-of-type {\n        vertical-align: middle;\n    }\n\n    .dataframe tbody tr th {\n        vertical-align: top;\n    }\n\n    .dataframe thead th {\n        text-align: right;\n    }\n</style>\n<table border=\"1\" class=\"dataframe\">\n  <thead>\n    <tr style=\"text-align: right;\">\n      <th>depression</th>\n      <th>0.0</th>\n      <th>1.0</th>\n    </tr>\n    <tr>\n      <th>hipertensao</th>\n      <th></th>\n      <th></th>\n    </tr>\n  </thead>\n  <tbody>\n    <tr>\n      <th>0.0</th>\n      <td>83.561498</td>\n      <td>71.137672</td>\n    </tr>\n    <tr>\n      <th>1.0</th>\n      <td>16.438502</td>\n      <td>28.862328</td>\n    </tr>\n  </tbody>\n</table>\n</div>"
     },
     "metadata": {},
     "output_type": "display_data"
    },
    {
     "name": "stdout",
     "output_type": "stream",
     "text": [
      "chi2: 639.0247471818652, p_value: 5.4455718213869e-141, dof: 1\n",
      "-------------------------------------------------------------\n",
      "\n"
     ]
    },
    {
     "data": {
      "text/markdown": "### diabetes"
     },
     "metadata": {},
     "output_type": "display_data"
    },
    {
     "data": {
      "text/plain": "depression    0.0   1.0\ndiabetes               \n0.0         50366  5889\n1.0          2393   606",
      "text/html": "<div>\n<style scoped>\n    .dataframe tbody tr th:only-of-type {\n        vertical-align: middle;\n    }\n\n    .dataframe tbody tr th {\n        vertical-align: top;\n    }\n\n    .dataframe thead th {\n        text-align: right;\n    }\n</style>\n<table border=\"1\" class=\"dataframe\">\n  <thead>\n    <tr style=\"text-align: right;\">\n      <th>depression</th>\n      <th>0.0</th>\n      <th>1.0</th>\n    </tr>\n    <tr>\n      <th>diabetes</th>\n      <th></th>\n      <th></th>\n    </tr>\n  </thead>\n  <tbody>\n    <tr>\n      <th>0.0</th>\n      <td>50366</td>\n      <td>5889</td>\n    </tr>\n    <tr>\n      <th>1.0</th>\n      <td>2393</td>\n      <td>606</td>\n    </tr>\n  </tbody>\n</table>\n</div>"
     },
     "metadata": {},
     "output_type": "display_data"
    },
    {
     "name": "stdout",
     "output_type": "stream",
     "text": [
      "Normalizado pelas linhas: \n"
     ]
    },
    {
     "data": {
      "text/plain": "depression        0.0        1.0\ndiabetes                        \n0.0         89.531597  10.468403\n1.0         79.793264  20.206736",
      "text/html": "<div>\n<style scoped>\n    .dataframe tbody tr th:only-of-type {\n        vertical-align: middle;\n    }\n\n    .dataframe tbody tr th {\n        vertical-align: top;\n    }\n\n    .dataframe thead th {\n        text-align: right;\n    }\n</style>\n<table border=\"1\" class=\"dataframe\">\n  <thead>\n    <tr style=\"text-align: right;\">\n      <th>depression</th>\n      <th>0.0</th>\n      <th>1.0</th>\n    </tr>\n    <tr>\n      <th>diabetes</th>\n      <th></th>\n      <th></th>\n    </tr>\n  </thead>\n  <tbody>\n    <tr>\n      <th>0.0</th>\n      <td>89.531597</td>\n      <td>10.468403</td>\n    </tr>\n    <tr>\n      <th>1.0</th>\n      <td>79.793264</td>\n      <td>20.206736</td>\n    </tr>\n  </tbody>\n</table>\n</div>"
     },
     "metadata": {},
     "output_type": "display_data"
    },
    {
     "name": "stdout",
     "output_type": "stream",
     "text": [
      "\n",
      "Normalizado pelas colunas: \n"
     ]
    },
    {
     "data": {
      "text/plain": "depression        0.0        1.0\ndiabetes                        \n0.0         95.464281  90.669746\n1.0          4.535719   9.330254",
      "text/html": "<div>\n<style scoped>\n    .dataframe tbody tr th:only-of-type {\n        vertical-align: middle;\n    }\n\n    .dataframe tbody tr th {\n        vertical-align: top;\n    }\n\n    .dataframe thead th {\n        text-align: right;\n    }\n</style>\n<table border=\"1\" class=\"dataframe\">\n  <thead>\n    <tr style=\"text-align: right;\">\n      <th>depression</th>\n      <th>0.0</th>\n      <th>1.0</th>\n    </tr>\n    <tr>\n      <th>diabetes</th>\n      <th></th>\n      <th></th>\n    </tr>\n  </thead>\n  <tbody>\n    <tr>\n      <th>0.0</th>\n      <td>95.464281</td>\n      <td>90.669746</td>\n    </tr>\n    <tr>\n      <th>1.0</th>\n      <td>4.535719</td>\n      <td>9.330254</td>\n    </tr>\n  </tbody>\n</table>\n</div>"
     },
     "metadata": {},
     "output_type": "display_data"
    },
    {
     "name": "stdout",
     "output_type": "stream",
     "text": [
      "chi2: 276.661532854021, p_value: 4.009787018083911e-62, dof: 1\n",
      "-------------------------------------------------------------\n",
      "\n"
     ]
    },
    {
     "data": {
      "text/markdown": "### cardiovascular"
     },
     "metadata": {},
     "output_type": "display_data"
    },
    {
     "data": {
      "text/plain": "depression        0.0   1.0\ncardiovascular             \n0.0             56385  6303\n1.0              1431   545",
      "text/html": "<div>\n<style scoped>\n    .dataframe tbody tr th:only-of-type {\n        vertical-align: middle;\n    }\n\n    .dataframe tbody tr th {\n        vertical-align: top;\n    }\n\n    .dataframe thead th {\n        text-align: right;\n    }\n</style>\n<table border=\"1\" class=\"dataframe\">\n  <thead>\n    <tr style=\"text-align: right;\">\n      <th>depression</th>\n      <th>0.0</th>\n      <th>1.0</th>\n    </tr>\n    <tr>\n      <th>cardiovascular</th>\n      <th></th>\n      <th></th>\n    </tr>\n  </thead>\n  <tbody>\n    <tr>\n      <th>0.0</th>\n      <td>56385</td>\n      <td>6303</td>\n    </tr>\n    <tr>\n      <th>1.0</th>\n      <td>1431</td>\n      <td>545</td>\n    </tr>\n  </tbody>\n</table>\n</div>"
     },
     "metadata": {},
     "output_type": "display_data"
    },
    {
     "name": "stdout",
     "output_type": "stream",
     "text": [
      "Normalizado pelas linhas: \n"
     ]
    },
    {
     "data": {
      "text/plain": "depression            0.0        1.0\ncardiovascular                      \n0.0             89.945444  10.054556\n1.0             72.419028  27.580972",
      "text/html": "<div>\n<style scoped>\n    .dataframe tbody tr th:only-of-type {\n        vertical-align: middle;\n    }\n\n    .dataframe tbody tr th {\n        vertical-align: top;\n    }\n\n    .dataframe thead th {\n        text-align: right;\n    }\n</style>\n<table border=\"1\" class=\"dataframe\">\n  <thead>\n    <tr style=\"text-align: right;\">\n      <th>depression</th>\n      <th>0.0</th>\n      <th>1.0</th>\n    </tr>\n    <tr>\n      <th>cardiovascular</th>\n      <th></th>\n      <th></th>\n    </tr>\n  </thead>\n  <tbody>\n    <tr>\n      <th>0.0</th>\n      <td>89.945444</td>\n      <td>10.054556</td>\n    </tr>\n    <tr>\n      <th>1.0</th>\n      <td>72.419028</td>\n      <td>27.580972</td>\n    </tr>\n  </tbody>\n</table>\n</div>"
     },
     "metadata": {},
     "output_type": "display_data"
    },
    {
     "name": "stdout",
     "output_type": "stream",
     "text": [
      "\n",
      "Normalizado pelas colunas: \n"
     ]
    },
    {
     "data": {
      "text/plain": "depression            0.0        1.0\ncardiovascular                      \n0.0             97.524907  92.041472\n1.0              2.475093   7.958528",
      "text/html": "<div>\n<style scoped>\n    .dataframe tbody tr th:only-of-type {\n        vertical-align: middle;\n    }\n\n    .dataframe tbody tr th {\n        vertical-align: top;\n    }\n\n    .dataframe thead th {\n        text-align: right;\n    }\n</style>\n<table border=\"1\" class=\"dataframe\">\n  <thead>\n    <tr style=\"text-align: right;\">\n      <th>depression</th>\n      <th>0.0</th>\n      <th>1.0</th>\n    </tr>\n    <tr>\n      <th>cardiovascular</th>\n      <th></th>\n      <th></th>\n    </tr>\n  </thead>\n  <tbody>\n    <tr>\n      <th>0.0</th>\n      <td>97.524907</td>\n      <td>92.041472</td>\n    </tr>\n    <tr>\n      <th>1.0</th>\n      <td>2.475093</td>\n      <td>7.958528</td>\n    </tr>\n  </tbody>\n</table>\n</div>"
     },
     "metadata": {},
     "output_type": "display_data"
    },
    {
     "name": "stdout",
     "output_type": "stream",
     "text": [
      "chi2: 621.4530827848046, p_value: 3.6117487623674724e-137, dof: 1\n",
      "-------------------------------------------------------------\n",
      "\n"
     ]
    },
    {
     "data": {
      "text/markdown": "### hipercolesterolemia"
     },
     "metadata": {},
     "output_type": "display_data"
    },
    {
     "data": {
      "text/plain": "depression             0.0   1.0\nhipercolesterolemia             \n0.0                  45843  5003\n1.0                   6047  1402",
      "text/html": "<div>\n<style scoped>\n    .dataframe tbody tr th:only-of-type {\n        vertical-align: middle;\n    }\n\n    .dataframe tbody tr th {\n        vertical-align: top;\n    }\n\n    .dataframe thead th {\n        text-align: right;\n    }\n</style>\n<table border=\"1\" class=\"dataframe\">\n  <thead>\n    <tr style=\"text-align: right;\">\n      <th>depression</th>\n      <th>0.0</th>\n      <th>1.0</th>\n    </tr>\n    <tr>\n      <th>hipercolesterolemia</th>\n      <th></th>\n      <th></th>\n    </tr>\n  </thead>\n  <tbody>\n    <tr>\n      <th>0.0</th>\n      <td>45843</td>\n      <td>5003</td>\n    </tr>\n    <tr>\n      <th>1.0</th>\n      <td>6047</td>\n      <td>1402</td>\n    </tr>\n  </tbody>\n</table>\n</div>"
     },
     "metadata": {},
     "output_type": "display_data"
    },
    {
     "name": "stdout",
     "output_type": "stream",
     "text": [
      "Normalizado pelas linhas: \n"
     ]
    },
    {
     "data": {
      "text/plain": "depression                 0.0        1.0\nhipercolesterolemia                      \n0.0                  90.160485   9.839515\n1.0                  81.178682  18.821318",
      "text/html": "<div>\n<style scoped>\n    .dataframe tbody tr th:only-of-type {\n        vertical-align: middle;\n    }\n\n    .dataframe tbody tr th {\n        vertical-align: top;\n    }\n\n    .dataframe thead th {\n        text-align: right;\n    }\n</style>\n<table border=\"1\" class=\"dataframe\">\n  <thead>\n    <tr style=\"text-align: right;\">\n      <th>depression</th>\n      <th>0.0</th>\n      <th>1.0</th>\n    </tr>\n    <tr>\n      <th>hipercolesterolemia</th>\n      <th></th>\n      <th></th>\n    </tr>\n  </thead>\n  <tbody>\n    <tr>\n      <th>0.0</th>\n      <td>90.160485</td>\n      <td>9.839515</td>\n    </tr>\n    <tr>\n      <th>1.0</th>\n      <td>81.178682</td>\n      <td>18.821318</td>\n    </tr>\n  </tbody>\n</table>\n</div>"
     },
     "metadata": {},
     "output_type": "display_data"
    },
    {
     "name": "stdout",
     "output_type": "stream",
     "text": [
      "\n",
      "Normalizado pelas colunas: \n"
     ]
    },
    {
     "data": {
      "text/plain": "depression                 0.0        1.0\nhipercolesterolemia                      \n0.0                  88.346502  78.110851\n1.0                  11.653498  21.889149",
      "text/html": "<div>\n<style scoped>\n    .dataframe tbody tr th:only-of-type {\n        vertical-align: middle;\n    }\n\n    .dataframe tbody tr th {\n        vertical-align: top;\n    }\n\n    .dataframe thead th {\n        text-align: right;\n    }\n</style>\n<table border=\"1\" class=\"dataframe\">\n  <thead>\n    <tr style=\"text-align: right;\">\n      <th>depression</th>\n      <th>0.0</th>\n      <th>1.0</th>\n    </tr>\n    <tr>\n      <th>hipercolesterolemia</th>\n      <th></th>\n      <th></th>\n    </tr>\n  </thead>\n  <tbody>\n    <tr>\n      <th>0.0</th>\n      <td>88.346502</td>\n      <td>78.110851</td>\n    </tr>\n    <tr>\n      <th>1.0</th>\n      <td>11.653498</td>\n      <td>21.889149</td>\n    </tr>\n  </tbody>\n</table>\n</div>"
     },
     "metadata": {},
     "output_type": "display_data"
    },
    {
     "name": "stdout",
     "output_type": "stream",
     "text": [
      "chi2: 535.9327663147611, p_value: 1.4462945804487886e-118, dof: 1\n",
      "-------------------------------------------------------------\n",
      "\n"
     ]
    },
    {
     "data": {
      "text/markdown": "### avc"
     },
     "metadata": {},
     "output_type": "display_data"
    },
    {
     "data": {
      "text/plain": "depression    0.0   1.0\navc                    \n0.0         57341  6627\n1.0           475   221",
      "text/html": "<div>\n<style scoped>\n    .dataframe tbody tr th:only-of-type {\n        vertical-align: middle;\n    }\n\n    .dataframe tbody tr th {\n        vertical-align: top;\n    }\n\n    .dataframe thead th {\n        text-align: right;\n    }\n</style>\n<table border=\"1\" class=\"dataframe\">\n  <thead>\n    <tr style=\"text-align: right;\">\n      <th>depression</th>\n      <th>0.0</th>\n      <th>1.0</th>\n    </tr>\n    <tr>\n      <th>avc</th>\n      <th></th>\n      <th></th>\n    </tr>\n  </thead>\n  <tbody>\n    <tr>\n      <th>0.0</th>\n      <td>57341</td>\n      <td>6627</td>\n    </tr>\n    <tr>\n      <th>1.0</th>\n      <td>475</td>\n      <td>221</td>\n    </tr>\n  </tbody>\n</table>\n</div>"
     },
     "metadata": {},
     "output_type": "display_data"
    },
    {
     "name": "stdout",
     "output_type": "stream",
     "text": [
      "Normalizado pelas linhas: \n"
     ]
    },
    {
     "data": {
      "text/plain": "depression        0.0        1.0\navc                             \n0.0         89.640133  10.359867\n1.0         68.247126  31.752874",
      "text/html": "<div>\n<style scoped>\n    .dataframe tbody tr th:only-of-type {\n        vertical-align: middle;\n    }\n\n    .dataframe tbody tr th {\n        vertical-align: top;\n    }\n\n    .dataframe thead th {\n        text-align: right;\n    }\n</style>\n<table border=\"1\" class=\"dataframe\">\n  <thead>\n    <tr style=\"text-align: right;\">\n      <th>depression</th>\n      <th>0.0</th>\n      <th>1.0</th>\n    </tr>\n    <tr>\n      <th>avc</th>\n      <th></th>\n      <th></th>\n    </tr>\n  </thead>\n  <tbody>\n    <tr>\n      <th>0.0</th>\n      <td>89.640133</td>\n      <td>10.359867</td>\n    </tr>\n    <tr>\n      <th>1.0</th>\n      <td>68.247126</td>\n      <td>31.752874</td>\n    </tr>\n  </tbody>\n</table>\n</div>"
     },
     "metadata": {},
     "output_type": "display_data"
    },
    {
     "name": "stdout",
     "output_type": "stream",
     "text": [
      "\n",
      "Normalizado pelas colunas: \n"
     ]
    },
    {
     "data": {
      "text/plain": "depression        0.0       1.0\navc                            \n0.0         99.178428  96.77278\n1.0          0.821572   3.22722",
      "text/html": "<div>\n<style scoped>\n    .dataframe tbody tr th:only-of-type {\n        vertical-align: middle;\n    }\n\n    .dataframe tbody tr th {\n        vertical-align: top;\n    }\n\n    .dataframe thead th {\n        text-align: right;\n    }\n</style>\n<table border=\"1\" class=\"dataframe\">\n  <thead>\n    <tr style=\"text-align: right;\">\n      <th>depression</th>\n      <th>0.0</th>\n      <th>1.0</th>\n    </tr>\n    <tr>\n      <th>avc</th>\n      <th></th>\n      <th></th>\n    </tr>\n  </thead>\n  <tbody>\n    <tr>\n      <th>0.0</th>\n      <td>99.178428</td>\n      <td>96.77278</td>\n    </tr>\n    <tr>\n      <th>1.0</th>\n      <td>0.821572</td>\n      <td>3.22722</td>\n    </tr>\n  </tbody>\n</table>\n</div>"
     },
     "metadata": {},
     "output_type": "display_data"
    },
    {
     "name": "stdout",
     "output_type": "stream",
     "text": [
      "chi2: 332.78704827743945, p_value: 2.3755935367410357e-74, dof: 1\n",
      "-------------------------------------------------------------\n",
      "\n"
     ]
    },
    {
     "data": {
      "text/markdown": "### artrite"
     },
     "metadata": {},
     "output_type": "display_data"
    },
    {
     "data": {
      "text/plain": "depression    0.0   1.0\nartrite                \n0.0         55536  5977\n1.0          2280   871",
      "text/html": "<div>\n<style scoped>\n    .dataframe tbody tr th:only-of-type {\n        vertical-align: middle;\n    }\n\n    .dataframe tbody tr th {\n        vertical-align: top;\n    }\n\n    .dataframe thead th {\n        text-align: right;\n    }\n</style>\n<table border=\"1\" class=\"dataframe\">\n  <thead>\n    <tr style=\"text-align: right;\">\n      <th>depression</th>\n      <th>0.0</th>\n      <th>1.0</th>\n    </tr>\n    <tr>\n      <th>artrite</th>\n      <th></th>\n      <th></th>\n    </tr>\n  </thead>\n  <tbody>\n    <tr>\n      <th>0.0</th>\n      <td>55536</td>\n      <td>5977</td>\n    </tr>\n    <tr>\n      <th>1.0</th>\n      <td>2280</td>\n      <td>871</td>\n    </tr>\n  </tbody>\n</table>\n</div>"
     },
     "metadata": {},
     "output_type": "display_data"
    },
    {
     "name": "stdout",
     "output_type": "stream",
     "text": [
      "Normalizado pelas linhas: \n"
     ]
    },
    {
     "data": {
      "text/plain": "depression        0.0        1.0\nartrite                         \n0.0         90.283355   9.716645\n1.0         72.357982  27.642018",
      "text/html": "<div>\n<style scoped>\n    .dataframe tbody tr th:only-of-type {\n        vertical-align: middle;\n    }\n\n    .dataframe tbody tr th {\n        vertical-align: top;\n    }\n\n    .dataframe thead th {\n        text-align: right;\n    }\n</style>\n<table border=\"1\" class=\"dataframe\">\n  <thead>\n    <tr style=\"text-align: right;\">\n      <th>depression</th>\n      <th>0.0</th>\n      <th>1.0</th>\n    </tr>\n    <tr>\n      <th>artrite</th>\n      <th></th>\n      <th></th>\n    </tr>\n  </thead>\n  <tbody>\n    <tr>\n      <th>0.0</th>\n      <td>90.283355</td>\n      <td>9.716645</td>\n    </tr>\n    <tr>\n      <th>1.0</th>\n      <td>72.357982</td>\n      <td>27.642018</td>\n    </tr>\n  </tbody>\n</table>\n</div>"
     },
     "metadata": {},
     "output_type": "display_data"
    },
    {
     "name": "stdout",
     "output_type": "stream",
     "text": [
      "\n",
      "Normalizado pelas colunas: \n"
     ]
    },
    {
     "data": {
      "text/plain": "depression        0.0        1.0\nartrite                         \n0.0         96.056455  87.280958\n1.0          3.943545  12.719042",
      "text/html": "<div>\n<style scoped>\n    .dataframe tbody tr th:only-of-type {\n        vertical-align: middle;\n    }\n\n    .dataframe tbody tr th {\n        vertical-align: top;\n    }\n\n    .dataframe thead th {\n        text-align: right;\n    }\n</style>\n<table border=\"1\" class=\"dataframe\">\n  <thead>\n    <tr style=\"text-align: right;\">\n      <th>depression</th>\n      <th>0.0</th>\n      <th>1.0</th>\n    </tr>\n    <tr>\n      <th>artrite</th>\n      <th></th>\n      <th></th>\n    </tr>\n  </thead>\n  <tbody>\n    <tr>\n      <th>0.0</th>\n      <td>96.056455</td>\n      <td>87.280958</td>\n    </tr>\n    <tr>\n      <th>1.0</th>\n      <td>3.943545</td>\n      <td>12.719042</td>\n    </tr>\n  </tbody>\n</table>\n</div>"
     },
     "metadata": {},
     "output_type": "display_data"
    },
    {
     "name": "stdout",
     "output_type": "stream",
     "text": [
      "chi2: 1017.1909642401934, p_value: 3.2930740645958454e-223, dof: 1\n",
      "-------------------------------------------------------------\n",
      "\n"
     ]
    },
    {
     "data": {
      "text/markdown": "### obesidade"
     },
     "metadata": {},
     "output_type": "display_data"
    },
    {
     "data": {
      "text/plain": "depression    0.0   1.0\nobesidade              \n0.0         45888  4970\n1.0         11640  1821",
      "text/html": "<div>\n<style scoped>\n    .dataframe tbody tr th:only-of-type {\n        vertical-align: middle;\n    }\n\n    .dataframe tbody tr th {\n        vertical-align: top;\n    }\n\n    .dataframe thead th {\n        text-align: right;\n    }\n</style>\n<table border=\"1\" class=\"dataframe\">\n  <thead>\n    <tr style=\"text-align: right;\">\n      <th>depression</th>\n      <th>0.0</th>\n      <th>1.0</th>\n    </tr>\n    <tr>\n      <th>obesidade</th>\n      <th></th>\n      <th></th>\n    </tr>\n  </thead>\n  <tbody>\n    <tr>\n      <th>0.0</th>\n      <td>45888</td>\n      <td>4970</td>\n    </tr>\n    <tr>\n      <th>1.0</th>\n      <td>11640</td>\n      <td>1821</td>\n    </tr>\n  </tbody>\n</table>\n</div>"
     },
     "metadata": {},
     "output_type": "display_data"
    },
    {
     "name": "stdout",
     "output_type": "stream",
     "text": [
      "Normalizado pelas linhas: \n"
     ]
    },
    {
     "data": {
      "text/plain": "depression        0.0        1.0\nobesidade                       \n0.0         90.227693   9.772307\n1.0         86.472030  13.527970",
      "text/html": "<div>\n<style scoped>\n    .dataframe tbody tr th:only-of-type {\n        vertical-align: middle;\n    }\n\n    .dataframe tbody tr th {\n        vertical-align: top;\n    }\n\n    .dataframe thead th {\n        text-align: right;\n    }\n</style>\n<table border=\"1\" class=\"dataframe\">\n  <thead>\n    <tr style=\"text-align: right;\">\n      <th>depression</th>\n      <th>0.0</th>\n      <th>1.0</th>\n    </tr>\n    <tr>\n      <th>obesidade</th>\n      <th></th>\n      <th></th>\n    </tr>\n  </thead>\n  <tbody>\n    <tr>\n      <th>0.0</th>\n      <td>90.227693</td>\n      <td>9.772307</td>\n    </tr>\n    <tr>\n      <th>1.0</th>\n      <td>86.472030</td>\n      <td>13.527970</td>\n    </tr>\n  </tbody>\n</table>\n</div>"
     },
     "metadata": {},
     "output_type": "display_data"
    },
    {
     "name": "stdout",
     "output_type": "stream",
     "text": [
      "\n",
      "Normalizado pelas colunas: \n"
     ]
    },
    {
     "data": {
      "text/plain": "depression        0.0        1.0\nobesidade                       \n0.0         79.766375  73.185098\n1.0         20.233625  26.814902",
      "text/html": "<div>\n<style scoped>\n    .dataframe tbody tr th:only-of-type {\n        vertical-align: middle;\n    }\n\n    .dataframe tbody tr th {\n        vertical-align: top;\n    }\n\n    .dataframe thead th {\n        text-align: right;\n    }\n</style>\n<table border=\"1\" class=\"dataframe\">\n  <thead>\n    <tr style=\"text-align: right;\">\n      <th>depression</th>\n      <th>0.0</th>\n      <th>1.0</th>\n    </tr>\n    <tr>\n      <th>obesidade</th>\n      <th></th>\n      <th></th>\n    </tr>\n  </thead>\n  <tbody>\n    <tr>\n      <th>0.0</th>\n      <td>79.766375</td>\n      <td>73.185098</td>\n    </tr>\n    <tr>\n      <th>1.0</th>\n      <td>20.233625</td>\n      <td>26.814902</td>\n    </tr>\n  </tbody>\n</table>\n</div>"
     },
     "metadata": {},
     "output_type": "display_data"
    },
    {
     "name": "stdout",
     "output_type": "stream",
     "text": [
      "chi2: 158.97761979927432, p_value: 1.892476258542428e-36, dof: 1\n",
      "-------------------------------------------------------------\n",
      "\n"
     ]
    },
    {
     "data": {
      "text/markdown": "### depression"
     },
     "metadata": {},
     "output_type": "display_data"
    },
    {
     "data": {
      "text/plain": "depression    0.0   1.0\ndepression             \n0.0         57816     0\n1.0             0  6848",
      "text/html": "<div>\n<style scoped>\n    .dataframe tbody tr th:only-of-type {\n        vertical-align: middle;\n    }\n\n    .dataframe tbody tr th {\n        vertical-align: top;\n    }\n\n    .dataframe thead th {\n        text-align: right;\n    }\n</style>\n<table border=\"1\" class=\"dataframe\">\n  <thead>\n    <tr style=\"text-align: right;\">\n      <th>depression</th>\n      <th>0.0</th>\n      <th>1.0</th>\n    </tr>\n    <tr>\n      <th>depression</th>\n      <th></th>\n      <th></th>\n    </tr>\n  </thead>\n  <tbody>\n    <tr>\n      <th>0.0</th>\n      <td>57816</td>\n      <td>0</td>\n    </tr>\n    <tr>\n      <th>1.0</th>\n      <td>0</td>\n      <td>6848</td>\n    </tr>\n  </tbody>\n</table>\n</div>"
     },
     "metadata": {},
     "output_type": "display_data"
    },
    {
     "name": "stdout",
     "output_type": "stream",
     "text": [
      "Normalizado pelas linhas: \n"
     ]
    },
    {
     "data": {
      "text/plain": "depression    0.0    1.0\ndepression              \n0.0         100.0    0.0\n1.0           0.0  100.0",
      "text/html": "<div>\n<style scoped>\n    .dataframe tbody tr th:only-of-type {\n        vertical-align: middle;\n    }\n\n    .dataframe tbody tr th {\n        vertical-align: top;\n    }\n\n    .dataframe thead th {\n        text-align: right;\n    }\n</style>\n<table border=\"1\" class=\"dataframe\">\n  <thead>\n    <tr style=\"text-align: right;\">\n      <th>depression</th>\n      <th>0.0</th>\n      <th>1.0</th>\n    </tr>\n    <tr>\n      <th>depression</th>\n      <th></th>\n      <th></th>\n    </tr>\n  </thead>\n  <tbody>\n    <tr>\n      <th>0.0</th>\n      <td>100.0</td>\n      <td>0.0</td>\n    </tr>\n    <tr>\n      <th>1.0</th>\n      <td>0.0</td>\n      <td>100.0</td>\n    </tr>\n  </tbody>\n</table>\n</div>"
     },
     "metadata": {},
     "output_type": "display_data"
    },
    {
     "name": "stdout",
     "output_type": "stream",
     "text": [
      "\n",
      "Normalizado pelas colunas: \n"
     ]
    },
    {
     "data": {
      "text/plain": "depression    0.0    1.0\ndepression              \n0.0         100.0    0.0\n1.0           0.0  100.0",
      "text/html": "<div>\n<style scoped>\n    .dataframe tbody tr th:only-of-type {\n        vertical-align: middle;\n    }\n\n    .dataframe tbody tr th {\n        vertical-align: top;\n    }\n\n    .dataframe thead th {\n        text-align: right;\n    }\n</style>\n<table border=\"1\" class=\"dataframe\">\n  <thead>\n    <tr style=\"text-align: right;\">\n      <th>depression</th>\n      <th>0.0</th>\n      <th>1.0</th>\n    </tr>\n    <tr>\n      <th>depression</th>\n      <th></th>\n      <th></th>\n    </tr>\n  </thead>\n  <tbody>\n    <tr>\n      <th>0.0</th>\n      <td>100.0</td>\n      <td>0.0</td>\n    </tr>\n    <tr>\n      <th>1.0</th>\n      <td>0.0</td>\n      <td>100.0</td>\n    </tr>\n  </tbody>\n</table>\n</div>"
     },
     "metadata": {},
     "output_type": "display_data"
    },
    {
     "name": "stdout",
     "output_type": "stream",
     "text": [
      "chi2: 64664.0, p_value: 0.0, dof: 1\n",
      "-------------------------------------------------------------\n",
      "\n"
     ]
    },
    {
     "data": {
      "text/markdown": "### sexo"
     },
     "metadata": {},
     "output_type": "display_data"
    },
    {
     "data": {
      "text/plain": "depression    0.0   1.0\nsexo                   \n0.0         28378  5061\n1.0         29438  1787",
      "text/html": "<div>\n<style scoped>\n    .dataframe tbody tr th:only-of-type {\n        vertical-align: middle;\n    }\n\n    .dataframe tbody tr th {\n        vertical-align: top;\n    }\n\n    .dataframe thead th {\n        text-align: right;\n    }\n</style>\n<table border=\"1\" class=\"dataframe\">\n  <thead>\n    <tr style=\"text-align: right;\">\n      <th>depression</th>\n      <th>0.0</th>\n      <th>1.0</th>\n    </tr>\n    <tr>\n      <th>sexo</th>\n      <th></th>\n      <th></th>\n    </tr>\n  </thead>\n  <tbody>\n    <tr>\n      <th>0.0</th>\n      <td>28378</td>\n      <td>5061</td>\n    </tr>\n    <tr>\n      <th>1.0</th>\n      <td>29438</td>\n      <td>1787</td>\n    </tr>\n  </tbody>\n</table>\n</div>"
     },
     "metadata": {},
     "output_type": "display_data"
    },
    {
     "name": "stdout",
     "output_type": "stream",
     "text": [
      "Normalizado pelas linhas: \n"
     ]
    },
    {
     "data": {
      "text/plain": "depression        0.0        1.0\nsexo                            \n0.0         84.864978  15.135022\n1.0         94.277022   5.722978",
      "text/html": "<div>\n<style scoped>\n    .dataframe tbody tr th:only-of-type {\n        vertical-align: middle;\n    }\n\n    .dataframe tbody tr th {\n        vertical-align: top;\n    }\n\n    .dataframe thead th {\n        text-align: right;\n    }\n</style>\n<table border=\"1\" class=\"dataframe\">\n  <thead>\n    <tr style=\"text-align: right;\">\n      <th>depression</th>\n      <th>0.0</th>\n      <th>1.0</th>\n    </tr>\n    <tr>\n      <th>sexo</th>\n      <th></th>\n      <th></th>\n    </tr>\n  </thead>\n  <tbody>\n    <tr>\n      <th>0.0</th>\n      <td>84.864978</td>\n      <td>15.135022</td>\n    </tr>\n    <tr>\n      <th>1.0</th>\n      <td>94.277022</td>\n      <td>5.722978</td>\n    </tr>\n  </tbody>\n</table>\n</div>"
     },
     "metadata": {},
     "output_type": "display_data"
    },
    {
     "name": "stdout",
     "output_type": "stream",
     "text": [
      "\n",
      "Normalizado pelas colunas: \n"
     ]
    },
    {
     "data": {
      "text/plain": "depression        0.0       1.0\nsexo                           \n0.0         49.083299  73.90479\n1.0         50.916701  26.09521",
      "text/html": "<div>\n<style scoped>\n    .dataframe tbody tr th:only-of-type {\n        vertical-align: middle;\n    }\n\n    .dataframe tbody tr th {\n        vertical-align: top;\n    }\n\n    .dataframe thead th {\n        text-align: right;\n    }\n</style>\n<table border=\"1\" class=\"dataframe\">\n  <thead>\n    <tr style=\"text-align: right;\">\n      <th>depression</th>\n      <th>0.0</th>\n      <th>1.0</th>\n    </tr>\n    <tr>\n      <th>sexo</th>\n      <th></th>\n      <th></th>\n    </tr>\n  </thead>\n  <tbody>\n    <tr>\n      <th>0.0</th>\n      <td>49.083299</td>\n      <td>73.90479</td>\n    </tr>\n    <tr>\n      <th>1.0</th>\n      <td>50.916701</td>\n      <td>26.09521</td>\n    </tr>\n  </tbody>\n</table>\n</div>"
     },
     "metadata": {},
     "output_type": "display_data"
    },
    {
     "name": "stdout",
     "output_type": "stream",
     "text": [
      "chi2: 1510.686545030145, p_value: 0.0, dof: 1\n",
      "-------------------------------------------------------------\n",
      "\n"
     ]
    },
    {
     "data": {
      "text/markdown": "### estado_civil"
     },
     "metadata": {},
     "output_type": "display_data"
    },
    {
     "data": {
      "text/plain": "depression      0.0   1.0\nestado_civil             \n0.0           22556  3383\n1.0           35260  3465",
      "text/html": "<div>\n<style scoped>\n    .dataframe tbody tr th:only-of-type {\n        vertical-align: middle;\n    }\n\n    .dataframe tbody tr th {\n        vertical-align: top;\n    }\n\n    .dataframe thead th {\n        text-align: right;\n    }\n</style>\n<table border=\"1\" class=\"dataframe\">\n  <thead>\n    <tr style=\"text-align: right;\">\n      <th>depression</th>\n      <th>0.0</th>\n      <th>1.0</th>\n    </tr>\n    <tr>\n      <th>estado_civil</th>\n      <th></th>\n      <th></th>\n    </tr>\n  </thead>\n  <tbody>\n    <tr>\n      <th>0.0</th>\n      <td>22556</td>\n      <td>3383</td>\n    </tr>\n    <tr>\n      <th>1.0</th>\n      <td>35260</td>\n      <td>3465</td>\n    </tr>\n  </tbody>\n</table>\n</div>"
     },
     "metadata": {},
     "output_type": "display_data"
    },
    {
     "name": "stdout",
     "output_type": "stream",
     "text": [
      "Normalizado pelas linhas: \n"
     ]
    },
    {
     "data": {
      "text/plain": "depression          0.0        1.0\nestado_civil                      \n0.0           86.957863  13.042137\n1.0           91.052292   8.947708",
      "text/html": "<div>\n<style scoped>\n    .dataframe tbody tr th:only-of-type {\n        vertical-align: middle;\n    }\n\n    .dataframe tbody tr th {\n        vertical-align: top;\n    }\n\n    .dataframe thead th {\n        text-align: right;\n    }\n</style>\n<table border=\"1\" class=\"dataframe\">\n  <thead>\n    <tr style=\"text-align: right;\">\n      <th>depression</th>\n      <th>0.0</th>\n      <th>1.0</th>\n    </tr>\n    <tr>\n      <th>estado_civil</th>\n      <th></th>\n      <th></th>\n    </tr>\n  </thead>\n  <tbody>\n    <tr>\n      <th>0.0</th>\n      <td>86.957863</td>\n      <td>13.042137</td>\n    </tr>\n    <tr>\n      <th>1.0</th>\n      <td>91.052292</td>\n      <td>8.947708</td>\n    </tr>\n  </tbody>\n</table>\n</div>"
     },
     "metadata": {},
     "output_type": "display_data"
    },
    {
     "name": "stdout",
     "output_type": "stream",
     "text": [
      "\n",
      "Normalizado pelas colunas: \n"
     ]
    },
    {
     "data": {
      "text/plain": "depression          0.0        1.0\nestado_civil                      \n0.0           39.013422  49.401285\n1.0           60.986578  50.598715",
      "text/html": "<div>\n<style scoped>\n    .dataframe tbody tr th:only-of-type {\n        vertical-align: middle;\n    }\n\n    .dataframe tbody tr th {\n        vertical-align: top;\n    }\n\n    .dataframe thead th {\n        text-align: right;\n    }\n</style>\n<table border=\"1\" class=\"dataframe\">\n  <thead>\n    <tr style=\"text-align: right;\">\n      <th>depression</th>\n      <th>0.0</th>\n      <th>1.0</th>\n    </tr>\n    <tr>\n      <th>estado_civil</th>\n      <th></th>\n      <th></th>\n    </tr>\n  </thead>\n  <tbody>\n    <tr>\n      <th>0.0</th>\n      <td>39.013422</td>\n      <td>49.401285</td>\n    </tr>\n    <tr>\n      <th>1.0</th>\n      <td>60.986578</td>\n      <td>50.598715</td>\n    </tr>\n  </tbody>\n</table>\n</div>"
     },
     "metadata": {},
     "output_type": "display_data"
    },
    {
     "name": "stdout",
     "output_type": "stream",
     "text": [
      "chi2: 275.03131373157163, p_value: 9.086425443829038e-62, dof: 1\n",
      "-------------------------------------------------------------\n",
      "\n"
     ]
    },
    {
     "data": {
      "text/markdown": "### class_renda"
     },
     "metadata": {},
     "output_type": "display_data"
    },
    {
     "data": {
      "text/plain": "depression     0.0   1.0\nclass_renda             \n0.0          32900  4412\n1.0          24898  2436",
      "text/html": "<div>\n<style scoped>\n    .dataframe tbody tr th:only-of-type {\n        vertical-align: middle;\n    }\n\n    .dataframe tbody tr th {\n        vertical-align: top;\n    }\n\n    .dataframe thead th {\n        text-align: right;\n    }\n</style>\n<table border=\"1\" class=\"dataframe\">\n  <thead>\n    <tr style=\"text-align: right;\">\n      <th>depression</th>\n      <th>0.0</th>\n      <th>1.0</th>\n    </tr>\n    <tr>\n      <th>class_renda</th>\n      <th></th>\n      <th></th>\n    </tr>\n  </thead>\n  <tbody>\n    <tr>\n      <th>0.0</th>\n      <td>32900</td>\n      <td>4412</td>\n    </tr>\n    <tr>\n      <th>1.0</th>\n      <td>24898</td>\n      <td>2436</td>\n    </tr>\n  </tbody>\n</table>\n</div>"
     },
     "metadata": {},
     "output_type": "display_data"
    },
    {
     "name": "stdout",
     "output_type": "stream",
     "text": [
      "Normalizado pelas linhas: \n"
     ]
    },
    {
     "data": {
      "text/plain": "depression         0.0        1.0\nclass_renda                      \n0.0          88.175386  11.824614\n1.0          91.088022   8.911978",
      "text/html": "<div>\n<style scoped>\n    .dataframe tbody tr th:only-of-type {\n        vertical-align: middle;\n    }\n\n    .dataframe tbody tr th {\n        vertical-align: top;\n    }\n\n    .dataframe thead th {\n        text-align: right;\n    }\n</style>\n<table border=\"1\" class=\"dataframe\">\n  <thead>\n    <tr style=\"text-align: right;\">\n      <th>depression</th>\n      <th>0.0</th>\n      <th>1.0</th>\n    </tr>\n    <tr>\n      <th>class_renda</th>\n      <th></th>\n      <th></th>\n    </tr>\n  </thead>\n  <tbody>\n    <tr>\n      <th>0.0</th>\n      <td>88.175386</td>\n      <td>11.824614</td>\n    </tr>\n    <tr>\n      <th>1.0</th>\n      <td>91.088022</td>\n      <td>8.911978</td>\n    </tr>\n  </tbody>\n</table>\n</div>"
     },
     "metadata": {},
     "output_type": "display_data"
    },
    {
     "name": "stdout",
     "output_type": "stream",
     "text": [
      "\n",
      "Normalizado pelas colunas: \n"
     ]
    },
    {
     "data": {
      "text/plain": "depression         0.0       1.0\nclass_renda                     \n0.0          56.922385  64.42757\n1.0          43.077615  35.57243",
      "text/html": "<div>\n<style scoped>\n    .dataframe tbody tr th:only-of-type {\n        vertical-align: middle;\n    }\n\n    .dataframe tbody tr th {\n        vertical-align: top;\n    }\n\n    .dataframe thead th {\n        text-align: right;\n    }\n</style>\n<table border=\"1\" class=\"dataframe\">\n  <thead>\n    <tr style=\"text-align: right;\">\n      <th>depression</th>\n      <th>0.0</th>\n      <th>1.0</th>\n    </tr>\n    <tr>\n      <th>class_renda</th>\n      <th></th>\n      <th></th>\n    </tr>\n  </thead>\n  <tbody>\n    <tr>\n      <th>0.0</th>\n      <td>56.922385</td>\n      <td>64.42757</td>\n    </tr>\n    <tr>\n      <th>1.0</th>\n      <td>43.077615</td>\n      <td>35.57243</td>\n    </tr>\n  </tbody>\n</table>\n</div>"
     },
     "metadata": {},
     "output_type": "display_data"
    },
    {
     "name": "stdout",
     "output_type": "stream",
     "text": [
      "chi2: 141.31534805594964, p_value: 1.3727352689644443e-32, dof: 1\n",
      "-------------------------------------------------------------\n",
      "\n"
     ]
    },
    {
     "data": {
      "text/markdown": "### r_norte"
     },
     "metadata": {},
     "output_type": "display_data"
    },
    {
     "data": {
      "text/plain": "depression    0.0   1.0\nr_norte                \n0           45808  5652\n1           12008  1196",
      "text/html": "<div>\n<style scoped>\n    .dataframe tbody tr th:only-of-type {\n        vertical-align: middle;\n    }\n\n    .dataframe tbody tr th {\n        vertical-align: top;\n    }\n\n    .dataframe thead th {\n        text-align: right;\n    }\n</style>\n<table border=\"1\" class=\"dataframe\">\n  <thead>\n    <tr style=\"text-align: right;\">\n      <th>depression</th>\n      <th>0.0</th>\n      <th>1.0</th>\n    </tr>\n    <tr>\n      <th>r_norte</th>\n      <th></th>\n      <th></th>\n    </tr>\n  </thead>\n  <tbody>\n    <tr>\n      <th>0</th>\n      <td>45808</td>\n      <td>5652</td>\n    </tr>\n    <tr>\n      <th>1</th>\n      <td>12008</td>\n      <td>1196</td>\n    </tr>\n  </tbody>\n</table>\n</div>"
     },
     "metadata": {},
     "output_type": "display_data"
    },
    {
     "name": "stdout",
     "output_type": "stream",
     "text": [
      "Normalizado pelas linhas: \n"
     ]
    },
    {
     "data": {
      "text/plain": "depression        0.0        1.0\nr_norte                         \n0           89.016712  10.983288\n1           90.942139   9.057861",
      "text/html": "<div>\n<style scoped>\n    .dataframe tbody tr th:only-of-type {\n        vertical-align: middle;\n    }\n\n    .dataframe tbody tr th {\n        vertical-align: top;\n    }\n\n    .dataframe thead th {\n        text-align: right;\n    }\n</style>\n<table border=\"1\" class=\"dataframe\">\n  <thead>\n    <tr style=\"text-align: right;\">\n      <th>depression</th>\n      <th>0.0</th>\n      <th>1.0</th>\n    </tr>\n    <tr>\n      <th>r_norte</th>\n      <th></th>\n      <th></th>\n    </tr>\n  </thead>\n  <tbody>\n    <tr>\n      <th>0</th>\n      <td>89.016712</td>\n      <td>10.983288</td>\n    </tr>\n    <tr>\n      <th>1</th>\n      <td>90.942139</td>\n      <td>9.057861</td>\n    </tr>\n  </tbody>\n</table>\n</div>"
     },
     "metadata": {},
     "output_type": "display_data"
    },
    {
     "name": "stdout",
     "output_type": "stream",
     "text": [
      "\n",
      "Normalizado pelas colunas: \n"
     ]
    },
    {
     "data": {
      "text/plain": "depression        0.0        1.0\nr_norte                         \n0           79.230663  82.535047\n1           20.769337  17.464953",
      "text/html": "<div>\n<style scoped>\n    .dataframe tbody tr th:only-of-type {\n        vertical-align: middle;\n    }\n\n    .dataframe tbody tr th {\n        vertical-align: top;\n    }\n\n    .dataframe thead th {\n        text-align: right;\n    }\n</style>\n<table border=\"1\" class=\"dataframe\">\n  <thead>\n    <tr style=\"text-align: right;\">\n      <th>depression</th>\n      <th>0.0</th>\n      <th>1.0</th>\n    </tr>\n    <tr>\n      <th>r_norte</th>\n      <th></th>\n      <th></th>\n    </tr>\n  </thead>\n  <tbody>\n    <tr>\n      <th>0</th>\n      <td>79.230663</td>\n      <td>82.535047</td>\n    </tr>\n    <tr>\n      <th>1</th>\n      <td>20.769337</td>\n      <td>17.464953</td>\n    </tr>\n  </tbody>\n</table>\n</div>"
     },
     "metadata": {},
     "output_type": "display_data"
    },
    {
     "name": "stdout",
     "output_type": "stream",
     "text": [
      "chi2: 41.14149473328134, p_value: 1.4159808292210626e-10, dof: 1\n",
      "-------------------------------------------------------------\n",
      "\n"
     ]
    },
    {
     "data": {
      "text/markdown": "### r_nordeste"
     },
     "metadata": {},
     "output_type": "display_data"
    },
    {
     "data": {
      "text/plain": "depression    0.0   1.0\nr_nordeste             \n0           37739  4355\n1           20077  2493",
      "text/html": "<div>\n<style scoped>\n    .dataframe tbody tr th:only-of-type {\n        vertical-align: middle;\n    }\n\n    .dataframe tbody tr th {\n        vertical-align: top;\n    }\n\n    .dataframe thead th {\n        text-align: right;\n    }\n</style>\n<table border=\"1\" class=\"dataframe\">\n  <thead>\n    <tr style=\"text-align: right;\">\n      <th>depression</th>\n      <th>0.0</th>\n      <th>1.0</th>\n    </tr>\n    <tr>\n      <th>r_nordeste</th>\n      <th></th>\n      <th></th>\n    </tr>\n  </thead>\n  <tbody>\n    <tr>\n      <th>0</th>\n      <td>37739</td>\n      <td>4355</td>\n    </tr>\n    <tr>\n      <th>1</th>\n      <td>20077</td>\n      <td>2493</td>\n    </tr>\n  </tbody>\n</table>\n</div>"
     },
     "metadata": {},
     "output_type": "display_data"
    },
    {
     "name": "stdout",
     "output_type": "stream",
     "text": [
      "Normalizado pelas linhas: \n"
     ]
    },
    {
     "data": {
      "text/plain": "depression        0.0        1.0\nr_nordeste                      \n0           89.654107  10.345893\n1           88.954364  11.045636",
      "text/html": "<div>\n<style scoped>\n    .dataframe tbody tr th:only-of-type {\n        vertical-align: middle;\n    }\n\n    .dataframe tbody tr th {\n        vertical-align: top;\n    }\n\n    .dataframe thead th {\n        text-align: right;\n    }\n</style>\n<table border=\"1\" class=\"dataframe\">\n  <thead>\n    <tr style=\"text-align: right;\">\n      <th>depression</th>\n      <th>0.0</th>\n      <th>1.0</th>\n    </tr>\n    <tr>\n      <th>r_nordeste</th>\n      <th></th>\n      <th></th>\n    </tr>\n  </thead>\n  <tbody>\n    <tr>\n      <th>0</th>\n      <td>89.654107</td>\n      <td>10.345893</td>\n    </tr>\n    <tr>\n      <th>1</th>\n      <td>88.954364</td>\n      <td>11.045636</td>\n    </tr>\n  </tbody>\n</table>\n</div>"
     },
     "metadata": {},
     "output_type": "display_data"
    },
    {
     "name": "stdout",
     "output_type": "stream",
     "text": [
      "\n",
      "Normalizado pelas colunas: \n"
     ]
    },
    {
     "data": {
      "text/plain": "depression        0.0       1.0\nr_nordeste                     \n0           65.274319  63.59521\n1           34.725681  36.40479",
      "text/html": "<div>\n<style scoped>\n    .dataframe tbody tr th:only-of-type {\n        vertical-align: middle;\n    }\n\n    .dataframe tbody tr th {\n        vertical-align: top;\n    }\n\n    .dataframe thead th {\n        text-align: right;\n    }\n</style>\n<table border=\"1\" class=\"dataframe\">\n  <thead>\n    <tr style=\"text-align: right;\">\n      <th>depression</th>\n      <th>0.0</th>\n      <th>1.0</th>\n    </tr>\n    <tr>\n      <th>r_nordeste</th>\n      <th></th>\n      <th></th>\n    </tr>\n  </thead>\n  <tbody>\n    <tr>\n      <th>0</th>\n      <td>65.274319</td>\n      <td>63.59521</td>\n    </tr>\n    <tr>\n      <th>1</th>\n      <td>34.725681</td>\n      <td>36.40479</td>\n    </tr>\n  </tbody>\n</table>\n</div>"
     },
     "metadata": {},
     "output_type": "display_data"
    },
    {
     "name": "stdout",
     "output_type": "stream",
     "text": [
      "chi2: 7.597662418084701, p_value: 0.0058444025656387575, dof: 1\n",
      "-------------------------------------------------------------\n",
      "\n"
     ]
    },
    {
     "data": {
      "text/markdown": "### r_sudeste"
     },
     "metadata": {},
     "output_type": "display_data"
    },
    {
     "data": {
      "text/plain": "depression    0.0   1.0\nr_sudeste              \n0           45973  5308\n1           11843  1540",
      "text/html": "<div>\n<style scoped>\n    .dataframe tbody tr th:only-of-type {\n        vertical-align: middle;\n    }\n\n    .dataframe tbody tr th {\n        vertical-align: top;\n    }\n\n    .dataframe thead th {\n        text-align: right;\n    }\n</style>\n<table border=\"1\" class=\"dataframe\">\n  <thead>\n    <tr style=\"text-align: right;\">\n      <th>depression</th>\n      <th>0.0</th>\n      <th>1.0</th>\n    </tr>\n    <tr>\n      <th>r_sudeste</th>\n      <th></th>\n      <th></th>\n    </tr>\n  </thead>\n  <tbody>\n    <tr>\n      <th>0</th>\n      <td>45973</td>\n      <td>5308</td>\n    </tr>\n    <tr>\n      <th>1</th>\n      <td>11843</td>\n      <td>1540</td>\n    </tr>\n  </tbody>\n</table>\n</div>"
     },
     "metadata": {},
     "output_type": "display_data"
    },
    {
     "name": "stdout",
     "output_type": "stream",
     "text": [
      "Normalizado pelas linhas: \n"
     ]
    },
    {
     "data": {
      "text/plain": "depression        0.0        1.0\nr_sudeste                       \n0           89.649188  10.350812\n1           88.492864  11.507136",
      "text/html": "<div>\n<style scoped>\n    .dataframe tbody tr th:only-of-type {\n        vertical-align: middle;\n    }\n\n    .dataframe tbody tr th {\n        vertical-align: top;\n    }\n\n    .dataframe thead th {\n        text-align: right;\n    }\n</style>\n<table border=\"1\" class=\"dataframe\">\n  <thead>\n    <tr style=\"text-align: right;\">\n      <th>depression</th>\n      <th>0.0</th>\n      <th>1.0</th>\n    </tr>\n    <tr>\n      <th>r_sudeste</th>\n      <th></th>\n      <th></th>\n    </tr>\n  </thead>\n  <tbody>\n    <tr>\n      <th>0</th>\n      <td>89.649188</td>\n      <td>10.350812</td>\n    </tr>\n    <tr>\n      <th>1</th>\n      <td>88.492864</td>\n      <td>11.507136</td>\n    </tr>\n  </tbody>\n</table>\n</div>"
     },
     "metadata": {},
     "output_type": "display_data"
    },
    {
     "name": "stdout",
     "output_type": "stream",
     "text": [
      "\n",
      "Normalizado pelas colunas: \n"
     ]
    },
    {
     "data": {
      "text/plain": "depression        0.0        1.0\nr_sudeste                       \n0           79.516051  77.511682\n1           20.483949  22.488318",
      "text/html": "<div>\n<style scoped>\n    .dataframe tbody tr th:only-of-type {\n        vertical-align: middle;\n    }\n\n    .dataframe tbody tr th {\n        vertical-align: top;\n    }\n\n    .dataframe thead th {\n        text-align: right;\n    }\n</style>\n<table border=\"1\" class=\"dataframe\">\n  <thead>\n    <tr style=\"text-align: right;\">\n      <th>depression</th>\n      <th>0.0</th>\n      <th>1.0</th>\n    </tr>\n    <tr>\n      <th>r_sudeste</th>\n      <th></th>\n      <th></th>\n    </tr>\n  </thead>\n  <tbody>\n    <tr>\n      <th>0</th>\n      <td>79.516051</td>\n      <td>77.511682</td>\n    </tr>\n    <tr>\n      <th>1</th>\n      <td>20.483949</td>\n      <td>22.488318</td>\n    </tr>\n  </tbody>\n</table>\n</div>"
     },
     "metadata": {},
     "output_type": "display_data"
    },
    {
     "name": "stdout",
     "output_type": "stream",
     "text": [
      "chi2: 14.987169196237247, p_value: 0.00010824467064907862, dof: 1\n",
      "-------------------------------------------------------------\n",
      "\n"
     ]
    },
    {
     "data": {
      "text/markdown": "### r_sul"
     },
     "metadata": {},
     "output_type": "display_data"
    },
    {
     "data": {
      "text/plain": "depression    0.0   1.0\nr_sul                  \n0           50750  6074\n1            7066   774",
      "text/html": "<div>\n<style scoped>\n    .dataframe tbody tr th:only-of-type {\n        vertical-align: middle;\n    }\n\n    .dataframe tbody tr th {\n        vertical-align: top;\n    }\n\n    .dataframe thead th {\n        text-align: right;\n    }\n</style>\n<table border=\"1\" class=\"dataframe\">\n  <thead>\n    <tr style=\"text-align: right;\">\n      <th>depression</th>\n      <th>0.0</th>\n      <th>1.0</th>\n    </tr>\n    <tr>\n      <th>r_sul</th>\n      <th></th>\n      <th></th>\n    </tr>\n  </thead>\n  <tbody>\n    <tr>\n      <th>0</th>\n      <td>50750</td>\n      <td>6074</td>\n    </tr>\n    <tr>\n      <th>1</th>\n      <td>7066</td>\n      <td>774</td>\n    </tr>\n  </tbody>\n</table>\n</div>"
     },
     "metadata": {},
     "output_type": "display_data"
    },
    {
     "name": "stdout",
     "output_type": "stream",
     "text": [
      "Normalizado pelas linhas: \n"
     ]
    },
    {
     "data": {
      "text/plain": "depression        0.0        1.0\nr_sul                           \n0           89.310855  10.689145\n1           90.127551   9.872449",
      "text/html": "<div>\n<style scoped>\n    .dataframe tbody tr th:only-of-type {\n        vertical-align: middle;\n    }\n\n    .dataframe tbody tr th {\n        vertical-align: top;\n    }\n\n    .dataframe thead th {\n        text-align: right;\n    }\n</style>\n<table border=\"1\" class=\"dataframe\">\n  <thead>\n    <tr style=\"text-align: right;\">\n      <th>depression</th>\n      <th>0.0</th>\n      <th>1.0</th>\n    </tr>\n    <tr>\n      <th>r_sul</th>\n      <th></th>\n      <th></th>\n    </tr>\n  </thead>\n  <tbody>\n    <tr>\n      <th>0</th>\n      <td>89.310855</td>\n      <td>10.689145</td>\n    </tr>\n    <tr>\n      <th>1</th>\n      <td>90.127551</td>\n      <td>9.872449</td>\n    </tr>\n  </tbody>\n</table>\n</div>"
     },
     "metadata": {},
     "output_type": "display_data"
    },
    {
     "name": "stdout",
     "output_type": "stream",
     "text": [
      "\n",
      "Normalizado pelas colunas: \n"
     ]
    },
    {
     "data": {
      "text/plain": "depression       0.0       1.0\nr_sul                         \n0           87.77847  88.69743\n1           12.22153  11.30257",
      "text/html": "<div>\n<style scoped>\n    .dataframe tbody tr th:only-of-type {\n        vertical-align: middle;\n    }\n\n    .dataframe tbody tr th {\n        vertical-align: top;\n    }\n\n    .dataframe thead th {\n        text-align: right;\n    }\n</style>\n<table border=\"1\" class=\"dataframe\">\n  <thead>\n    <tr style=\"text-align: right;\">\n      <th>depression</th>\n      <th>0.0</th>\n      <th>1.0</th>\n    </tr>\n    <tr>\n      <th>r_sul</th>\n      <th></th>\n      <th></th>\n    </tr>\n  </thead>\n  <tbody>\n    <tr>\n      <th>0</th>\n      <td>87.77847</td>\n      <td>88.69743</td>\n    </tr>\n    <tr>\n      <th>1</th>\n      <td>12.22153</td>\n      <td>11.30257</td>\n    </tr>\n  </tbody>\n</table>\n</div>"
     },
     "metadata": {},
     "output_type": "display_data"
    },
    {
     "name": "stdout",
     "output_type": "stream",
     "text": [
      "chi2: 4.853108204503333, p_value: 0.027596361101835217, dof: 1\n",
      "-------------------------------------------------------------\n",
      "\n"
     ]
    },
    {
     "data": {
      "text/markdown": "### r_centro_oeste"
     },
     "metadata": {},
     "output_type": "display_data"
    },
    {
     "data": {
      "text/plain": "depression        0.0   1.0\nr_centro_oeste             \n0               50994  6003\n1                6822   845",
      "text/html": "<div>\n<style scoped>\n    .dataframe tbody tr th:only-of-type {\n        vertical-align: middle;\n    }\n\n    .dataframe tbody tr th {\n        vertical-align: top;\n    }\n\n    .dataframe thead th {\n        text-align: right;\n    }\n</style>\n<table border=\"1\" class=\"dataframe\">\n  <thead>\n    <tr style=\"text-align: right;\">\n      <th>depression</th>\n      <th>0.0</th>\n      <th>1.0</th>\n    </tr>\n    <tr>\n      <th>r_centro_oeste</th>\n      <th></th>\n      <th></th>\n    </tr>\n  </thead>\n  <tbody>\n    <tr>\n      <th>0</th>\n      <td>50994</td>\n      <td>6003</td>\n    </tr>\n    <tr>\n      <th>1</th>\n      <td>6822</td>\n      <td>845</td>\n    </tr>\n  </tbody>\n</table>\n</div>"
     },
     "metadata": {},
     "output_type": "display_data"
    },
    {
     "name": "stdout",
     "output_type": "stream",
     "text": [
      "Normalizado pelas linhas: \n"
     ]
    },
    {
     "data": {
      "text/plain": "depression            0.0        1.0\nr_centro_oeste                      \n0               89.467867  10.532133\n1               88.978740  11.021260",
      "text/html": "<div>\n<style scoped>\n    .dataframe tbody tr th:only-of-type {\n        vertical-align: middle;\n    }\n\n    .dataframe tbody tr th {\n        vertical-align: top;\n    }\n\n    .dataframe thead th {\n        text-align: right;\n    }\n</style>\n<table border=\"1\" class=\"dataframe\">\n  <thead>\n    <tr style=\"text-align: right;\">\n      <th>depression</th>\n      <th>0.0</th>\n      <th>1.0</th>\n    </tr>\n    <tr>\n      <th>r_centro_oeste</th>\n      <th></th>\n      <th></th>\n    </tr>\n  </thead>\n  <tbody>\n    <tr>\n      <th>0</th>\n      <td>89.467867</td>\n      <td>10.532133</td>\n    </tr>\n    <tr>\n      <th>1</th>\n      <td>88.978740</td>\n      <td>11.021260</td>\n    </tr>\n  </tbody>\n</table>\n</div>"
     },
     "metadata": {},
     "output_type": "display_data"
    },
    {
     "name": "stdout",
     "output_type": "stream",
     "text": [
      "\n",
      "Normalizado pelas colunas: \n"
     ]
    },
    {
     "data": {
      "text/plain": "depression            0.0        1.0\nr_centro_oeste                      \n0               88.200498  87.660631\n1               11.799502  12.339369",
      "text/html": "<div>\n<style scoped>\n    .dataframe tbody tr th:only-of-type {\n        vertical-align: middle;\n    }\n\n    .dataframe tbody tr th {\n        vertical-align: top;\n    }\n\n    .dataframe thead th {\n        text-align: right;\n    }\n</style>\n<table border=\"1\" class=\"dataframe\">\n  <thead>\n    <tr style=\"text-align: right;\">\n      <th>depression</th>\n      <th>0.0</th>\n      <th>1.0</th>\n    </tr>\n    <tr>\n      <th>r_centro_oeste</th>\n      <th></th>\n      <th></th>\n    </tr>\n  </thead>\n  <tbody>\n    <tr>\n      <th>0</th>\n      <td>88.200498</td>\n      <td>87.660631</td>\n    </tr>\n    <tr>\n      <th>1</th>\n      <td>11.799502</td>\n      <td>12.339369</td>\n    </tr>\n  </tbody>\n</table>\n</div>"
     },
     "metadata": {},
     "output_type": "display_data"
    },
    {
     "name": "stdout",
     "output_type": "stream",
     "text": [
      "chi2: 1.7075401708560198, p_value: 0.19130483203196977, dof: 1\n",
      "-------------------------------------------------------------\n",
      "\n"
     ]
    },
    {
     "data": {
      "text/markdown": "### escolaridade"
     },
     "metadata": {},
     "output_type": "display_data"
    },
    {
     "data": {
      "text/plain": "depression      0.0   1.0\nescolaridade             \n1.0           18260  2392\n2.0           20809  2278\n3.0            8755  1002\n4.0            2815   309",
      "text/html": "<div>\n<style scoped>\n    .dataframe tbody tr th:only-of-type {\n        vertical-align: middle;\n    }\n\n    .dataframe tbody tr th {\n        vertical-align: top;\n    }\n\n    .dataframe thead th {\n        text-align: right;\n    }\n</style>\n<table border=\"1\" class=\"dataframe\">\n  <thead>\n    <tr style=\"text-align: right;\">\n      <th>depression</th>\n      <th>0.0</th>\n      <th>1.0</th>\n    </tr>\n    <tr>\n      <th>escolaridade</th>\n      <th></th>\n      <th></th>\n    </tr>\n  </thead>\n  <tbody>\n    <tr>\n      <th>1.0</th>\n      <td>18260</td>\n      <td>2392</td>\n    </tr>\n    <tr>\n      <th>2.0</th>\n      <td>20809</td>\n      <td>2278</td>\n    </tr>\n    <tr>\n      <th>3.0</th>\n      <td>8755</td>\n      <td>1002</td>\n    </tr>\n    <tr>\n      <th>4.0</th>\n      <td>2815</td>\n      <td>309</td>\n    </tr>\n  </tbody>\n</table>\n</div>"
     },
     "metadata": {},
     "output_type": "display_data"
    },
    {
     "name": "stdout",
     "output_type": "stream",
     "text": [
      "Normalizado pelas linhas: \n"
     ]
    },
    {
     "data": {
      "text/plain": "depression          0.0        1.0\nescolaridade                      \n1.0           88.417587  11.582413\n2.0           90.132975   9.867025\n3.0           89.730450  10.269550\n4.0           90.108835   9.891165",
      "text/html": "<div>\n<style scoped>\n    .dataframe tbody tr th:only-of-type {\n        vertical-align: middle;\n    }\n\n    .dataframe tbody tr th {\n        vertical-align: top;\n    }\n\n    .dataframe thead th {\n        text-align: right;\n    }\n</style>\n<table border=\"1\" class=\"dataframe\">\n  <thead>\n    <tr style=\"text-align: right;\">\n      <th>depression</th>\n      <th>0.0</th>\n      <th>1.0</th>\n    </tr>\n    <tr>\n      <th>escolaridade</th>\n      <th></th>\n      <th></th>\n    </tr>\n  </thead>\n  <tbody>\n    <tr>\n      <th>1.0</th>\n      <td>88.417587</td>\n      <td>11.582413</td>\n    </tr>\n    <tr>\n      <th>2.0</th>\n      <td>90.132975</td>\n      <td>9.867025</td>\n    </tr>\n    <tr>\n      <th>3.0</th>\n      <td>89.730450</td>\n      <td>10.269550</td>\n    </tr>\n    <tr>\n      <th>4.0</th>\n      <td>90.108835</td>\n      <td>9.891165</td>\n    </tr>\n  </tbody>\n</table>\n</div>"
     },
     "metadata": {},
     "output_type": "display_data"
    },
    {
     "name": "stdout",
     "output_type": "stream",
     "text": [
      "\n",
      "Normalizado pelas colunas: \n"
     ]
    },
    {
     "data": {
      "text/plain": "depression          0.0        1.0\nescolaridade                      \n1.0           36.059164  39.993312\n2.0           41.092834  38.087276\n3.0           17.289046  16.753051\n4.0            5.558957   5.166360",
      "text/html": "<div>\n<style scoped>\n    .dataframe tbody tr th:only-of-type {\n        vertical-align: middle;\n    }\n\n    .dataframe tbody tr th {\n        vertical-align: top;\n    }\n\n    .dataframe thead th {\n        text-align: right;\n    }\n</style>\n<table border=\"1\" class=\"dataframe\">\n  <thead>\n    <tr style=\"text-align: right;\">\n      <th>depression</th>\n      <th>0.0</th>\n      <th>1.0</th>\n    </tr>\n    <tr>\n      <th>escolaridade</th>\n      <th></th>\n      <th></th>\n    </tr>\n  </thead>\n  <tbody>\n    <tr>\n      <th>1.0</th>\n      <td>36.059164</td>\n      <td>39.993312</td>\n    </tr>\n    <tr>\n      <th>2.0</th>\n      <td>41.092834</td>\n      <td>38.087276</td>\n    </tr>\n    <tr>\n      <th>3.0</th>\n      <td>17.289046</td>\n      <td>16.753051</td>\n    </tr>\n    <tr>\n      <th>4.0</th>\n      <td>5.558957</td>\n      <td>5.166360</td>\n    </tr>\n  </tbody>\n</table>\n</div>"
     },
     "metadata": {},
     "output_type": "display_data"
    },
    {
     "name": "stdout",
     "output_type": "stream",
     "text": [
      "chi2: 36.93528801226495, p_value: 4.748747268297748e-08, dof: 3\n",
      "-------------------------------------------------------------\n",
      "\n"
     ]
    },
    {
     "data": {
      "text/markdown": "### upf"
     },
     "metadata": {},
     "output_type": "display_data"
    },
    {
     "data": {
      "text/plain": "depression    0.0   1.0\nupf                    \n0            9318  1038\n1           11888  1377\n2           11988  1382\n3            9873  1183\n4            6876   824\n5            3936   499\n6            2019   262\n7            1034   148\n8             463    77\n9             251    40\n10            170    18",
      "text/html": "<div>\n<style scoped>\n    .dataframe tbody tr th:only-of-type {\n        vertical-align: middle;\n    }\n\n    .dataframe tbody tr th {\n        vertical-align: top;\n    }\n\n    .dataframe thead th {\n        text-align: right;\n    }\n</style>\n<table border=\"1\" class=\"dataframe\">\n  <thead>\n    <tr style=\"text-align: right;\">\n      <th>depression</th>\n      <th>0.0</th>\n      <th>1.0</th>\n    </tr>\n    <tr>\n      <th>upf</th>\n      <th></th>\n      <th></th>\n    </tr>\n  </thead>\n  <tbody>\n    <tr>\n      <th>0</th>\n      <td>9318</td>\n      <td>1038</td>\n    </tr>\n    <tr>\n      <th>1</th>\n      <td>11888</td>\n      <td>1377</td>\n    </tr>\n    <tr>\n      <th>2</th>\n      <td>11988</td>\n      <td>1382</td>\n    </tr>\n    <tr>\n      <th>3</th>\n      <td>9873</td>\n      <td>1183</td>\n    </tr>\n    <tr>\n      <th>4</th>\n      <td>6876</td>\n      <td>824</td>\n    </tr>\n    <tr>\n      <th>5</th>\n      <td>3936</td>\n      <td>499</td>\n    </tr>\n    <tr>\n      <th>6</th>\n      <td>2019</td>\n      <td>262</td>\n    </tr>\n    <tr>\n      <th>7</th>\n      <td>1034</td>\n      <td>148</td>\n    </tr>\n    <tr>\n      <th>8</th>\n      <td>463</td>\n      <td>77</td>\n    </tr>\n    <tr>\n      <th>9</th>\n      <td>251</td>\n      <td>40</td>\n    </tr>\n    <tr>\n      <th>10</th>\n      <td>170</td>\n      <td>18</td>\n    </tr>\n  </tbody>\n</table>\n</div>"
     },
     "metadata": {},
     "output_type": "display_data"
    },
    {
     "name": "stdout",
     "output_type": "stream",
     "text": [
      "Normalizado pelas linhas: \n"
     ]
    },
    {
     "data": {
      "text/plain": "depression        0.0        1.0\nupf                             \n0           89.976825  10.023175\n1           89.619299  10.380701\n2           89.663426  10.336574\n3           89.299928  10.700072\n4           89.298701  10.701299\n5           88.748591  11.251409\n6           88.513810  11.486190\n7           87.478849  12.521151\n8           85.740741  14.259259\n9           86.254296  13.745704\n10          90.425532   9.574468",
      "text/html": "<div>\n<style scoped>\n    .dataframe tbody tr th:only-of-type {\n        vertical-align: middle;\n    }\n\n    .dataframe tbody tr th {\n        vertical-align: top;\n    }\n\n    .dataframe thead th {\n        text-align: right;\n    }\n</style>\n<table border=\"1\" class=\"dataframe\">\n  <thead>\n    <tr style=\"text-align: right;\">\n      <th>depression</th>\n      <th>0.0</th>\n      <th>1.0</th>\n    </tr>\n    <tr>\n      <th>upf</th>\n      <th></th>\n      <th></th>\n    </tr>\n  </thead>\n  <tbody>\n    <tr>\n      <th>0</th>\n      <td>89.976825</td>\n      <td>10.023175</td>\n    </tr>\n    <tr>\n      <th>1</th>\n      <td>89.619299</td>\n      <td>10.380701</td>\n    </tr>\n    <tr>\n      <th>2</th>\n      <td>89.663426</td>\n      <td>10.336574</td>\n    </tr>\n    <tr>\n      <th>3</th>\n      <td>89.299928</td>\n      <td>10.700072</td>\n    </tr>\n    <tr>\n      <th>4</th>\n      <td>89.298701</td>\n      <td>10.701299</td>\n    </tr>\n    <tr>\n      <th>5</th>\n      <td>88.748591</td>\n      <td>11.251409</td>\n    </tr>\n    <tr>\n      <th>6</th>\n      <td>88.513810</td>\n      <td>11.486190</td>\n    </tr>\n    <tr>\n      <th>7</th>\n      <td>87.478849</td>\n      <td>12.521151</td>\n    </tr>\n    <tr>\n      <th>8</th>\n      <td>85.740741</td>\n      <td>14.259259</td>\n    </tr>\n    <tr>\n      <th>9</th>\n      <td>86.254296</td>\n      <td>13.745704</td>\n    </tr>\n    <tr>\n      <th>10</th>\n      <td>90.425532</td>\n      <td>9.574468</td>\n    </tr>\n  </tbody>\n</table>\n</div>"
     },
     "metadata": {},
     "output_type": "display_data"
    },
    {
     "name": "stdout",
     "output_type": "stream",
     "text": [
      "\n",
      "Normalizado pelas colunas: \n"
     ]
    },
    {
     "data": {
      "text/plain": "depression        0.0        1.0\nupf                             \n0           16.116646  15.157710\n1           20.561782  20.108061\n2           20.734745  20.181075\n3           17.076588  17.275117\n4           11.892902  12.032710\n5            6.807804   7.286799\n6            3.492113   3.825935\n7            1.788432   2.161215\n8            0.800816   1.124416\n9            0.434136   0.584112\n10           0.294036   0.262850",
      "text/html": "<div>\n<style scoped>\n    .dataframe tbody tr th:only-of-type {\n        vertical-align: middle;\n    }\n\n    .dataframe tbody tr th {\n        vertical-align: top;\n    }\n\n    .dataframe thead th {\n        text-align: right;\n    }\n</style>\n<table border=\"1\" class=\"dataframe\">\n  <thead>\n    <tr style=\"text-align: right;\">\n      <th>depression</th>\n      <th>0.0</th>\n      <th>1.0</th>\n    </tr>\n    <tr>\n      <th>upf</th>\n      <th></th>\n      <th></th>\n    </tr>\n  </thead>\n  <tbody>\n    <tr>\n      <th>0</th>\n      <td>16.116646</td>\n      <td>15.157710</td>\n    </tr>\n    <tr>\n      <th>1</th>\n      <td>20.561782</td>\n      <td>20.108061</td>\n    </tr>\n    <tr>\n      <th>2</th>\n      <td>20.734745</td>\n      <td>20.181075</td>\n    </tr>\n    <tr>\n      <th>3</th>\n      <td>17.076588</td>\n      <td>17.275117</td>\n    </tr>\n    <tr>\n      <th>4</th>\n      <td>11.892902</td>\n      <td>12.032710</td>\n    </tr>\n    <tr>\n      <th>5</th>\n      <td>6.807804</td>\n      <td>7.286799</td>\n    </tr>\n    <tr>\n      <th>6</th>\n      <td>3.492113</td>\n      <td>3.825935</td>\n    </tr>\n    <tr>\n      <th>7</th>\n      <td>1.788432</td>\n      <td>2.161215</td>\n    </tr>\n    <tr>\n      <th>8</th>\n      <td>0.800816</td>\n      <td>1.124416</td>\n    </tr>\n    <tr>\n      <th>9</th>\n      <td>0.434136</td>\n      <td>0.584112</td>\n    </tr>\n    <tr>\n      <th>10</th>\n      <td>0.294036</td>\n      <td>0.262850</td>\n    </tr>\n  </tbody>\n</table>\n</div>"
     },
     "metadata": {},
     "output_type": "display_data"
    },
    {
     "name": "stdout",
     "output_type": "stream",
     "text": [
      "chi2: 24.859684931385072, p_value: 0.0056179095011363, dof: 10\n",
      "-------------------------------------------------------------\n",
      "\n"
     ]
    },
    {
     "data": {
      "text/markdown": "### class_idade"
     },
     "metadata": {},
     "output_type": "display_data"
    },
    {
     "data": {
      "text/plain": "depression     0.0   1.0\nclass_idade             \n1            13464  1435\n2            16063  1692\n3            14600  1853\n4            13689  1868",
      "text/html": "<div>\n<style scoped>\n    .dataframe tbody tr th:only-of-type {\n        vertical-align: middle;\n    }\n\n    .dataframe tbody tr th {\n        vertical-align: top;\n    }\n\n    .dataframe thead th {\n        text-align: right;\n    }\n</style>\n<table border=\"1\" class=\"dataframe\">\n  <thead>\n    <tr style=\"text-align: right;\">\n      <th>depression</th>\n      <th>0.0</th>\n      <th>1.0</th>\n    </tr>\n    <tr>\n      <th>class_idade</th>\n      <th></th>\n      <th></th>\n    </tr>\n  </thead>\n  <tbody>\n    <tr>\n      <th>1</th>\n      <td>13464</td>\n      <td>1435</td>\n    </tr>\n    <tr>\n      <th>2</th>\n      <td>16063</td>\n      <td>1692</td>\n    </tr>\n    <tr>\n      <th>3</th>\n      <td>14600</td>\n      <td>1853</td>\n    </tr>\n    <tr>\n      <th>4</th>\n      <td>13689</td>\n      <td>1868</td>\n    </tr>\n  </tbody>\n</table>\n</div>"
     },
     "metadata": {},
     "output_type": "display_data"
    },
    {
     "name": "stdout",
     "output_type": "stream",
     "text": [
      "Normalizado pelas linhas: \n"
     ]
    },
    {
     "data": {
      "text/plain": "depression         0.0        1.0\nclass_idade                      \n1            90.368481   9.631519\n2            90.470290   9.529710\n3            88.737616  11.262384\n4            87.992544  12.007456",
      "text/html": "<div>\n<style scoped>\n    .dataframe tbody tr th:only-of-type {\n        vertical-align: middle;\n    }\n\n    .dataframe tbody tr th {\n        vertical-align: top;\n    }\n\n    .dataframe thead th {\n        text-align: right;\n    }\n</style>\n<table border=\"1\" class=\"dataframe\">\n  <thead>\n    <tr style=\"text-align: right;\">\n      <th>depression</th>\n      <th>0.0</th>\n      <th>1.0</th>\n    </tr>\n    <tr>\n      <th>class_idade</th>\n      <th></th>\n      <th></th>\n    </tr>\n  </thead>\n  <tbody>\n    <tr>\n      <th>1</th>\n      <td>90.368481</td>\n      <td>9.631519</td>\n    </tr>\n    <tr>\n      <th>2</th>\n      <td>90.470290</td>\n      <td>9.529710</td>\n    </tr>\n    <tr>\n      <th>3</th>\n      <td>88.737616</td>\n      <td>11.262384</td>\n    </tr>\n    <tr>\n      <th>4</th>\n      <td>87.992544</td>\n      <td>12.007456</td>\n    </tr>\n  </tbody>\n</table>\n</div>"
     },
     "metadata": {},
     "output_type": "display_data"
    },
    {
     "name": "stdout",
     "output_type": "stream",
     "text": [
      "\n",
      "Normalizado pelas colunas: \n"
     ]
    },
    {
     "data": {
      "text/plain": "depression         0.0        1.0\nclass_idade                      \n1            23.287671  20.955023\n2            27.782967  24.707944\n3            25.252525  27.058995\n4            23.676837  27.278037",
      "text/html": "<div>\n<style scoped>\n    .dataframe tbody tr th:only-of-type {\n        vertical-align: middle;\n    }\n\n    .dataframe tbody tr th {\n        vertical-align: top;\n    }\n\n    .dataframe thead th {\n        text-align: right;\n    }\n</style>\n<table border=\"1\" class=\"dataframe\">\n  <thead>\n    <tr style=\"text-align: right;\">\n      <th>depression</th>\n      <th>0.0</th>\n      <th>1.0</th>\n    </tr>\n    <tr>\n      <th>class_idade</th>\n      <th></th>\n      <th></th>\n    </tr>\n  </thead>\n  <tbody>\n    <tr>\n      <th>1</th>\n      <td>23.287671</td>\n      <td>20.955023</td>\n    </tr>\n    <tr>\n      <th>2</th>\n      <td>27.782967</td>\n      <td>24.707944</td>\n    </tr>\n    <tr>\n      <th>3</th>\n      <td>25.252525</td>\n      <td>27.058995</td>\n    </tr>\n    <tr>\n      <th>4</th>\n      <td>23.676837</td>\n      <td>27.278037</td>\n    </tr>\n  </tbody>\n</table>\n</div>"
     },
     "metadata": {},
     "output_type": "display_data"
    },
    {
     "name": "stdout",
     "output_type": "stream",
     "text": [
      "chi2: 76.40310894875896, p_value: 1.8127917247084137e-16, dof: 3\n",
      "-------------------------------------------------------------\n",
      "\n"
     ]
    },
    {
     "data": {
      "text/markdown": "### perc_saude"
     },
     "metadata": {},
     "output_type": "display_data"
    },
    {
     "data": {
      "text/plain": "depression    0.0   1.0\nperc_saude             \n1.0         10622   361\n2.0         36313  2473\n3.0          9819  2756\n4.0           923   992\n5.0           139   266",
      "text/html": "<div>\n<style scoped>\n    .dataframe tbody tr th:only-of-type {\n        vertical-align: middle;\n    }\n\n    .dataframe tbody tr th {\n        vertical-align: top;\n    }\n\n    .dataframe thead th {\n        text-align: right;\n    }\n</style>\n<table border=\"1\" class=\"dataframe\">\n  <thead>\n    <tr style=\"text-align: right;\">\n      <th>depression</th>\n      <th>0.0</th>\n      <th>1.0</th>\n    </tr>\n    <tr>\n      <th>perc_saude</th>\n      <th></th>\n      <th></th>\n    </tr>\n  </thead>\n  <tbody>\n    <tr>\n      <th>1.0</th>\n      <td>10622</td>\n      <td>361</td>\n    </tr>\n    <tr>\n      <th>2.0</th>\n      <td>36313</td>\n      <td>2473</td>\n    </tr>\n    <tr>\n      <th>3.0</th>\n      <td>9819</td>\n      <td>2756</td>\n    </tr>\n    <tr>\n      <th>4.0</th>\n      <td>923</td>\n      <td>992</td>\n    </tr>\n    <tr>\n      <th>5.0</th>\n      <td>139</td>\n      <td>266</td>\n    </tr>\n  </tbody>\n</table>\n</div>"
     },
     "metadata": {},
     "output_type": "display_data"
    },
    {
     "name": "stdout",
     "output_type": "stream",
     "text": [
      "Normalizado pelas linhas: \n"
     ]
    },
    {
     "data": {
      "text/plain": "depression        0.0        1.0\nperc_saude                      \n1.0         96.713102   3.286898\n2.0         93.623988   6.376012\n3.0         78.083499  21.916501\n4.0         48.198433  51.801567\n5.0         34.320988  65.679012",
      "text/html": "<div>\n<style scoped>\n    .dataframe tbody tr th:only-of-type {\n        vertical-align: middle;\n    }\n\n    .dataframe tbody tr th {\n        vertical-align: top;\n    }\n\n    .dataframe thead th {\n        text-align: right;\n    }\n</style>\n<table border=\"1\" class=\"dataframe\">\n  <thead>\n    <tr style=\"text-align: right;\">\n      <th>depression</th>\n      <th>0.0</th>\n      <th>1.0</th>\n    </tr>\n    <tr>\n      <th>perc_saude</th>\n      <th></th>\n      <th></th>\n    </tr>\n  </thead>\n  <tbody>\n    <tr>\n      <th>1.0</th>\n      <td>96.713102</td>\n      <td>3.286898</td>\n    </tr>\n    <tr>\n      <th>2.0</th>\n      <td>93.623988</td>\n      <td>6.376012</td>\n    </tr>\n    <tr>\n      <th>3.0</th>\n      <td>78.083499</td>\n      <td>21.916501</td>\n    </tr>\n    <tr>\n      <th>4.0</th>\n      <td>48.198433</td>\n      <td>51.801567</td>\n    </tr>\n    <tr>\n      <th>5.0</th>\n      <td>34.320988</td>\n      <td>65.679012</td>\n    </tr>\n  </tbody>\n</table>\n</div>"
     },
     "metadata": {},
     "output_type": "display_data"
    },
    {
     "name": "stdout",
     "output_type": "stream",
     "text": [
      "\n",
      "Normalizado pelas colunas: \n"
     ]
    },
    {
     "data": {
      "text/plain": "depression        0.0        1.0\nperc_saude                      \n1.0         18.372077   5.271612\n2.0         62.807873  36.112734\n3.0         16.983188  40.245327\n4.0          1.596444  14.485981\n5.0          0.240418   3.884346",
      "text/html": "<div>\n<style scoped>\n    .dataframe tbody tr th:only-of-type {\n        vertical-align: middle;\n    }\n\n    .dataframe tbody tr th {\n        vertical-align: top;\n    }\n\n    .dataframe thead th {\n        text-align: right;\n    }\n</style>\n<table border=\"1\" class=\"dataframe\">\n  <thead>\n    <tr style=\"text-align: right;\">\n      <th>depression</th>\n      <th>0.0</th>\n      <th>1.0</th>\n    </tr>\n    <tr>\n      <th>perc_saude</th>\n      <th></th>\n      <th></th>\n    </tr>\n  </thead>\n  <tbody>\n    <tr>\n      <th>1.0</th>\n      <td>18.372077</td>\n      <td>5.271612</td>\n    </tr>\n    <tr>\n      <th>2.0</th>\n      <td>62.807873</td>\n      <td>36.112734</td>\n    </tr>\n    <tr>\n      <th>3.0</th>\n      <td>16.983188</td>\n      <td>40.245327</td>\n    </tr>\n    <tr>\n      <th>4.0</th>\n      <td>1.596444</td>\n      <td>14.485981</td>\n    </tr>\n    <tr>\n      <th>5.0</th>\n      <td>0.240418</td>\n      <td>3.884346</td>\n    </tr>\n  </tbody>\n</table>\n</div>"
     },
     "metadata": {},
     "output_type": "display_data"
    },
    {
     "name": "stdout",
     "output_type": "stream",
     "text": [
      "chi2: 7782.8561661966405, p_value: 0.0, dof: 4\n",
      "-------------------------------------------------------------\n",
      "\n"
     ]
    }
   ],
   "source": [
    "from scipy.stats import chi2_contingency\n",
    "from IPython.display import display_markdown\n",
    "\n",
    "\n",
    "def gen_chi2_statistics(df_i, columns_dict, key_dep_d='depression'):\n",
    "    selected_g = copy.deepcopy(df_i)\n",
    "    data = []\n",
    "\n",
    "    for c in columns_dict:\n",
    "\n",
    "        # display(Markdown(\"### {}\".format(c['name'])))\n",
    "\n",
    "        display_markdown('''### {}'''.format(c['name']), raw=True)\n",
    "\n",
    "        selected = copy.deepcopy(selected_g)\n",
    "\n",
    "        key_dep = key_dep_d\n",
    "        if 'dep' in c:\n",
    "            key_dep = c['dep']\n",
    "\n",
    "        selected = selected.dropna(subset=[c['key'], key_dep])\n",
    "        contingency_table = pd.crosstab(selected[c['key']], selected[key_dep])\n",
    "        chi2, p_value, dof, _ = chi2_contingency(contingency_table, correction=False)\n",
    "\n",
    "        # Para printar\n",
    "        contingency_table = pd.crosstab(selected[c['key']], selected[key_dep], normalize=False)\n",
    "        contingency_table_n = pd.crosstab(selected[c['key']], selected[key_dep], normalize='index')\n",
    "        contingency_table_c = pd.crosstab(selected[c['key']], selected[key_dep], normalize='columns')\n",
    "\n",
    "        display(contingency_table)\n",
    "        print(\"Normalizado pelas linhas: \")\n",
    "        display(contingency_table_n * 100)\n",
    "\n",
    "        print()\n",
    "        print(\"Normalizado pelas colunas: \")\n",
    "        display(contingency_table_c * 100)\n",
    "\n",
    "        print(\"chi2: {}, p_value: {}, dof: {}\".format(chi2, p_value, dof))\n",
    "\n",
    "\n",
    "        print(\"-------------------------------------------------------------\")\n",
    "        print()\n",
    "\n",
    "        data.append([c['key'], key_dep, c['name'], chi2, p_value, dof])\n",
    "\n",
    "    return pd.DataFrame(data, columns=['variavel1', 'variavel2', 'titulo', 'chi2', 'p_value', 'dof'])\n",
    "\n",
    "\n",
    "selected_columns = [ {'key': c, 'name': c} for c in df_total.columns]\n",
    "df_chi = gen_chi2_statistics(df_total, selected_columns)\n",
    "df_chi.to_excel(PATH_GEN_DATA / 'chi2_variables.xlsx')"
   ],
   "metadata": {
    "collapsed": false,
    "ExecuteTime": {
     "end_time": "2023-06-24T15:54:14.667216074Z",
     "start_time": "2023-06-24T15:54:12.472662641Z"
    }
   }
  },
  {
   "cell_type": "code",
   "execution_count": 7,
   "outputs": [
    {
     "data": {
      "text/plain": "              variavel1   variavel2               titulo          chi2   \n0          exerc_fisico  depression         exerc_fisico    210.905330  \\\n1             tabagismo  depression            tabagismo    132.591516   \n2           cons_alcool  depression          cons_alcool     71.711059   \n3                cancer  depression               cancer    137.937857   \n4           hipertensao  depression          hipertensao    639.024747   \n5              diabetes  depression             diabetes    276.661533   \n6        cardiovascular  depression       cardiovascular    621.453083   \n7   hipercolesterolemia  depression  hipercolesterolemia    535.932766   \n8                   avc  depression                  avc    332.787048   \n9               artrite  depression              artrite   1017.190964   \n10            obesidade  depression            obesidade    158.977620   \n11           depression  depression           depression  64664.000000   \n12                 sexo  depression                 sexo   1510.686545   \n13         estado_civil  depression         estado_civil    275.031314   \n14          class_renda  depression          class_renda    141.315348   \n15              r_norte  depression              r_norte     41.141495   \n16           r_nordeste  depression           r_nordeste      7.597662   \n17            r_sudeste  depression            r_sudeste     14.987169   \n18                r_sul  depression                r_sul      4.853108   \n19       r_centro_oeste  depression       r_centro_oeste      1.707540   \n20         escolaridade  depression         escolaridade     36.935288   \n21                  upf  depression                  upf     24.859685   \n22          class_idade  depression          class_idade     76.403109   \n\n          p_value  dof  \n0    8.716665e-48    1  \n1    1.110669e-30    1  \n2    2.491323e-17    1  \n3    7.519344e-32    1  \n4   5.445572e-141    1  \n5    4.009787e-62    1  \n6   3.611749e-137    1  \n7   1.446295e-118    1  \n8    2.375594e-74    1  \n9   3.293074e-223    1  \n10   1.892476e-36    1  \n11   0.000000e+00    1  \n12   0.000000e+00    1  \n13   9.086425e-62    1  \n14   1.372735e-32    1  \n15   1.415981e-10    1  \n16   5.844403e-03    1  \n17   1.082447e-04    1  \n18   2.759636e-02    1  \n19   1.913048e-01    1  \n20   4.748747e-08    3  \n21   5.617910e-03   10  \n22   1.812792e-16    3  ",
      "text/html": "<div>\n<style scoped>\n    .dataframe tbody tr th:only-of-type {\n        vertical-align: middle;\n    }\n\n    .dataframe tbody tr th {\n        vertical-align: top;\n    }\n\n    .dataframe thead th {\n        text-align: right;\n    }\n</style>\n<table border=\"1\" class=\"dataframe\">\n  <thead>\n    <tr style=\"text-align: right;\">\n      <th></th>\n      <th>variavel1</th>\n      <th>variavel2</th>\n      <th>titulo</th>\n      <th>chi2</th>\n      <th>p_value</th>\n      <th>dof</th>\n    </tr>\n  </thead>\n  <tbody>\n    <tr>\n      <th>0</th>\n      <td>exerc_fisico</td>\n      <td>depression</td>\n      <td>exerc_fisico</td>\n      <td>210.905330</td>\n      <td>8.716665e-48</td>\n      <td>1</td>\n    </tr>\n    <tr>\n      <th>1</th>\n      <td>tabagismo</td>\n      <td>depression</td>\n      <td>tabagismo</td>\n      <td>132.591516</td>\n      <td>1.110669e-30</td>\n      <td>1</td>\n    </tr>\n    <tr>\n      <th>2</th>\n      <td>cons_alcool</td>\n      <td>depression</td>\n      <td>cons_alcool</td>\n      <td>71.711059</td>\n      <td>2.491323e-17</td>\n      <td>1</td>\n    </tr>\n    <tr>\n      <th>3</th>\n      <td>cancer</td>\n      <td>depression</td>\n      <td>cancer</td>\n      <td>137.937857</td>\n      <td>7.519344e-32</td>\n      <td>1</td>\n    </tr>\n    <tr>\n      <th>4</th>\n      <td>hipertensao</td>\n      <td>depression</td>\n      <td>hipertensao</td>\n      <td>639.024747</td>\n      <td>5.445572e-141</td>\n      <td>1</td>\n    </tr>\n    <tr>\n      <th>5</th>\n      <td>diabetes</td>\n      <td>depression</td>\n      <td>diabetes</td>\n      <td>276.661533</td>\n      <td>4.009787e-62</td>\n      <td>1</td>\n    </tr>\n    <tr>\n      <th>6</th>\n      <td>cardiovascular</td>\n      <td>depression</td>\n      <td>cardiovascular</td>\n      <td>621.453083</td>\n      <td>3.611749e-137</td>\n      <td>1</td>\n    </tr>\n    <tr>\n      <th>7</th>\n      <td>hipercolesterolemia</td>\n      <td>depression</td>\n      <td>hipercolesterolemia</td>\n      <td>535.932766</td>\n      <td>1.446295e-118</td>\n      <td>1</td>\n    </tr>\n    <tr>\n      <th>8</th>\n      <td>avc</td>\n      <td>depression</td>\n      <td>avc</td>\n      <td>332.787048</td>\n      <td>2.375594e-74</td>\n      <td>1</td>\n    </tr>\n    <tr>\n      <th>9</th>\n      <td>artrite</td>\n      <td>depression</td>\n      <td>artrite</td>\n      <td>1017.190964</td>\n      <td>3.293074e-223</td>\n      <td>1</td>\n    </tr>\n    <tr>\n      <th>10</th>\n      <td>obesidade</td>\n      <td>depression</td>\n      <td>obesidade</td>\n      <td>158.977620</td>\n      <td>1.892476e-36</td>\n      <td>1</td>\n    </tr>\n    <tr>\n      <th>11</th>\n      <td>depression</td>\n      <td>depression</td>\n      <td>depression</td>\n      <td>64664.000000</td>\n      <td>0.000000e+00</td>\n      <td>1</td>\n    </tr>\n    <tr>\n      <th>12</th>\n      <td>sexo</td>\n      <td>depression</td>\n      <td>sexo</td>\n      <td>1510.686545</td>\n      <td>0.000000e+00</td>\n      <td>1</td>\n    </tr>\n    <tr>\n      <th>13</th>\n      <td>estado_civil</td>\n      <td>depression</td>\n      <td>estado_civil</td>\n      <td>275.031314</td>\n      <td>9.086425e-62</td>\n      <td>1</td>\n    </tr>\n    <tr>\n      <th>14</th>\n      <td>class_renda</td>\n      <td>depression</td>\n      <td>class_renda</td>\n      <td>141.315348</td>\n      <td>1.372735e-32</td>\n      <td>1</td>\n    </tr>\n    <tr>\n      <th>15</th>\n      <td>r_norte</td>\n      <td>depression</td>\n      <td>r_norte</td>\n      <td>41.141495</td>\n      <td>1.415981e-10</td>\n      <td>1</td>\n    </tr>\n    <tr>\n      <th>16</th>\n      <td>r_nordeste</td>\n      <td>depression</td>\n      <td>r_nordeste</td>\n      <td>7.597662</td>\n      <td>5.844403e-03</td>\n      <td>1</td>\n    </tr>\n    <tr>\n      <th>17</th>\n      <td>r_sudeste</td>\n      <td>depression</td>\n      <td>r_sudeste</td>\n      <td>14.987169</td>\n      <td>1.082447e-04</td>\n      <td>1</td>\n    </tr>\n    <tr>\n      <th>18</th>\n      <td>r_sul</td>\n      <td>depression</td>\n      <td>r_sul</td>\n      <td>4.853108</td>\n      <td>2.759636e-02</td>\n      <td>1</td>\n    </tr>\n    <tr>\n      <th>19</th>\n      <td>r_centro_oeste</td>\n      <td>depression</td>\n      <td>r_centro_oeste</td>\n      <td>1.707540</td>\n      <td>1.913048e-01</td>\n      <td>1</td>\n    </tr>\n    <tr>\n      <th>20</th>\n      <td>escolaridade</td>\n      <td>depression</td>\n      <td>escolaridade</td>\n      <td>36.935288</td>\n      <td>4.748747e-08</td>\n      <td>3</td>\n    </tr>\n    <tr>\n      <th>21</th>\n      <td>upf</td>\n      <td>depression</td>\n      <td>upf</td>\n      <td>24.859685</td>\n      <td>5.617910e-03</td>\n      <td>10</td>\n    </tr>\n    <tr>\n      <th>22</th>\n      <td>class_idade</td>\n      <td>depression</td>\n      <td>class_idade</td>\n      <td>76.403109</td>\n      <td>1.812792e-16</td>\n      <td>3</td>\n    </tr>\n  </tbody>\n</table>\n</div>"
     },
     "execution_count": 7,
     "metadata": {},
     "output_type": "execute_result"
    }
   ],
   "source": [
    "df_chi"
   ],
   "metadata": {
    "collapsed": false,
    "ExecuteTime": {
     "end_time": "2023-06-24T15:49:30.067350932Z",
     "start_time": "2023-06-24T15:49:30.023726176Z"
    }
   }
  }
 ],
 "metadata": {
  "kernelspec": {
   "display_name": "Python 3",
   "language": "python",
   "name": "python3"
  },
  "language_info": {
   "codemirror_mode": {
    "name": "ipython",
    "version": 2
   },
   "file_extension": ".py",
   "mimetype": "text/x-python",
   "name": "python",
   "nbconvert_exporter": "python",
   "pygments_lexer": "ipython2",
   "version": "2.7.6"
  }
 },
 "nbformat": 4,
 "nbformat_minor": 0
}
