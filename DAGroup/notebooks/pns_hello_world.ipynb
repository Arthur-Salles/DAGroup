{
 "cells": [
  {
   "cell_type": "code",
   "execution_count": 14,
   "metadata": {
    "collapsed": true,
    "ExecuteTime": {
     "end_time": "2023-05-08T17:38:11.972366753Z",
     "start_time": "2023-05-08T17:38:01.397173755Z"
    }
   },
   "outputs": [],
   "source": [
    "from depression_high_processed_food.src.constants import *\n",
    "import pandas as pd\n",
    "from pathlib import Path\n",
    "\n",
    "PNS_DATA = Path('../data/raw/PNS_2019/PNS_2019.csv').resolve()\n",
    "\n",
    "cols = KEY_SUBJECT + LIFE_STYLES + DEPRESSION_REF\n",
    "df = pd.read_csv(PNS_DATA, delimiter=';', low_memory=False, usecols=cols)"
   ]
  },
  {
   "cell_type": "code",
   "execution_count": 15,
   "outputs": [
    {
     "data": {
      "text/plain": "        V0001    V0024    UPA_PNS  V0006_PNS  C00301  P00102 P00103  P00104   \n0          11  1110011  110000016          1     1.0     1.0     60    60.0  \\\n1          11  1110011  110000016          1     2.0     NaN    NaN     NaN   \n2          11  1110011  110000016          1     3.0     NaN    NaN     NaN   \n3          11  1110011  110000016          1     4.0     NaN    NaN     NaN   \n4          11  1110011  110000016          1     5.0     NaN    NaN     NaN   \n...       ...      ...        ...        ...     ...     ...    ...     ...   \n293721     53  5310220  530044434         14     1.0     NaN    NaN     NaN   \n293722     53  5310220  530044434         14     2.0     NaN    NaN     NaN   \n293723     53  5310220  530044434         14     3.0     NaN    NaN     NaN   \n293724     53  5310220  530044434         14     4.0     NaN    NaN     NaN   \n293725     53  5310220  530044434         15     NaN     NaN    NaN     NaN   \n\n        P00201  P00402  ...  P068  P069  P06901  P07004  P07005  P07006   \n0          2.0     1.0  ...   1.0   2.0     2.0     2.0     2.0     2.0  \\\n1          NaN     NaN  ...   NaN   NaN     NaN     NaN     NaN     NaN   \n2          NaN     NaN  ...   NaN   NaN     NaN     NaN     NaN     NaN   \n3          NaN     NaN  ...   NaN   NaN     NaN     NaN     NaN     NaN   \n4          NaN     NaN  ...   NaN   NaN     NaN     NaN     NaN     NaN   \n...        ...     ...  ...   ...   ...     ...     ...     ...     ...   \n293721     NaN     NaN  ...   NaN   NaN     NaN     NaN     NaN     NaN   \n293722     NaN     NaN  ...   NaN   NaN     NaN     NaN     NaN     NaN   \n293723     NaN     NaN  ...   NaN   NaN     NaN     NaN     NaN     NaN   \n293724     NaN     NaN  ...   NaN   NaN     NaN     NaN     NaN     NaN   \n293725     NaN     NaN  ...   NaN   NaN     NaN     NaN     NaN     NaN   \n\n        P07007  P07101  P07201  Q092  \n0          2.0     1.0     NaN   1.0  \n1          NaN     NaN     NaN   NaN  \n2          NaN     NaN     NaN   NaN  \n3          NaN     NaN     NaN   NaN  \n4          NaN     NaN     NaN   NaN  \n...        ...     ...     ...   ...  \n293721     NaN     NaN     NaN   NaN  \n293722     NaN     NaN     NaN   NaN  \n293723     NaN     NaN     NaN   NaN  \n293724     NaN     NaN     NaN   NaN  \n293725     NaN     NaN     NaN   NaN  \n\n[293726 rows x 152 columns]",
      "text/html": "<div>\n<style scoped>\n    .dataframe tbody tr th:only-of-type {\n        vertical-align: middle;\n    }\n\n    .dataframe tbody tr th {\n        vertical-align: top;\n    }\n\n    .dataframe thead th {\n        text-align: right;\n    }\n</style>\n<table border=\"1\" class=\"dataframe\">\n  <thead>\n    <tr style=\"text-align: right;\">\n      <th></th>\n      <th>V0001</th>\n      <th>V0024</th>\n      <th>UPA_PNS</th>\n      <th>V0006_PNS</th>\n      <th>C00301</th>\n      <th>P00102</th>\n      <th>P00103</th>\n      <th>P00104</th>\n      <th>P00201</th>\n      <th>P00402</th>\n      <th>...</th>\n      <th>P068</th>\n      <th>P069</th>\n      <th>P06901</th>\n      <th>P07004</th>\n      <th>P07005</th>\n      <th>P07006</th>\n      <th>P07007</th>\n      <th>P07101</th>\n      <th>P07201</th>\n      <th>Q092</th>\n    </tr>\n  </thead>\n  <tbody>\n    <tr>\n      <th>0</th>\n      <td>11</td>\n      <td>1110011</td>\n      <td>110000016</td>\n      <td>1</td>\n      <td>1.0</td>\n      <td>1.0</td>\n      <td>60</td>\n      <td>60.0</td>\n      <td>2.0</td>\n      <td>1.0</td>\n      <td>...</td>\n      <td>1.0</td>\n      <td>2.0</td>\n      <td>2.0</td>\n      <td>2.0</td>\n      <td>2.0</td>\n      <td>2.0</td>\n      <td>2.0</td>\n      <td>1.0</td>\n      <td>NaN</td>\n      <td>1.0</td>\n    </tr>\n    <tr>\n      <th>1</th>\n      <td>11</td>\n      <td>1110011</td>\n      <td>110000016</td>\n      <td>1</td>\n      <td>2.0</td>\n      <td>NaN</td>\n      <td>NaN</td>\n      <td>NaN</td>\n      <td>NaN</td>\n      <td>NaN</td>\n      <td>...</td>\n      <td>NaN</td>\n      <td>NaN</td>\n      <td>NaN</td>\n      <td>NaN</td>\n      <td>NaN</td>\n      <td>NaN</td>\n      <td>NaN</td>\n      <td>NaN</td>\n      <td>NaN</td>\n      <td>NaN</td>\n    </tr>\n    <tr>\n      <th>2</th>\n      <td>11</td>\n      <td>1110011</td>\n      <td>110000016</td>\n      <td>1</td>\n      <td>3.0</td>\n      <td>NaN</td>\n      <td>NaN</td>\n      <td>NaN</td>\n      <td>NaN</td>\n      <td>NaN</td>\n      <td>...</td>\n      <td>NaN</td>\n      <td>NaN</td>\n      <td>NaN</td>\n      <td>NaN</td>\n      <td>NaN</td>\n      <td>NaN</td>\n      <td>NaN</td>\n      <td>NaN</td>\n      <td>NaN</td>\n      <td>NaN</td>\n    </tr>\n    <tr>\n      <th>3</th>\n      <td>11</td>\n      <td>1110011</td>\n      <td>110000016</td>\n      <td>1</td>\n      <td>4.0</td>\n      <td>NaN</td>\n      <td>NaN</td>\n      <td>NaN</td>\n      <td>NaN</td>\n      <td>NaN</td>\n      <td>...</td>\n      <td>NaN</td>\n      <td>NaN</td>\n      <td>NaN</td>\n      <td>NaN</td>\n      <td>NaN</td>\n      <td>NaN</td>\n      <td>NaN</td>\n      <td>NaN</td>\n      <td>NaN</td>\n      <td>NaN</td>\n    </tr>\n    <tr>\n      <th>4</th>\n      <td>11</td>\n      <td>1110011</td>\n      <td>110000016</td>\n      <td>1</td>\n      <td>5.0</td>\n      <td>NaN</td>\n      <td>NaN</td>\n      <td>NaN</td>\n      <td>NaN</td>\n      <td>NaN</td>\n      <td>...</td>\n      <td>NaN</td>\n      <td>NaN</td>\n      <td>NaN</td>\n      <td>NaN</td>\n      <td>NaN</td>\n      <td>NaN</td>\n      <td>NaN</td>\n      <td>NaN</td>\n      <td>NaN</td>\n      <td>NaN</td>\n    </tr>\n    <tr>\n      <th>...</th>\n      <td>...</td>\n      <td>...</td>\n      <td>...</td>\n      <td>...</td>\n      <td>...</td>\n      <td>...</td>\n      <td>...</td>\n      <td>...</td>\n      <td>...</td>\n      <td>...</td>\n      <td>...</td>\n      <td>...</td>\n      <td>...</td>\n      <td>...</td>\n      <td>...</td>\n      <td>...</td>\n      <td>...</td>\n      <td>...</td>\n      <td>...</td>\n      <td>...</td>\n      <td>...</td>\n    </tr>\n    <tr>\n      <th>293721</th>\n      <td>53</td>\n      <td>5310220</td>\n      <td>530044434</td>\n      <td>14</td>\n      <td>1.0</td>\n      <td>NaN</td>\n      <td>NaN</td>\n      <td>NaN</td>\n      <td>NaN</td>\n      <td>NaN</td>\n      <td>...</td>\n      <td>NaN</td>\n      <td>NaN</td>\n      <td>NaN</td>\n      <td>NaN</td>\n      <td>NaN</td>\n      <td>NaN</td>\n      <td>NaN</td>\n      <td>NaN</td>\n      <td>NaN</td>\n      <td>NaN</td>\n    </tr>\n    <tr>\n      <th>293722</th>\n      <td>53</td>\n      <td>5310220</td>\n      <td>530044434</td>\n      <td>14</td>\n      <td>2.0</td>\n      <td>NaN</td>\n      <td>NaN</td>\n      <td>NaN</td>\n      <td>NaN</td>\n      <td>NaN</td>\n      <td>...</td>\n      <td>NaN</td>\n      <td>NaN</td>\n      <td>NaN</td>\n      <td>NaN</td>\n      <td>NaN</td>\n      <td>NaN</td>\n      <td>NaN</td>\n      <td>NaN</td>\n      <td>NaN</td>\n      <td>NaN</td>\n    </tr>\n    <tr>\n      <th>293723</th>\n      <td>53</td>\n      <td>5310220</td>\n      <td>530044434</td>\n      <td>14</td>\n      <td>3.0</td>\n      <td>NaN</td>\n      <td>NaN</td>\n      <td>NaN</td>\n      <td>NaN</td>\n      <td>NaN</td>\n      <td>...</td>\n      <td>NaN</td>\n      <td>NaN</td>\n      <td>NaN</td>\n      <td>NaN</td>\n      <td>NaN</td>\n      <td>NaN</td>\n      <td>NaN</td>\n      <td>NaN</td>\n      <td>NaN</td>\n      <td>NaN</td>\n    </tr>\n    <tr>\n      <th>293724</th>\n      <td>53</td>\n      <td>5310220</td>\n      <td>530044434</td>\n      <td>14</td>\n      <td>4.0</td>\n      <td>NaN</td>\n      <td>NaN</td>\n      <td>NaN</td>\n      <td>NaN</td>\n      <td>NaN</td>\n      <td>...</td>\n      <td>NaN</td>\n      <td>NaN</td>\n      <td>NaN</td>\n      <td>NaN</td>\n      <td>NaN</td>\n      <td>NaN</td>\n      <td>NaN</td>\n      <td>NaN</td>\n      <td>NaN</td>\n      <td>NaN</td>\n    </tr>\n    <tr>\n      <th>293725</th>\n      <td>53</td>\n      <td>5310220</td>\n      <td>530044434</td>\n      <td>15</td>\n      <td>NaN</td>\n      <td>NaN</td>\n      <td>NaN</td>\n      <td>NaN</td>\n      <td>NaN</td>\n      <td>NaN</td>\n      <td>...</td>\n      <td>NaN</td>\n      <td>NaN</td>\n      <td>NaN</td>\n      <td>NaN</td>\n      <td>NaN</td>\n      <td>NaN</td>\n      <td>NaN</td>\n      <td>NaN</td>\n      <td>NaN</td>\n      <td>NaN</td>\n    </tr>\n  </tbody>\n</table>\n<p>293726 rows × 152 columns</p>\n</div>"
     },
     "execution_count": 15,
     "metadata": {},
     "output_type": "execute_result"
    }
   ],
   "source": [
    "df"
   ],
   "metadata": {
    "collapsed": false,
    "ExecuteTime": {
     "end_time": "2023-05-08T17:38:12.014237791Z",
     "start_time": "2023-05-08T17:38:12.013712689Z"
    }
   }
  },
  {
   "cell_type": "code",
   "execution_count": 8,
   "outputs": [
    {
     "data": {
      "text/plain": "293726"
     },
     "execution_count": 8,
     "metadata": {},
     "output_type": "execute_result"
    }
   ],
   "source": [
    "len(df)"
   ],
   "metadata": {
    "collapsed": false,
    "ExecuteTime": {
     "end_time": "2023-05-08T17:35:04.022657778Z",
     "start_time": "2023-05-08T17:35:03.975217526Z"
    }
   }
  },
  {
   "cell_type": "code",
   "execution_count": 9,
   "outputs": [
    {
     "data": {
      "text/plain": "279382"
     },
     "execution_count": 9,
     "metadata": {},
     "output_type": "execute_result"
    }
   ],
   "source": [
    "df.groupby(['V0001', 'V0024', 'UPA_PNS', 'V0006_PNS', 'C00301']).size().reset_index().shape[0]"
   ],
   "metadata": {
    "collapsed": false,
    "ExecuteTime": {
     "end_time": "2023-05-08T17:35:06.780577270Z",
     "start_time": "2023-05-08T17:35:06.702451432Z"
    }
   }
  },
  {
   "cell_type": "code",
   "execution_count": 10,
   "outputs": [
    {
     "data": {
      "text/plain": "108458"
     },
     "execution_count": 10,
     "metadata": {},
     "output_type": "execute_result"
    }
   ],
   "source": [
    "df.groupby(['V0001', 'V0024', 'UPA_PNS', 'V0006_PNS']).size().reset_index().shape[0]"
   ],
   "metadata": {
    "collapsed": false,
    "ExecuteTime": {
     "end_time": "2023-05-08T17:35:09.091507167Z",
     "start_time": "2023-05-08T17:35:09.058843784Z"
    }
   }
  },
  {
   "cell_type": "code",
   "execution_count": 11,
   "outputs": [
    {
     "data": {
      "text/plain": "90846"
     },
     "execution_count": 11,
     "metadata": {},
     "output_type": "execute_result"
    }
   ],
   "source": [
    "df['Q092'].count()"
   ],
   "metadata": {
    "collapsed": false,
    "ExecuteTime": {
     "end_time": "2023-05-08T17:35:10.817105016Z",
     "start_time": "2023-05-08T17:35:10.812477410Z"
    }
   }
  },
  {
   "cell_type": "code",
   "execution_count": 13,
   "outputs": [
    {
     "data": {
      "text/plain": "Q092\n2.0    82514\n1.0     8332\nName: count, dtype: int64"
     },
     "execution_count": 13,
     "metadata": {},
     "output_type": "execute_result"
    }
   ],
   "source": [
    "df['Q092'].value_counts()"
   ],
   "metadata": {
    "collapsed": false,
    "ExecuteTime": {
     "end_time": "2023-05-08T17:35:17.228988596Z",
     "start_time": "2023-05-08T17:35:17.226389368Z"
    }
   }
  },
  {
   "cell_type": "code",
   "execution_count": 38,
   "outputs": [],
   "source": [
    "df = df.dropna(subset=['Q092'])"
   ],
   "metadata": {
    "collapsed": false,
    "ExecuteTime": {
     "start_time": "2023-04-26T20:26:53.110909Z",
     "end_time": "2023-04-26T20:26:53.157955Z"
    }
   }
  },
  {
   "cell_type": "code",
   "execution_count": 43,
   "outputs": [
    {
     "data": {
      "text/plain": "        V0001    V0024    UPA_PNS  V0006_PNS  C00301  P00102 P00103  P00104   \n0          11  1110011  110000016          1     1.0     1.0     60    60.0  \\\n9          11  1110011  110000016          2     4.0     1.0     65    65.0   \n10         11  1110011  110000016          3     1.0     1.0     77    77.0   \n18         11  1110011  110000016          4     1.0     2.0    NaN    56.0   \n19         11  1110011  110000016          5     1.0     1.0     55    55.0   \n...       ...      ...        ...        ...     ...     ...    ...     ...   \n293709     53  5310220  530044434          9     2.0     1.0     63    63.0   \n293712     53  5310220  530044434         10     2.0     1.0     72    72.0   \n293713     53  5310220  530044434         11     1.0     1.0     87    87.0   \n293718     53  5310220  530044434         12     2.0     1.0     89    89.0   \n293720     53  5310220  530044434         13     1.0     1.0     62    62.0   \n\n        P00201  P00402  ...  P069  P06901  P07004  P07005  P07006  P07007   \n0          2.0     1.0  ...   2.0     2.0     2.0     2.0     2.0     2.0  \\\n9          2.0     1.0  ...   2.0     1.0     2.0     2.0     2.0     1.0   \n10         2.0     1.0  ...   2.0     2.0     2.0     2.0     2.0     2.0   \n18         1.0     2.0  ...   2.0     2.0     2.0     2.0     2.0     2.0   \n19         1.0     1.0  ...   2.0     2.0     2.0     2.0     2.0     2.0   \n...        ...     ...  ...   ...     ...     ...     ...     ...     ...   \n293709     1.0     1.0  ...   1.0     2.0     2.0     1.0     2.0     2.0   \n293712     1.0     1.0  ...   2.0     2.0     2.0     2.0     2.0     2.0   \n293713     5.0     1.0  ...   1.0     2.0     1.0     2.0     3.0     1.0   \n293718     2.0     1.0  ...   1.0     1.0     1.0     1.0     1.0     2.0   \n293720     3.0     1.0  ...   1.0     2.0     1.0     1.0     2.0     2.0   \n\n        P07101  P07201  Q092    res  \n0          1.0     NaN   1.0   True  \n9          1.0     2.0   2.0  False  \n10         2.0     NaN   2.0  False  \n18         2.0     NaN   2.0  False  \n19         2.0     NaN   2.0  False  \n...        ...     ...   ...    ...  \n293709     1.0     1.0   2.0  False  \n293712     1.0     1.0   2.0  False  \n293713     1.0     NaN   2.0  False  \n293718     1.0     NaN   1.0   True  \n293720     2.0     NaN   2.0  False  \n\n[90846 rows x 153 columns]",
      "text/html": "<div>\n<style scoped>\n    .dataframe tbody tr th:only-of-type {\n        vertical-align: middle;\n    }\n\n    .dataframe tbody tr th {\n        vertical-align: top;\n    }\n\n    .dataframe thead th {\n        text-align: right;\n    }\n</style>\n<table border=\"1\" class=\"dataframe\">\n  <thead>\n    <tr style=\"text-align: right;\">\n      <th></th>\n      <th>V0001</th>\n      <th>V0024</th>\n      <th>UPA_PNS</th>\n      <th>V0006_PNS</th>\n      <th>C00301</th>\n      <th>P00102</th>\n      <th>P00103</th>\n      <th>P00104</th>\n      <th>P00201</th>\n      <th>P00402</th>\n      <th>...</th>\n      <th>P069</th>\n      <th>P06901</th>\n      <th>P07004</th>\n      <th>P07005</th>\n      <th>P07006</th>\n      <th>P07007</th>\n      <th>P07101</th>\n      <th>P07201</th>\n      <th>Q092</th>\n      <th>res</th>\n    </tr>\n  </thead>\n  <tbody>\n    <tr>\n      <th>0</th>\n      <td>11</td>\n      <td>1110011</td>\n      <td>110000016</td>\n      <td>1</td>\n      <td>1.0</td>\n      <td>1.0</td>\n      <td>60</td>\n      <td>60.0</td>\n      <td>2.0</td>\n      <td>1.0</td>\n      <td>...</td>\n      <td>2.0</td>\n      <td>2.0</td>\n      <td>2.0</td>\n      <td>2.0</td>\n      <td>2.0</td>\n      <td>2.0</td>\n      <td>1.0</td>\n      <td>NaN</td>\n      <td>1.0</td>\n      <td>True</td>\n    </tr>\n    <tr>\n      <th>9</th>\n      <td>11</td>\n      <td>1110011</td>\n      <td>110000016</td>\n      <td>2</td>\n      <td>4.0</td>\n      <td>1.0</td>\n      <td>65</td>\n      <td>65.0</td>\n      <td>2.0</td>\n      <td>1.0</td>\n      <td>...</td>\n      <td>2.0</td>\n      <td>1.0</td>\n      <td>2.0</td>\n      <td>2.0</td>\n      <td>2.0</td>\n      <td>1.0</td>\n      <td>1.0</td>\n      <td>2.0</td>\n      <td>2.0</td>\n      <td>False</td>\n    </tr>\n    <tr>\n      <th>10</th>\n      <td>11</td>\n      <td>1110011</td>\n      <td>110000016</td>\n      <td>3</td>\n      <td>1.0</td>\n      <td>1.0</td>\n      <td>77</td>\n      <td>77.0</td>\n      <td>2.0</td>\n      <td>1.0</td>\n      <td>...</td>\n      <td>2.0</td>\n      <td>2.0</td>\n      <td>2.0</td>\n      <td>2.0</td>\n      <td>2.0</td>\n      <td>2.0</td>\n      <td>2.0</td>\n      <td>NaN</td>\n      <td>2.0</td>\n      <td>False</td>\n    </tr>\n    <tr>\n      <th>18</th>\n      <td>11</td>\n      <td>1110011</td>\n      <td>110000016</td>\n      <td>4</td>\n      <td>1.0</td>\n      <td>2.0</td>\n      <td>NaN</td>\n      <td>56.0</td>\n      <td>1.0</td>\n      <td>2.0</td>\n      <td>...</td>\n      <td>2.0</td>\n      <td>2.0</td>\n      <td>2.0</td>\n      <td>2.0</td>\n      <td>2.0</td>\n      <td>2.0</td>\n      <td>2.0</td>\n      <td>NaN</td>\n      <td>2.0</td>\n      <td>False</td>\n    </tr>\n    <tr>\n      <th>19</th>\n      <td>11</td>\n      <td>1110011</td>\n      <td>110000016</td>\n      <td>5</td>\n      <td>1.0</td>\n      <td>1.0</td>\n      <td>55</td>\n      <td>55.0</td>\n      <td>1.0</td>\n      <td>1.0</td>\n      <td>...</td>\n      <td>2.0</td>\n      <td>2.0</td>\n      <td>2.0</td>\n      <td>2.0</td>\n      <td>2.0</td>\n      <td>2.0</td>\n      <td>2.0</td>\n      <td>NaN</td>\n      <td>2.0</td>\n      <td>False</td>\n    </tr>\n    <tr>\n      <th>...</th>\n      <td>...</td>\n      <td>...</td>\n      <td>...</td>\n      <td>...</td>\n      <td>...</td>\n      <td>...</td>\n      <td>...</td>\n      <td>...</td>\n      <td>...</td>\n      <td>...</td>\n      <td>...</td>\n      <td>...</td>\n      <td>...</td>\n      <td>...</td>\n      <td>...</td>\n      <td>...</td>\n      <td>...</td>\n      <td>...</td>\n      <td>...</td>\n      <td>...</td>\n      <td>...</td>\n    </tr>\n    <tr>\n      <th>293709</th>\n      <td>53</td>\n      <td>5310220</td>\n      <td>530044434</td>\n      <td>9</td>\n      <td>2.0</td>\n      <td>1.0</td>\n      <td>63</td>\n      <td>63.0</td>\n      <td>1.0</td>\n      <td>1.0</td>\n      <td>...</td>\n      <td>1.0</td>\n      <td>2.0</td>\n      <td>2.0</td>\n      <td>1.0</td>\n      <td>2.0</td>\n      <td>2.0</td>\n      <td>1.0</td>\n      <td>1.0</td>\n      <td>2.0</td>\n      <td>False</td>\n    </tr>\n    <tr>\n      <th>293712</th>\n      <td>53</td>\n      <td>5310220</td>\n      <td>530044434</td>\n      <td>10</td>\n      <td>2.0</td>\n      <td>1.0</td>\n      <td>72</td>\n      <td>72.0</td>\n      <td>1.0</td>\n      <td>1.0</td>\n      <td>...</td>\n      <td>2.0</td>\n      <td>2.0</td>\n      <td>2.0</td>\n      <td>2.0</td>\n      <td>2.0</td>\n      <td>2.0</td>\n      <td>1.0</td>\n      <td>1.0</td>\n      <td>2.0</td>\n      <td>False</td>\n    </tr>\n    <tr>\n      <th>293713</th>\n      <td>53</td>\n      <td>5310220</td>\n      <td>530044434</td>\n      <td>11</td>\n      <td>1.0</td>\n      <td>1.0</td>\n      <td>87</td>\n      <td>87.0</td>\n      <td>5.0</td>\n      <td>1.0</td>\n      <td>...</td>\n      <td>1.0</td>\n      <td>2.0</td>\n      <td>1.0</td>\n      <td>2.0</td>\n      <td>3.0</td>\n      <td>1.0</td>\n      <td>1.0</td>\n      <td>NaN</td>\n      <td>2.0</td>\n      <td>False</td>\n    </tr>\n    <tr>\n      <th>293718</th>\n      <td>53</td>\n      <td>5310220</td>\n      <td>530044434</td>\n      <td>12</td>\n      <td>2.0</td>\n      <td>1.0</td>\n      <td>89</td>\n      <td>89.0</td>\n      <td>2.0</td>\n      <td>1.0</td>\n      <td>...</td>\n      <td>1.0</td>\n      <td>1.0</td>\n      <td>1.0</td>\n      <td>1.0</td>\n      <td>1.0</td>\n      <td>2.0</td>\n      <td>1.0</td>\n      <td>NaN</td>\n      <td>1.0</td>\n      <td>True</td>\n    </tr>\n    <tr>\n      <th>293720</th>\n      <td>53</td>\n      <td>5310220</td>\n      <td>530044434</td>\n      <td>13</td>\n      <td>1.0</td>\n      <td>1.0</td>\n      <td>62</td>\n      <td>62.0</td>\n      <td>3.0</td>\n      <td>1.0</td>\n      <td>...</td>\n      <td>1.0</td>\n      <td>2.0</td>\n      <td>1.0</td>\n      <td>1.0</td>\n      <td>2.0</td>\n      <td>2.0</td>\n      <td>2.0</td>\n      <td>NaN</td>\n      <td>2.0</td>\n      <td>False</td>\n    </tr>\n  </tbody>\n</table>\n<p>90846 rows × 153 columns</p>\n</div>"
     },
     "execution_count": 43,
     "metadata": {},
     "output_type": "execute_result"
    }
   ],
   "source": [
    "df"
   ],
   "metadata": {
    "collapsed": false,
    "ExecuteTime": {
     "start_time": "2023-04-26T20:32:15.550400Z",
     "end_time": "2023-04-26T20:32:15.562135Z"
    }
   }
  },
  {
   "cell_type": "code",
   "execution_count": 44,
   "outputs": [
    {
     "data": {
      "text/plain": "V0001        90846\nV0024        90846\nUPA_PNS      90846\nV0006_PNS    90846\nC00301       90846\n             ...  \nP07007       90846\nP07101       90846\nP07201        8990\nQ092         90846\nres          90846\nLength: 153, dtype: int64"
     },
     "execution_count": 44,
     "metadata": {},
     "output_type": "execute_result"
    }
   ],
   "source": [
    "df.count()"
   ],
   "metadata": {
    "collapsed": false,
    "ExecuteTime": {
     "start_time": "2023-04-26T20:33:02.466585Z",
     "end_time": "2023-04-26T20:33:02.506618Z"
    }
   }
  },
  {
   "cell_type": "code",
   "execution_count": 45,
   "outputs": [],
   "source": [
    "df = df.dropna(axis=1)"
   ],
   "metadata": {
    "collapsed": false,
    "ExecuteTime": {
     "start_time": "2023-04-26T20:36:30.331072Z",
     "end_time": "2023-04-26T20:36:30.355047Z"
    }
   }
  },
  {
   "cell_type": "code",
   "execution_count": 47,
   "outputs": [
    {
     "data": {
      "text/plain": "V0001  V0024    UPA_PNS    V0006_PNS  C00301  P00102  P00201  P00402  P00601  P00602  P00603  P00604  P00605  P00607  P00608  P00609  P00610  P00611  P00612  P00613  P00614  P00615  P00616  P00617  P00618  P00619  P00620  P00621  P00622  P00623  P006  P00901  P01101  P013  P015  P02001  P01601  P018  P02002  P023  P02501  P02602  P02601  P027  P034  P042  P044  P04501  P04502  P046  P04701  P050  P067  P06701  P068  P069  P06901  P07004  P07005  P07006  P07007  P07101  Q092  res  \n11     1110011  110000016  1          1.0     1.0     2.0     1.0     1.0     1.0     1.0     1.0     2.0     1.0     2.0     1.0     1.0     2.0     1.0     2.0     1.0     1.0     2.0     2.0     2.0     2.0     2.0     2.0     1.0     2.0     7.0   1.0     3.0     6.0   3.0   7.0     0.0     3.0   1.0     7.0   0.0     0.0     3.0     2.0   1.0   0.0   2.0   3.0     1.0     1.0   2.0     3.0   3.0   4.0     1.0   2.0   2.0     2.0     2.0     2.0     2.0     1.0     1.0   True     1\n33     3322012  330021383  2          1.0     1.0     4.0     2.0     1.0     2.0     1.0     1.0     2.0     1.0     2.0     2.0     1.0     1.0     2.0     2.0     2.0     1.0     2.0     1.0     2.0     2.0     2.0     2.0     2.0     2.0     7.0   7.0     2.0     7.0   1.0   1.0     0.0     3.0   0.0     3.0   0.0     0.0     4.0     1.0   2.0   0.0   2.0   4.0     6.0     2.0   2.0     3.0   3.0   4.0     5.0   2.0   2.0     1.0     1.0     1.0     2.0     2.0     2.0   False    1\n       3322011  330286548  7          3.0     1.0     3.0     1.0     1.0     2.0     1.0     1.0     1.0     1.0     1.0     1.0     2.0     1.0     1.0     2.0     2.0     1.0     2.0     2.0     2.0     2.0     1.0     1.0     1.0     2.0     7.0   7.0     2.0     6.0   0.0   4.0     2.0     3.0   2.0     3.0   2.0     0.0     3.0     1.0   1.0   0.0   2.0   1.0     4.0     1.0   2.0     3.0   3.0   4.0     5.0   2.0   2.0     2.0     1.0     2.0     2.0     1.0     2.0   False    1\n                           6          1.0     1.0     1.0     1.0     1.0     1.0     1.0     1.0     2.0     2.0     2.0     2.0     2.0     1.0     2.0     2.0     1.0     2.0     2.0     2.0     1.0     2.0     2.0     2.0     2.0     2.0     7.0   7.0     1.0     7.0   0.0   0.0     3.0     7.0   7.0     0.0   1.0     0.0     4.0     1.0   1.0   0.0   1.0   5.0     5.0     2.0   2.0     3.0   3.0   4.0     5.0   2.0   2.0     2.0     1.0     2.0     2.0     1.0     2.0   False    1\n                           4          2.0     1.0     2.0     2.0     1.0     2.0     1.0     2.0     2.0     2.0     2.0     2.0     2.0     2.0     1.0     2.0     1.0     2.0     2.0     2.0     1.0     2.0     1.0     2.0     1.0     2.0     7.0   3.0     3.0     5.0   1.0   0.0     7.0     7.0   1.0     7.0   2.0     1.0     4.0     1.0   1.0   2.0   2.0   2.0     1.0     2.0   2.0     3.0   3.0   4.0     5.0   2.0   2.0     2.0     2.0     2.0     2.0     1.0     2.0   False    1\n                                                                                                                                                                                                                                                                                                                                                                                                                                                                                                        ..\n24     2410011  240036414  6          1.0     1.0     3.0     1.0     1.0     2.0     1.0     1.0     2.0     1.0     2.0     1.0     2.0     1.0     1.0     2.0     2.0     2.0     2.0     1.0     2.0     2.0     2.0     2.0     1.0     2.0     7.0   7.0     2.0     4.0   4.0   0.0     4.0     7.0   0.0     7.0   0.0     0.0     4.0     1.0   2.0   0.0   2.0   1.0     6.0     1.0   2.0     3.0   3.0   4.0     1.0   2.0   2.0     2.0     2.0     2.0     2.0     1.0     2.0   False    1\n                           4          2.0     1.0     3.0     1.0     1.0     1.0     1.0     1.0     2.0     2.0     1.0     1.0     2.0     1.0     1.0     2.0     2.0     2.0     2.0     2.0     2.0     1.0     1.0     2.0     1.0     2.0     7.0   3.0     2.0     4.0   2.0   0.0     7.0     7.0   2.0     4.0   2.0     0.0     4.0     1.0   2.0   0.0   2.0   4.0     2.0     1.0   2.0     3.0   3.0   4.0     5.0   2.0   2.0     2.0     2.0     2.0     2.0     2.0     2.0   False    1\n                           3          1.0     1.0     2.0     1.0     1.0     1.0     2.0     1.0     2.0     1.0     1.0     2.0     2.0     2.0     2.0     2.0     1.0     2.0     2.0     2.0     2.0     1.0     1.0     1.0     1.0     2.0     3.0   5.0     7.0     2.0   0.0   0.0     1.0     1.0   7.0     0.0   3.0     3.0     3.0     1.0   2.0   0.0   2.0   3.0     4.0     1.0   2.0     3.0   3.0   4.0     5.0   3.0   3.0     2.0     2.0     2.0     2.0     2.0     2.0   False    1\n                           2          1.0     1.0     2.0     1.0     1.0     1.0     1.0     1.0     1.0     1.0     2.0     1.0     2.0     1.0     2.0     2.0     1.0     2.0     1.0     2.0     2.0     2.0     2.0     2.0     1.0     2.0     7.0   7.0     7.0     2.0   0.0   0.0     7.0     7.0   2.0     7.0   0.0     0.0     4.0     1.0   2.0   7.0   2.0   2.0     1.0     2.0   2.0     3.0   3.0   4.0     5.0   2.0   2.0     2.0     2.0     2.0     2.0     2.0     2.0   False    1\n53     5310220  530044434  13         1.0     1.0     3.0     1.0     1.0     2.0     1.0     1.0     1.0     1.0     1.0     1.0     2.0     1.0     1.0     2.0     1.0     2.0     2.0     2.0     2.0     1.0     2.0     2.0     1.0     2.0     7.0   4.0     6.0     2.0   0.0   4.0     0.0     5.0   3.0     7.0   2.0     0.0     3.0     3.0   1.0   0.0   2.0   3.0     3.0     2.0   2.0     3.0   3.0   4.0     5.0   1.0   2.0     1.0     1.0     2.0     2.0     2.0     2.0   False    1\nName: count, Length: 90846, dtype: int64"
     },
     "execution_count": 47,
     "metadata": {},
     "output_type": "execute_result"
    }
   ],
   "source": [
    "df.value_counts()"
   ],
   "metadata": {
    "collapsed": false,
    "ExecuteTime": {
     "start_time": "2023-04-26T20:37:20.966003Z",
     "end_time": "2023-04-26T20:37:21.099655Z"
    }
   }
  }
 ],
 "metadata": {
  "kernelspec": {
   "display_name": "Python 3",
   "language": "python",
   "name": "python3"
  },
  "language_info": {
   "codemirror_mode": {
    "name": "ipython",
    "version": 2
   },
   "file_extension": ".py",
   "mimetype": "text/x-python",
   "name": "python",
   "nbconvert_exporter": "python",
   "pygments_lexer": "ipython2",
   "version": "2.7.6"
  }
 },
 "nbformat": 4,
 "nbformat_minor": 0
}
